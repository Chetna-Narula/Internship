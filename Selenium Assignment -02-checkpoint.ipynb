{
 "cells": [
  {
   "cell_type": "markdown",
   "id": "58f5ebcd",
   "metadata": {},
   "source": [
    "### Answer No.01"
   ]
  },
  {
   "cell_type": "code",
   "execution_count": 3,
   "id": "49ddbfeb",
   "metadata": {},
   "outputs": [
    {
     "name": "stdout",
     "output_type": "stream",
     "text": [
      "Requirement already satisfied: selenium in c:\\users\\asus\\anaconda3\\lib\\site-packages (4.8.0)\n",
      "Requirement already satisfied: trio~=0.17 in c:\\users\\asus\\anaconda3\\lib\\site-packages (from selenium) (0.22.0)\n",
      "Requirement already satisfied: trio-websocket~=0.9 in c:\\users\\asus\\anaconda3\\lib\\site-packages (from selenium) (0.9.2)\n",
      "Requirement already satisfied: urllib3[socks]~=1.26 in c:\\users\\asus\\anaconda3\\lib\\site-packages (from selenium) (1.26.9)\n",
      "Requirement already satisfied: certifi>=2021.10.8 in c:\\users\\asus\\anaconda3\\lib\\site-packages (from selenium) (2021.10.8)\n",
      "Requirement already satisfied: outcome in c:\\users\\asus\\anaconda3\\lib\\site-packages (from trio~=0.17->selenium) (1.2.0)\n",
      "Requirement already satisfied: attrs>=19.2.0 in c:\\users\\asus\\anaconda3\\lib\\site-packages (from trio~=0.17->selenium) (21.4.0)\n",
      "Requirement already satisfied: sortedcontainers in c:\\users\\asus\\anaconda3\\lib\\site-packages (from trio~=0.17->selenium) (2.4.0)\n",
      "Requirement already satisfied: cffi>=1.14 in c:\\users\\asus\\anaconda3\\lib\\site-packages (from trio~=0.17->selenium) (1.15.0)\n",
      "Requirement already satisfied: idna in c:\\users\\asus\\anaconda3\\lib\\site-packages (from trio~=0.17->selenium) (3.3)\n",
      "Requirement already satisfied: exceptiongroup>=1.0.0rc9 in c:\\users\\asus\\anaconda3\\lib\\site-packages (from trio~=0.17->selenium) (1.1.0)\n",
      "Requirement already satisfied: async-generator>=1.9 in c:\\users\\asus\\anaconda3\\lib\\site-packages (from trio~=0.17->selenium) (1.10)\n",
      "Requirement already satisfied: sniffio in c:\\users\\asus\\anaconda3\\lib\\site-packages (from trio~=0.17->selenium) (1.2.0)\n",
      "Requirement already satisfied: pycparser in c:\\users\\asus\\anaconda3\\lib\\site-packages (from cffi>=1.14->trio~=0.17->selenium) (2.21)\n",
      "Requirement already satisfied: wsproto>=0.14 in c:\\users\\asus\\anaconda3\\lib\\site-packages (from trio-websocket~=0.9->selenium) (1.2.0)\n",
      "Requirement already satisfied: PySocks!=1.5.7,<2.0,>=1.5.6 in c:\\users\\asus\\anaconda3\\lib\\site-packages (from urllib3[socks]~=1.26->selenium) (1.7.1)\n",
      "Requirement already satisfied: h11<1,>=0.9.0 in c:\\users\\asus\\anaconda3\\lib\\site-packages (from wsproto>=0.14->trio-websocket~=0.9->selenium) (0.14.0)\n"
     ]
    }
   ],
   "source": [
    "!pip install selenium"
   ]
  },
  {
   "cell_type": "code",
   "execution_count": 4,
   "id": "74108142",
   "metadata": {},
   "outputs": [],
   "source": [
    "import selenium\n",
    "import pandas as pd\n",
    "from selenium import webdriver\n",
    "import warnings\n",
    "warnings.filterwarnings('ignore')\n",
    "from selenium.common.exceptions import StaleElementReferenceException,NoSuchElementException\n",
    "from selenium.webdriver.common.by import By\n",
    "import time"
   ]
  },
  {
   "cell_type": "markdown",
   "id": "e2f49fdf",
   "metadata": {},
   "source": [
    " Download the web driver\n",
    "from https://chromedriver.chromium.org/downloads"
   ]
  },
  {
   "cell_type": "code",
   "execution_count": 18,
   "id": "d4be8efa",
   "metadata": {},
   "outputs": [],
   "source": [
    "# first connect with the driver\n",
    "driver=webdriver.Chrome(r\"C:\\Users\\ASUS\\Downloads\\chromedriver_win32 (3)\\chromedriver.exe\")"
   ]
  },
  {
   "cell_type": "code",
   "execution_count": 19,
   "id": "3f214226",
   "metadata": {},
   "outputs": [],
   "source": [
    "# open the naukari page on automated chrome browser\n",
    "driver.get(\"https://www.naukri.com/\")"
   ]
  },
  {
   "cell_type": "code",
   "execution_count": 20,
   "id": "cab37e04",
   "metadata": {},
   "outputs": [],
   "source": [
    "# Entering designation and location as required in the question\n",
    "designation=driver.find_element(By.CLASS_NAME,\"suggestor-input \") # find element is used to scrap only one element.\n",
    "designation.send_keys('Data Analyst')"
   ]
  },
  {
   "cell_type": "code",
   "execution_count": 21,
   "id": "f7dbe9e8",
   "metadata": {},
   "outputs": [],
   "source": [
    "location=driver.find_element(By.XPATH,\"/html/body/div[1]/div[6]/div/div/div[5]/div/div/div/input\") # find element is used to scrap  one element.\n",
    "location.send_keys('Bangalore')"
   ]
  },
  {
   "cell_type": "code",
   "execution_count": 22,
   "id": "5b29cfbd",
   "metadata": {},
   "outputs": [],
   "source": [
    "search=driver.find_element(By.CLASS_NAME,\"qsbSubmit\")\n",
    "search.click()"
   ]
  },
  {
   "cell_type": "code",
   "execution_count": 23,
   "id": "9414594b",
   "metadata": {},
   "outputs": [],
   "source": [
    "job_title=[]\n",
    "job_location=[]\n",
    "experience_required=[]\n",
    "company_name=[]"
   ]
  },
  {
   "cell_type": "code",
   "execution_count": 31,
   "id": "0d8d85db",
   "metadata": {},
   "outputs": [],
   "source": [
    "# scraping the Job title from the given page\n",
    "title_tags=driver.find_elements(By.XPATH,'//a[@class=\"title ellipsis\"]') # find elements is used to scrap more than one element.# Relative XPATH\n",
    "for i in title_tags[0:10]:\n",
    "    title=i.text\n",
    "    job_title.append(title)  # //tag[@class='class name']\n",
    "    \n",
    "# scraping the Job location from the given page\n",
    "location_tags=driver.find_elements(By.XPATH,'//span[@class=\"ellipsis fleft locWdth\"]') # find elements is used to scrap more than one element.\n",
    "for i in location_tags[0:10]:\n",
    "    location=i.text\n",
    "    job_location.append(location)\n",
    "    \n",
    "# scraping the company name from the given page\n",
    "company_tags=driver.find_elements(By.XPATH,'//a[@class=\"subTitle ellipsis fleft\"]') # find elements is used to scrap more than one element.\n",
    "for i in company_tags[0:10]:\n",
    "    company=i.text\n",
    "    company_name.append(company)\n",
    "    \n",
    "# scraping the experience from the given page\n",
    "experience_tags=driver.find_elements(By.XPATH,'//span[@class=\"ellipsis fleft expwdth\"]') # find elements is used to scrap more than one element.\n",
    "for i in experience_tags[0:10]:\n",
    "    experience=i.text\n",
    "    experience_required.append(experience)"
   ]
  },
  {
   "cell_type": "code",
   "execution_count": 32,
   "id": "e3eed334",
   "metadata": {},
   "outputs": [
    {
     "name": "stdout",
     "output_type": "stream",
     "text": [
      "40 40 20 20\n"
     ]
    }
   ],
   "source": [
    "print(len(job_title),len(job_location),len(company_name),len(experience_required))"
   ]
  },
  {
   "cell_type": "code",
   "execution_count": 41,
   "id": "9bac1340",
   "metadata": {},
   "outputs": [
    {
     "data": {
      "text/plain": [
       "['Data Analyst',\n",
       " 'Data Analyst',\n",
       " 'Data Analyst Databricks',\n",
       " 'Data Analyst',\n",
       " 'Data Analyst',\n",
       " 'Required Data Analyst Off Role',\n",
       " 'Data Analyst | Google App Script',\n",
       " 'Data Analyst',\n",
       " 'Data Analyst',\n",
       " 'Data Analyst']"
      ]
     },
     "execution_count": 41,
     "metadata": {},
     "output_type": "execute_result"
    }
   ],
   "source": [
    "a=job_title[0:10]\n",
    "a"
   ]
  },
  {
   "cell_type": "code",
   "execution_count": 42,
   "id": "661a8c84",
   "metadata": {},
   "outputs": [
    {
     "data": {
      "text/plain": [
       "['Bangalore/Bengaluru',\n",
       " 'Hybrid - Bangalore/Bengaluru, Hyderabad/Secunderabad, Pune, Delhi / NCR, Mumbai (All Areas)',\n",
       " 'Bangalore/Bengaluru',\n",
       " 'Hybrid - Bangalore/Bengaluru',\n",
       " 'Bangalore/Bengaluru',\n",
       " 'Bangalore/Bengaluru',\n",
       " 'Bangalore/Bengaluru, Mumbai',\n",
       " 'Bangalore/Bengaluru',\n",
       " 'Bangalore/Bengaluru',\n",
       " 'Bangalore/Bengaluru']"
      ]
     },
     "execution_count": 42,
     "metadata": {},
     "output_type": "execute_result"
    }
   ],
   "source": [
    "b=job_location[0:10]\n",
    "b"
   ]
  },
  {
   "cell_type": "code",
   "execution_count": 43,
   "id": "70dbdea3",
   "metadata": {},
   "outputs": [
    {
     "data": {
      "text/plain": [
       "['Entrupy',\n",
       " 'EY',\n",
       " 'Optum',\n",
       " 'Allegis Group',\n",
       " 'Excellence And Eminence Llp',\n",
       " 'TeamLease',\n",
       " 'Webengage',\n",
       " 'Staffice Global',\n",
       " 'Qualitest',\n",
       " 'What Digital Technologies']"
      ]
     },
     "execution_count": 43,
     "metadata": {},
     "output_type": "execute_result"
    }
   ],
   "source": [
    "c=company_name[0:10]\n",
    "c"
   ]
  },
  {
   "cell_type": "code",
   "execution_count": 44,
   "id": "95bfdc97",
   "metadata": {},
   "outputs": [
    {
     "data": {
      "text/plain": [
       "['1-3 Yrs',\n",
       " '5-10 Yrs',\n",
       " '4-6 Yrs',\n",
       " '4-7 Yrs',\n",
       " '2-5 Yrs',\n",
       " '3-5 Yrs',\n",
       " '3-6 Yrs',\n",
       " '14-18 Yrs',\n",
       " '5-8 Yrs',\n",
       " '5-10 Yrs']"
      ]
     },
     "execution_count": 44,
     "metadata": {},
     "output_type": "execute_result"
    }
   ],
   "source": [
    "d=experience_required[0:10]\n",
    "d"
   ]
  },
  {
   "cell_type": "code",
   "execution_count": 45,
   "id": "6566521d",
   "metadata": {},
   "outputs": [
    {
     "data": {
      "text/html": [
       "<div>\n",
       "<style scoped>\n",
       "    .dataframe tbody tr th:only-of-type {\n",
       "        vertical-align: middle;\n",
       "    }\n",
       "\n",
       "    .dataframe tbody tr th {\n",
       "        vertical-align: top;\n",
       "    }\n",
       "\n",
       "    .dataframe thead th {\n",
       "        text-align: right;\n",
       "    }\n",
       "</style>\n",
       "<table border=\"1\" class=\"dataframe\">\n",
       "  <thead>\n",
       "    <tr style=\"text-align: right;\">\n",
       "      <th></th>\n",
       "      <th>Title</th>\n",
       "      <th>Location</th>\n",
       "      <th>Company Name</th>\n",
       "      <th>Experience</th>\n",
       "    </tr>\n",
       "  </thead>\n",
       "  <tbody>\n",
       "    <tr>\n",
       "      <th>0</th>\n",
       "      <td>Data Analyst</td>\n",
       "      <td>Bangalore/Bengaluru</td>\n",
       "      <td>Entrupy</td>\n",
       "      <td>1-3 Yrs</td>\n",
       "    </tr>\n",
       "    <tr>\n",
       "      <th>1</th>\n",
       "      <td>Data Analyst</td>\n",
       "      <td>Hybrid - Bangalore/Bengaluru, Hyderabad/Secund...</td>\n",
       "      <td>EY</td>\n",
       "      <td>5-10 Yrs</td>\n",
       "    </tr>\n",
       "    <tr>\n",
       "      <th>2</th>\n",
       "      <td>Data Analyst Databricks</td>\n",
       "      <td>Bangalore/Bengaluru</td>\n",
       "      <td>Optum</td>\n",
       "      <td>4-6 Yrs</td>\n",
       "    </tr>\n",
       "    <tr>\n",
       "      <th>3</th>\n",
       "      <td>Data Analyst</td>\n",
       "      <td>Hybrid - Bangalore/Bengaluru</td>\n",
       "      <td>Allegis Group</td>\n",
       "      <td>4-7 Yrs</td>\n",
       "    </tr>\n",
       "    <tr>\n",
       "      <th>4</th>\n",
       "      <td>Data Analyst</td>\n",
       "      <td>Bangalore/Bengaluru</td>\n",
       "      <td>Excellence And Eminence Llp</td>\n",
       "      <td>2-5 Yrs</td>\n",
       "    </tr>\n",
       "    <tr>\n",
       "      <th>5</th>\n",
       "      <td>Required Data Analyst Off Role</td>\n",
       "      <td>Bangalore/Bengaluru</td>\n",
       "      <td>TeamLease</td>\n",
       "      <td>3-5 Yrs</td>\n",
       "    </tr>\n",
       "    <tr>\n",
       "      <th>6</th>\n",
       "      <td>Data Analyst | Google App Script</td>\n",
       "      <td>Bangalore/Bengaluru, Mumbai</td>\n",
       "      <td>Webengage</td>\n",
       "      <td>3-6 Yrs</td>\n",
       "    </tr>\n",
       "    <tr>\n",
       "      <th>7</th>\n",
       "      <td>Data Analyst</td>\n",
       "      <td>Bangalore/Bengaluru</td>\n",
       "      <td>Staffice Global</td>\n",
       "      <td>14-18 Yrs</td>\n",
       "    </tr>\n",
       "    <tr>\n",
       "      <th>8</th>\n",
       "      <td>Data Analyst</td>\n",
       "      <td>Bangalore/Bengaluru</td>\n",
       "      <td>Qualitest</td>\n",
       "      <td>5-8 Yrs</td>\n",
       "    </tr>\n",
       "    <tr>\n",
       "      <th>9</th>\n",
       "      <td>Data Analyst</td>\n",
       "      <td>Bangalore/Bengaluru</td>\n",
       "      <td>What Digital Technologies</td>\n",
       "      <td>5-10 Yrs</td>\n",
       "    </tr>\n",
       "  </tbody>\n",
       "</table>\n",
       "</div>"
      ],
      "text/plain": [
       "                              Title  \\\n",
       "0                      Data Analyst   \n",
       "1                      Data Analyst   \n",
       "2           Data Analyst Databricks   \n",
       "3                      Data Analyst   \n",
       "4                      Data Analyst   \n",
       "5    Required Data Analyst Off Role   \n",
       "6  Data Analyst | Google App Script   \n",
       "7                      Data Analyst   \n",
       "8                      Data Analyst   \n",
       "9                      Data Analyst   \n",
       "\n",
       "                                            Location  \\\n",
       "0                                Bangalore/Bengaluru   \n",
       "1  Hybrid - Bangalore/Bengaluru, Hyderabad/Secund...   \n",
       "2                                Bangalore/Bengaluru   \n",
       "3                       Hybrid - Bangalore/Bengaluru   \n",
       "4                                Bangalore/Bengaluru   \n",
       "5                                Bangalore/Bengaluru   \n",
       "6                        Bangalore/Bengaluru, Mumbai   \n",
       "7                                Bangalore/Bengaluru   \n",
       "8                                Bangalore/Bengaluru   \n",
       "9                                Bangalore/Bengaluru   \n",
       "\n",
       "                  Company Name Experience  \n",
       "0                      Entrupy    1-3 Yrs  \n",
       "1                           EY   5-10 Yrs  \n",
       "2                        Optum    4-6 Yrs  \n",
       "3                Allegis Group    4-7 Yrs  \n",
       "4  Excellence And Eminence Llp    2-5 Yrs  \n",
       "5                    TeamLease    3-5 Yrs  \n",
       "6                    Webengage    3-6 Yrs  \n",
       "7              Staffice Global  14-18 Yrs  \n",
       "8                    Qualitest    5-8 Yrs  \n",
       "9    What Digital Technologies   5-10 Yrs  "
      ]
     },
     "execution_count": 45,
     "metadata": {},
     "output_type": "execute_result"
    }
   ],
   "source": [
    "df=pd.DataFrame({'Title':a,'Location':b,'Company Name':c,'Experience':d})\n",
    "df"
   ]
  },
  {
   "cell_type": "markdown",
   "id": "2e25e748",
   "metadata": {},
   "source": [
    "### Answer No.02"
   ]
  },
  {
   "cell_type": "code",
   "execution_count": 4,
   "id": "bc1c83ef",
   "metadata": {},
   "outputs": [],
   "source": [
    "# first connect with the driver\n",
    "driver2=webdriver.Chrome(r\"C:\\Users\\ASUS\\Downloads\\chromedriver_win32 (3)\\chromedriver.exe\")"
   ]
  },
  {
   "cell_type": "code",
   "execution_count": 6,
   "id": "a94a88d9",
   "metadata": {},
   "outputs": [],
   "source": [
    "driver2.get(\"https://www.naukri.com/\")"
   ]
  },
  {
   "cell_type": "code",
   "execution_count": 7,
   "id": "01842718",
   "metadata": {},
   "outputs": [],
   "source": [
    "designation2=driver2.find_element(By.CLASS_NAME,\"suggestor-input \") # find element is used to scrap only one element.\n",
    "designation2.send_keys('Data Scientist')"
   ]
  },
  {
   "cell_type": "code",
   "execution_count": 8,
   "id": "10d619eb",
   "metadata": {},
   "outputs": [],
   "source": [
    "location2=driver2.find_element(By.XPATH,\"/html/body/div[1]/div[6]/div/div/div[5]/div/div/div/input\") # find element is used to scrap  one element.\n",
    "location2.send_keys('Bangalore')"
   ]
  },
  {
   "cell_type": "code",
   "execution_count": 9,
   "id": "18985d65",
   "metadata": {},
   "outputs": [],
   "source": [
    "search2=driver2.find_element(By.CLASS_NAME,\"qsbSubmit\")\n",
    "search2.click()"
   ]
  },
  {
   "cell_type": "code",
   "execution_count": 10,
   "id": "04c5da0d",
   "metadata": {},
   "outputs": [],
   "source": [
    "job_title2=[]\n",
    "job_location2=[]\n",
    "experience_required2=[]\n",
    "company_name2=[]"
   ]
  },
  {
   "cell_type": "code",
   "execution_count": 11,
   "id": "1692e138",
   "metadata": {},
   "outputs": [],
   "source": [
    "# scraping the Job title from the given page\n",
    "title_tags2=driver2.find_elements(By.XPATH,'//a[@class=\"title ellipsis\"]') # find elements is used to scrap more than one element.# Relative XPATH\n",
    "for i in title_tags2[0:10]:\n",
    "    title2=i.text\n",
    "    job_title2.append(title2)  # //tag[@class='class name']\n",
    "    \n",
    "# scraping the Job location from the given page\n",
    "location_tags2=driver2.find_elements(By.XPATH,'//span[@class=\"ellipsis fleft locWdth\"]') # find elements is used to scrap more than one element.\n",
    "for i in location_tags2[0:10]:\n",
    "    location2=i.text\n",
    "    job_location2.append(location2)\n",
    "    \n",
    "# scraping the company name from the given page\n",
    "company_tags2=driver2.find_elements(By.XPATH,'//a[@class=\"subTitle ellipsis fleft\"]') # find elements is used to scrap more than one element.\n",
    "for i in company_tags2[0:10]:\n",
    "    company2=i.text\n",
    "    company_name2.append(company2)\n",
    "    \n",
    "# scraping the experience from the given page\n",
    "experience_tags2=driver2.find_elements(By.XPATH,'//span[@class=\"ellipsis fleft expwdth\"]') # find elements is used to scrap more than one element.\n",
    "for i in experience_tags2[0:10]:\n",
    "    experience2=i.text\n",
    "    experience_required2.append(experience2)"
   ]
  },
  {
   "cell_type": "code",
   "execution_count": 12,
   "id": "85a1530f",
   "metadata": {},
   "outputs": [
    {
     "name": "stdout",
     "output_type": "stream",
     "text": [
      "10 10 10 10\n"
     ]
    }
   ],
   "source": [
    "print(len(job_title2),len(job_location2),len(company_name2),len(experience_required2))"
   ]
  },
  {
   "cell_type": "code",
   "execution_count": 13,
   "id": "10f4b882",
   "metadata": {},
   "outputs": [
    {
     "data": {
      "text/html": [
       "<div>\n",
       "<style scoped>\n",
       "    .dataframe tbody tr th:only-of-type {\n",
       "        vertical-align: middle;\n",
       "    }\n",
       "\n",
       "    .dataframe tbody tr th {\n",
       "        vertical-align: top;\n",
       "    }\n",
       "\n",
       "    .dataframe thead th {\n",
       "        text-align: right;\n",
       "    }\n",
       "</style>\n",
       "<table border=\"1\" class=\"dataframe\">\n",
       "  <thead>\n",
       "    <tr style=\"text-align: right;\">\n",
       "      <th></th>\n",
       "      <th>Title</th>\n",
       "      <th>Location</th>\n",
       "      <th>Company Name</th>\n",
       "      <th>Experience</th>\n",
       "    </tr>\n",
       "  </thead>\n",
       "  <tbody>\n",
       "    <tr>\n",
       "      <th>0</th>\n",
       "      <td>Data Science Specialist</td>\n",
       "      <td>Bangalore/Bengaluru, Kolkata, Mumbai, Hyderaba...</td>\n",
       "      <td>Accenture</td>\n",
       "      <td>2-4 Yrs</td>\n",
       "    </tr>\n",
       "    <tr>\n",
       "      <th>1</th>\n",
       "      <td>Analystics &amp; Modeling Specialist</td>\n",
       "      <td>Bangalore/Bengaluru, Kolkata, Mumbai, Hyderaba...</td>\n",
       "      <td>Accenture</td>\n",
       "      <td>6-8 Yrs</td>\n",
       "    </tr>\n",
       "    <tr>\n",
       "      <th>2</th>\n",
       "      <td>Data Scientist</td>\n",
       "      <td>Hybrid - Bangalore/Bengaluru, Kolkata, Hyderab...</td>\n",
       "      <td>Cognizant</td>\n",
       "      <td>8-10 Yrs</td>\n",
       "    </tr>\n",
       "    <tr>\n",
       "      <th>3</th>\n",
       "      <td>Sr. Data scientist</td>\n",
       "      <td>Bangalore/Bengaluru, Hyderabad/Secunderabad, M...</td>\n",
       "      <td>Tata Consultancy Services (TCS)</td>\n",
       "      <td>7-12 Yrs</td>\n",
       "    </tr>\n",
       "    <tr>\n",
       "      <th>4</th>\n",
       "      <td>Data Scientist</td>\n",
       "      <td>Bangalore/Bengaluru, Noida, Kolkata, Mumbai, H...</td>\n",
       "      <td>Capgemini</td>\n",
       "      <td>9-14 Yrs</td>\n",
       "    </tr>\n",
       "    <tr>\n",
       "      <th>5</th>\n",
       "      <td>Lead Data Scientist</td>\n",
       "      <td>Bangalore/Bengaluru, Noida, Hyderabad/Secunder...</td>\n",
       "      <td>Birlasoft</td>\n",
       "      <td>8-12 Yrs</td>\n",
       "    </tr>\n",
       "    <tr>\n",
       "      <th>6</th>\n",
       "      <td>Data Scientist</td>\n",
       "      <td>Bangalore/Bengaluru, Noida, Indore, Pune, Gurg...</td>\n",
       "      <td>Impetus Technologies</td>\n",
       "      <td>4-8 Yrs</td>\n",
       "    </tr>\n",
       "    <tr>\n",
       "      <th>7</th>\n",
       "      <td>Expert Data Scientist</td>\n",
       "      <td>Bangalore/Bengaluru, Mumbai</td>\n",
       "      <td>UPL Limited</td>\n",
       "      <td>8-10 Yrs</td>\n",
       "    </tr>\n",
       "    <tr>\n",
       "      <th>8</th>\n",
       "      <td>Sr. Data Scientist</td>\n",
       "      <td>Bangalore/Bengaluru</td>\n",
       "      <td>Visa</td>\n",
       "      <td>4-8 Yrs</td>\n",
       "    </tr>\n",
       "    <tr>\n",
       "      <th>9</th>\n",
       "      <td>Data Scientist Architect</td>\n",
       "      <td>Temp. WFH - Bangalore/Bengaluru, Hyderabad/Sec...</td>\n",
       "      <td>Brace Infotech</td>\n",
       "      <td>11-20 Yrs</td>\n",
       "    </tr>\n",
       "  </tbody>\n",
       "</table>\n",
       "</div>"
      ],
      "text/plain": [
       "                              Title  \\\n",
       "0           Data Science Specialist   \n",
       "1  Analystics & Modeling Specialist   \n",
       "2                    Data Scientist   \n",
       "3                Sr. Data scientist   \n",
       "4                    Data Scientist   \n",
       "5               Lead Data Scientist   \n",
       "6                    Data Scientist   \n",
       "7             Expert Data Scientist   \n",
       "8                Sr. Data Scientist   \n",
       "9          Data Scientist Architect   \n",
       "\n",
       "                                            Location  \\\n",
       "0  Bangalore/Bengaluru, Kolkata, Mumbai, Hyderaba...   \n",
       "1  Bangalore/Bengaluru, Kolkata, Mumbai, Hyderaba...   \n",
       "2  Hybrid - Bangalore/Bengaluru, Kolkata, Hyderab...   \n",
       "3  Bangalore/Bengaluru, Hyderabad/Secunderabad, M...   \n",
       "4  Bangalore/Bengaluru, Noida, Kolkata, Mumbai, H...   \n",
       "5  Bangalore/Bengaluru, Noida, Hyderabad/Secunder...   \n",
       "6  Bangalore/Bengaluru, Noida, Indore, Pune, Gurg...   \n",
       "7                        Bangalore/Bengaluru, Mumbai   \n",
       "8                                Bangalore/Bengaluru   \n",
       "9  Temp. WFH - Bangalore/Bengaluru, Hyderabad/Sec...   \n",
       "\n",
       "                      Company Name Experience  \n",
       "0                        Accenture    2-4 Yrs  \n",
       "1                        Accenture    6-8 Yrs  \n",
       "2                        Cognizant   8-10 Yrs  \n",
       "3  Tata Consultancy Services (TCS)   7-12 Yrs  \n",
       "4                        Capgemini   9-14 Yrs  \n",
       "5                        Birlasoft   8-12 Yrs  \n",
       "6             Impetus Technologies    4-8 Yrs  \n",
       "7                      UPL Limited   8-10 Yrs  \n",
       "8                             Visa    4-8 Yrs  \n",
       "9                   Brace Infotech  11-20 Yrs  "
      ]
     },
     "execution_count": 13,
     "metadata": {},
     "output_type": "execute_result"
    }
   ],
   "source": [
    "df2=pd.DataFrame({'Title':job_title2,'Location':job_location2,'Company Name':company_name2,'Experience':experience_required2})\n",
    "df2"
   ]
  },
  {
   "cell_type": "markdown",
   "id": "b3702dd5",
   "metadata": {},
   "source": [
    "### Answer No.03"
   ]
  },
  {
   "cell_type": "code",
   "execution_count": 26,
   "id": "fe1e0144",
   "metadata": {},
   "outputs": [],
   "source": [
    "# first connect with the driver\n",
    "driver3=webdriver.Chrome(r\"C:\\Users\\ASUS\\Downloads\\chromedriver_win32 (3)\\chromedriver.exe\")# first connect with the driver"
   ]
  },
  {
   "cell_type": "code",
   "execution_count": 27,
   "id": "313509a5",
   "metadata": {},
   "outputs": [],
   "source": [
    "driver3.get(\"https://www.naukri.com/\")"
   ]
  },
  {
   "cell_type": "code",
   "execution_count": 28,
   "id": "7d7e326b",
   "metadata": {},
   "outputs": [],
   "source": [
    "designation3=driver3.find_element(By.CLASS_NAME,\"suggestor-input \") # find element is used to scrap only one element.\n",
    "designation3.send_keys('Data Scientist')"
   ]
  },
  {
   "cell_type": "code",
   "execution_count": 29,
   "id": "2c3fb513",
   "metadata": {},
   "outputs": [],
   "source": [
    "location3=driver3.find_element(By.XPATH,\"/html/body/div[1]/div[6]/div/div/div[5]/div/div/div/input\") # find element is used to scrap  one element.# Absolute XPATH\n",
    "location3.send_keys('Delhi/NCR')"
   ]
  },
  {
   "cell_type": "code",
   "execution_count": 30,
   "id": "605aeb70",
   "metadata": {},
   "outputs": [],
   "source": [
    "search3=driver3.find_element(By.CLASS_NAME,\"qsbSubmit\")\n",
    "search3.click()"
   ]
  },
  {
   "cell_type": "code",
   "execution_count": 40,
   "id": "64476d08",
   "metadata": {},
   "outputs": [],
   "source": [
    "salary_range3=driver3.find_element(By.XPATH,\"/html/body/div[1]/div[4]/div/div/section[1]/div[2]/div[1]/div[2]/div[2]/label/p/span[1]\") # find element is used to scrap only one element.\n",
    "salary_range3.click()"
   ]
  },
  {
   "cell_type": "code",
   "execution_count": 35,
   "id": "9f42bb0b",
   "metadata": {},
   "outputs": [],
   "source": [
    "job_title3=[]\n",
    "job_location3=[]\n",
    "experience_required3=[]\n",
    "company_name3=[]"
   ]
  },
  {
   "cell_type": "code",
   "execution_count": 41,
   "id": "9ce2484f",
   "metadata": {},
   "outputs": [],
   "source": [
    "# scraping the Job title from the given page\n",
    "title_tags3=driver3.find_elements(By.XPATH,'//a[@class=\"title ellipsis\"]') # find elements is used to scrap more than one element.# Relative XPATH\n",
    "for i in title_tags3[0:10]:\n",
    "    title3=i.text\n",
    "    job_title3.append(title3)  # //tag[@class='class name']\n",
    "    \n",
    "# scraping the Job location from the given page\n",
    "location_tags3=driver3.find_elements(By.XPATH,'//span[@class=\"ellipsis fleft locWdth\"]') # find elements is used to scrap more than one element.\n",
    "for i in location_tags3[0:10]:\n",
    "    location3=i.text\n",
    "    job_location3.append(location3)\n",
    "    \n",
    "# scraping the company name from the given page\n",
    "company_tags3=driver3.find_elements(By.XPATH,'//a[@class=\"subTitle ellipsis fleft\"]') # find elements is used to scrap more than one element.\n",
    "for i in company_tags3[0:10]:\n",
    "    company3=i.text\n",
    "    company_name3.append(company3)\n",
    "    \n",
    "# scraping the experience from the given page\n",
    "experience_tags3=driver3.find_elements(By.XPATH,'//span[@class=\"ellipsis fleft expwdth\"]') # find elements is used to scrap more than one element.\n",
    "for i in experience_tags3[0:10]:\n",
    "    experience3=i.text\n",
    "    experience_required3.append(experience3)"
   ]
  },
  {
   "cell_type": "code",
   "execution_count": 42,
   "id": "38ddd0f5",
   "metadata": {},
   "outputs": [
    {
     "name": "stdout",
     "output_type": "stream",
     "text": [
      "20 20 20 20\n"
     ]
    }
   ],
   "source": [
    "print(len(job_title3),len(job_location3),len(company_name3),len(experience_required3))"
   ]
  },
  {
   "cell_type": "code",
   "execution_count": 43,
   "id": "d58a57e9",
   "metadata": {},
   "outputs": [
    {
     "data": {
      "text/plain": [
       "['Data Scientist',\n",
       " 'Data Science Specialist',\n",
       " 'Analystics & Modeling Specialist',\n",
       " 'Sr. Data scientist',\n",
       " 'Data Scientist',\n",
       " 'Lead Data Scientist',\n",
       " 'Data Scientist',\n",
       " 'Expert Data Scientist',\n",
       " 'Sr. Data Scientist',\n",
       " 'Data Scientist Architect']"
      ]
     },
     "execution_count": 43,
     "metadata": {},
     "output_type": "execute_result"
    }
   ],
   "source": [
    "j=job_title3[0:10]\n",
    "j"
   ]
  },
  {
   "cell_type": "code",
   "execution_count": 44,
   "id": "3748a4ca",
   "metadata": {},
   "outputs": [
    {
     "data": {
      "text/plain": [
       "['Hybrid - Kolkata, Hyderabad/Secunderabad, Pune, Chennai, Bangalore/Bengaluru, Delhi / NCR, Mumbai (All Areas)',\n",
       " 'Kolkata, Mumbai, Hyderabad/Secunderabad, Pune, Chennai, Bangalore/Bengaluru',\n",
       " 'Kolkata, Mumbai, Hyderabad/Secunderabad, Pune, Chennai, Bangalore/Bengaluru',\n",
       " 'Hyderabad/Secunderabad, Bangalore/Bengaluru, Mumbai (All Areas)',\n",
       " 'Noida, Kolkata, Mumbai, Hyderabad/Secunderabad, Pune, Chennai, Gurgaon/Gurugram, Bangalore/Bengaluru',\n",
       " 'Noida, Hyderabad/Secunderabad, Pune, Chennai, Bangalore/Bengaluru, Mumbai (All Areas)',\n",
       " 'Noida, Indore, Pune, Gurgaon/Gurugram, Bangalore/Bengaluru',\n",
       " 'Mumbai, Bangalore/Bengaluru',\n",
       " 'Bangalore/Bengaluru',\n",
       " 'Temp. WFH - Hyderabad/Secunderabad, Bangalore/Bengaluru']"
      ]
     },
     "execution_count": 44,
     "metadata": {},
     "output_type": "execute_result"
    }
   ],
   "source": [
    "jl=job_location3[0:10]\n",
    "jl"
   ]
  },
  {
   "cell_type": "code",
   "execution_count": 45,
   "id": "940d0a2b",
   "metadata": {},
   "outputs": [
    {
     "data": {
      "text/plain": [
       "['Cognizant',\n",
       " 'Accenture',\n",
       " 'Accenture',\n",
       " 'Tata Consultancy Services (TCS)',\n",
       " 'Capgemini',\n",
       " 'Birlasoft',\n",
       " 'Impetus Technologies',\n",
       " 'UPL Limited',\n",
       " 'Visa',\n",
       " 'Brace Infotech']"
      ]
     },
     "execution_count": 45,
     "metadata": {},
     "output_type": "execute_result"
    }
   ],
   "source": [
    "cn=company_name3[0:10]\n",
    "cn"
   ]
  },
  {
   "cell_type": "code",
   "execution_count": 46,
   "id": "1cc53a0d",
   "metadata": {},
   "outputs": [
    {
     "data": {
      "text/plain": [
       "['8-10 Yrs',\n",
       " '2-4 Yrs',\n",
       " '6-8 Yrs',\n",
       " '7-12 Yrs',\n",
       " '9-14 Yrs',\n",
       " '8-12 Yrs',\n",
       " '4-8 Yrs',\n",
       " '8-10 Yrs',\n",
       " '4-8 Yrs',\n",
       " '11-20 Yrs']"
      ]
     },
     "execution_count": 46,
     "metadata": {},
     "output_type": "execute_result"
    }
   ],
   "source": [
    "er=experience_required3[0:10]\n",
    "er"
   ]
  },
  {
   "cell_type": "code",
   "execution_count": 47,
   "id": "ebabb323",
   "metadata": {},
   "outputs": [
    {
     "data": {
      "text/html": [
       "<div>\n",
       "<style scoped>\n",
       "    .dataframe tbody tr th:only-of-type {\n",
       "        vertical-align: middle;\n",
       "    }\n",
       "\n",
       "    .dataframe tbody tr th {\n",
       "        vertical-align: top;\n",
       "    }\n",
       "\n",
       "    .dataframe thead th {\n",
       "        text-align: right;\n",
       "    }\n",
       "</style>\n",
       "<table border=\"1\" class=\"dataframe\">\n",
       "  <thead>\n",
       "    <tr style=\"text-align: right;\">\n",
       "      <th></th>\n",
       "      <th>Title</th>\n",
       "      <th>Location</th>\n",
       "      <th>Company Name</th>\n",
       "      <th>Experience</th>\n",
       "    </tr>\n",
       "  </thead>\n",
       "  <tbody>\n",
       "    <tr>\n",
       "      <th>0</th>\n",
       "      <td>Data Scientist</td>\n",
       "      <td>Hybrid - Kolkata, Hyderabad/Secunderabad, Pune...</td>\n",
       "      <td>Cognizant</td>\n",
       "      <td>8-10 Yrs</td>\n",
       "    </tr>\n",
       "    <tr>\n",
       "      <th>1</th>\n",
       "      <td>Data Science Specialist</td>\n",
       "      <td>Kolkata, Mumbai, Hyderabad/Secunderabad, Pune,...</td>\n",
       "      <td>Accenture</td>\n",
       "      <td>2-4 Yrs</td>\n",
       "    </tr>\n",
       "    <tr>\n",
       "      <th>2</th>\n",
       "      <td>Analystics &amp; Modeling Specialist</td>\n",
       "      <td>Kolkata, Mumbai, Hyderabad/Secunderabad, Pune,...</td>\n",
       "      <td>Accenture</td>\n",
       "      <td>6-8 Yrs</td>\n",
       "    </tr>\n",
       "    <tr>\n",
       "      <th>3</th>\n",
       "      <td>Sr. Data scientist</td>\n",
       "      <td>Hyderabad/Secunderabad, Bangalore/Bengaluru, M...</td>\n",
       "      <td>Tata Consultancy Services (TCS)</td>\n",
       "      <td>7-12 Yrs</td>\n",
       "    </tr>\n",
       "    <tr>\n",
       "      <th>4</th>\n",
       "      <td>Data Scientist</td>\n",
       "      <td>Noida, Kolkata, Mumbai, Hyderabad/Secunderabad...</td>\n",
       "      <td>Capgemini</td>\n",
       "      <td>9-14 Yrs</td>\n",
       "    </tr>\n",
       "    <tr>\n",
       "      <th>5</th>\n",
       "      <td>Lead Data Scientist</td>\n",
       "      <td>Noida, Hyderabad/Secunderabad, Pune, Chennai, ...</td>\n",
       "      <td>Birlasoft</td>\n",
       "      <td>8-12 Yrs</td>\n",
       "    </tr>\n",
       "    <tr>\n",
       "      <th>6</th>\n",
       "      <td>Data Scientist</td>\n",
       "      <td>Noida, Indore, Pune, Gurgaon/Gurugram, Bangalo...</td>\n",
       "      <td>Impetus Technologies</td>\n",
       "      <td>4-8 Yrs</td>\n",
       "    </tr>\n",
       "    <tr>\n",
       "      <th>7</th>\n",
       "      <td>Expert Data Scientist</td>\n",
       "      <td>Mumbai, Bangalore/Bengaluru</td>\n",
       "      <td>UPL Limited</td>\n",
       "      <td>8-10 Yrs</td>\n",
       "    </tr>\n",
       "    <tr>\n",
       "      <th>8</th>\n",
       "      <td>Sr. Data Scientist</td>\n",
       "      <td>Bangalore/Bengaluru</td>\n",
       "      <td>Visa</td>\n",
       "      <td>4-8 Yrs</td>\n",
       "    </tr>\n",
       "    <tr>\n",
       "      <th>9</th>\n",
       "      <td>Data Scientist Architect</td>\n",
       "      <td>Temp. WFH - Hyderabad/Secunderabad, Bangalore/...</td>\n",
       "      <td>Brace Infotech</td>\n",
       "      <td>11-20 Yrs</td>\n",
       "    </tr>\n",
       "  </tbody>\n",
       "</table>\n",
       "</div>"
      ],
      "text/plain": [
       "                              Title  \\\n",
       "0                    Data Scientist   \n",
       "1           Data Science Specialist   \n",
       "2  Analystics & Modeling Specialist   \n",
       "3                Sr. Data scientist   \n",
       "4                    Data Scientist   \n",
       "5               Lead Data Scientist   \n",
       "6                    Data Scientist   \n",
       "7             Expert Data Scientist   \n",
       "8                Sr. Data Scientist   \n",
       "9          Data Scientist Architect   \n",
       "\n",
       "                                            Location  \\\n",
       "0  Hybrid - Kolkata, Hyderabad/Secunderabad, Pune...   \n",
       "1  Kolkata, Mumbai, Hyderabad/Secunderabad, Pune,...   \n",
       "2  Kolkata, Mumbai, Hyderabad/Secunderabad, Pune,...   \n",
       "3  Hyderabad/Secunderabad, Bangalore/Bengaluru, M...   \n",
       "4  Noida, Kolkata, Mumbai, Hyderabad/Secunderabad...   \n",
       "5  Noida, Hyderabad/Secunderabad, Pune, Chennai, ...   \n",
       "6  Noida, Indore, Pune, Gurgaon/Gurugram, Bangalo...   \n",
       "7                        Mumbai, Bangalore/Bengaluru   \n",
       "8                                Bangalore/Bengaluru   \n",
       "9  Temp. WFH - Hyderabad/Secunderabad, Bangalore/...   \n",
       "\n",
       "                      Company Name Experience  \n",
       "0                        Cognizant   8-10 Yrs  \n",
       "1                        Accenture    2-4 Yrs  \n",
       "2                        Accenture    6-8 Yrs  \n",
       "3  Tata Consultancy Services (TCS)   7-12 Yrs  \n",
       "4                        Capgemini   9-14 Yrs  \n",
       "5                        Birlasoft   8-12 Yrs  \n",
       "6             Impetus Technologies    4-8 Yrs  \n",
       "7                      UPL Limited   8-10 Yrs  \n",
       "8                             Visa    4-8 Yrs  \n",
       "9                   Brace Infotech  11-20 Yrs  "
      ]
     },
     "execution_count": 47,
     "metadata": {},
     "output_type": "execute_result"
    }
   ],
   "source": [
    "df3=pd.DataFrame({'Title':j,'Location':jl,'Company Name':cn,'Experience':er})\n",
    "df3"
   ]
  },
  {
   "cell_type": "markdown",
   "id": "aa74007e",
   "metadata": {},
   "source": [
    "### Answer No.04"
   ]
  },
  {
   "cell_type": "code",
   "execution_count": 3,
   "id": "e2f4f9f3",
   "metadata": {},
   "outputs": [],
   "source": [
    "# first connect with the driver\n",
    "driver4=webdriver.Chrome(r\"C:\\Users\\ASUS\\Downloads\\chromedriver_win32 (3)\\chromedriver.exe\")# first connect with the driver"
   ]
  },
  {
   "cell_type": "code",
   "execution_count": 4,
   "id": "c292ab33",
   "metadata": {},
   "outputs": [],
   "source": [
    "driver4.get(\"http://www.flipkart.com/\")"
   ]
  },
  {
   "cell_type": "code",
   "execution_count": 6,
   "id": "835a95ea",
   "metadata": {},
   "outputs": [],
   "source": [
    "product_name4=driver4.find_element(By.CLASS_NAME,\"_3704LK\") # find element is used to scrap only one element.\n",
    "product_name4.send_keys('Sunglasses')"
   ]
  },
  {
   "cell_type": "code",
   "execution_count": 7,
   "id": "8d8b2587",
   "metadata": {},
   "outputs": [],
   "source": [
    "search4=driver4.find_element(By.CLASS_NAME,\"L0Z3Pu\")\n",
    "search4.click()"
   ]
  },
  {
   "cell_type": "code",
   "execution_count": 27,
   "id": "bea7ddeb",
   "metadata": {},
   "outputs": [],
   "source": [
    "brand_names=[]\n",
    "start=1\n",
    "end=4\n",
    "for page4 in range(start,end):\n",
    "    names=driver4.find_elements(By.XPATH,'//div[@class=\"_2WkVRV\"]')\n",
    "    for bn in names:\n",
    "        brand_names.append(bn.text)\n",
    "    next_button4=driver4.find_element(By.XPATH,'//a[@class=\"_1LKTO3\"]')\n",
    "    next_button4.click()\n",
    "    time.sleep(3) # It gives the time of 3 sec to the page for the loading"
   ]
  },
  {
   "cell_type": "code",
   "execution_count": 28,
   "id": "2e788b99",
   "metadata": {},
   "outputs": [
    {
     "data": {
      "text/plain": [
       "120"
      ]
     },
     "execution_count": 28,
     "metadata": {},
     "output_type": "execute_result"
    }
   ],
   "source": [
    "len(brand_names)"
   ]
  },
  {
   "cell_type": "code",
   "execution_count": 32,
   "id": "2f477c0e",
   "metadata": {},
   "outputs": [
    {
     "data": {
      "text/plain": [
       "['PHENOMENAL',\n",
       " 'NuVew',\n",
       " 'kingsunglasses',\n",
       " 'ROZZETTA CRAFT',\n",
       " 'NuVew',\n",
       " 'NuVew',\n",
       " 'Fastrack',\n",
       " 'VINCENT CHASE',\n",
       " 'SUNBEE',\n",
       " 'VINCENT CHASE',\n",
       " 'SUNBEE',\n",
       " 'VINCENT CHASE',\n",
       " 'PIRASO',\n",
       " 'PIRASO',\n",
       " 'SKYZA INDIA',\n",
       " 'ROZZETTA CRAFT',\n",
       " 'VINCENT CHASE',\n",
       " 'kingsunglasses',\n",
       " 'GANSTA',\n",
       " 'VINCENT CHASE',\n",
       " 'PIRASO',\n",
       " 'Rich Club',\n",
       " 'Sewell',\n",
       " 'OAKLEY',\n",
       " 'Elligator',\n",
       " 'VINCENT CHASE',\n",
       " 'VINCENT CHASE',\n",
       " 'OAKLEY',\n",
       " 'VINCENT CHASE',\n",
       " 'Fastrack',\n",
       " 'PIRASO',\n",
       " 'OAKLEY',\n",
       " 'ROZZETTA CRAFT',\n",
       " 'PIRASO',\n",
       " 'VINCENT CHASE',\n",
       " 'OAKLEY',\n",
       " 'kingsunglasses',\n",
       " 'Fastrack',\n",
       " 'ROZZETTA CRAFT',\n",
       " 'OAKLEY',\n",
       " 'PHENOMENAL',\n",
       " 'NuVew',\n",
       " 'kingsunglasses',\n",
       " 'ROZZETTA CRAFT',\n",
       " 'NuVew',\n",
       " 'NuVew',\n",
       " 'Fastrack',\n",
       " 'VINCENT CHASE',\n",
       " 'SUNBEE',\n",
       " 'VINCENT CHASE',\n",
       " 'SUNBEE',\n",
       " 'VINCENT CHASE',\n",
       " 'PIRASO',\n",
       " 'PIRASO',\n",
       " 'SKYZA INDIA',\n",
       " 'ROZZETTA CRAFT',\n",
       " 'VINCENT CHASE',\n",
       " 'kingsunglasses',\n",
       " 'GANSTA',\n",
       " 'VINCENT CHASE',\n",
       " 'PIRASO',\n",
       " 'Rich Club',\n",
       " 'Sewell',\n",
       " 'OAKLEY',\n",
       " 'Elligator',\n",
       " 'VINCENT CHASE',\n",
       " 'VINCENT CHASE',\n",
       " 'OAKLEY',\n",
       " 'VINCENT CHASE',\n",
       " 'Fastrack',\n",
       " 'PIRASO',\n",
       " 'OAKLEY',\n",
       " 'ROZZETTA CRAFT',\n",
       " 'PIRASO',\n",
       " 'VINCENT CHASE',\n",
       " 'OAKLEY',\n",
       " 'kingsunglasses',\n",
       " 'Fastrack',\n",
       " 'ROZZETTA CRAFT',\n",
       " 'OAKLEY',\n",
       " 'PHENOMENAL',\n",
       " 'NuVew',\n",
       " 'kingsunglasses',\n",
       " 'ROZZETTA CRAFT',\n",
       " 'NuVew',\n",
       " 'NuVew',\n",
       " 'Fastrack',\n",
       " 'VINCENT CHASE',\n",
       " 'SUNBEE',\n",
       " 'VINCENT CHASE',\n",
       " 'SUNBEE',\n",
       " 'VINCENT CHASE',\n",
       " 'PIRASO',\n",
       " 'PIRASO',\n",
       " 'SKYZA INDIA',\n",
       " 'ROZZETTA CRAFT',\n",
       " 'VINCENT CHASE',\n",
       " 'kingsunglasses',\n",
       " 'GANSTA',\n",
       " 'VINCENT CHASE']"
      ]
     },
     "execution_count": 32,
     "metadata": {},
     "output_type": "execute_result"
    }
   ],
   "source": [
    "sbn=brand_names[0:100]\n",
    "sbn"
   ]
  },
  {
   "cell_type": "code",
   "execution_count": 33,
   "id": "9726e942",
   "metadata": {},
   "outputs": [
    {
     "data": {
      "text/plain": [
       "100"
      ]
     },
     "execution_count": 33,
     "metadata": {},
     "output_type": "execute_result"
    }
   ],
   "source": [
    "len(sbn)"
   ]
  },
  {
   "cell_type": "code",
   "execution_count": 34,
   "id": "7577f478",
   "metadata": {},
   "outputs": [],
   "source": [
    "brand_description=[]\n",
    "start=1\n",
    "end=4\n",
    "for page5 in range(start,end):\n",
    "    names5=driver4.find_elements(By.XPATH,'//a[@class=\"IRpwTa\"]')\n",
    "    for bd in names5:\n",
    "        brand_description.append(bd.text)\n",
    "    next_button5=driver4.find_element(By.XPATH,'//a[@class=\"_1LKTO3\"]')\n",
    "    next_button5.click()\n",
    "    time.sleep(3) # It gives the time of 3 sec to the page for the loading"
   ]
  },
  {
   "cell_type": "code",
   "execution_count": 35,
   "id": "242d8a9e",
   "metadata": {},
   "outputs": [
    {
     "data": {
      "text/plain": [
       "120"
      ]
     },
     "execution_count": 35,
     "metadata": {},
     "output_type": "execute_result"
    }
   ],
   "source": [
    "len(brand_description)"
   ]
  },
  {
   "cell_type": "code",
   "execution_count": 36,
   "id": "25d0dd50",
   "metadata": {},
   "outputs": [
    {
     "data": {
      "text/plain": [
       "['UV Protection Retro Square Sunglasses (53)',\n",
       " 'UV Protection Aviator Sunglasses (57)',\n",
       " 'UV Protection Retro Square Sunglasses (Free Size)',\n",
       " 'UV Protection Aviator Sunglasses (55)',\n",
       " 'UV Protection, Mirrored Wayfarer Sunglasses (58)',\n",
       " 'UV Protection, Mirrored Wayfarer Sunglasses (58)',\n",
       " 'UV Protection Sports Sunglasses (Free Size)',\n",
       " 'Polarized, UV Protection Round Sunglasses (50)',\n",
       " 'UV Protection Rectangular Sunglasses (Free Size)',\n",
       " 'by Lenskart Polarized, UV Protection Aviator Sunglasses...',\n",
       " 'UV Protection, Polarized Wayfarer Sunglasses (Free Size...',\n",
       " 'by Lenskart Polarized, UV Protection Retro Square Sungl...',\n",
       " 'UV Protection Aviator Sunglasses (54)',\n",
       " 'UV Protection Butterfly Sunglasses (60)',\n",
       " 'UV Protection Retro Square, Rectangular, Over-sized Sun...',\n",
       " 'UV Protection, Gradient Round Sunglasses (Free Size)',\n",
       " 'Polarized, UV Protection Round Sunglasses (50)',\n",
       " 'UV Protection Rectangular Sunglasses (Free Size)',\n",
       " 'Gradient, UV Protection Aviator Sunglasses (57)',\n",
       " 'by Lenskart Polarized, UV Protection Aviator Sunglasses...',\n",
       " 'UV Protection Over-sized Sunglasses (65)',\n",
       " 'UV Protection Retro Square Sunglasses (54)',\n",
       " 'Mirrored, Night Vision, UV Protection, Riding Glasses S...',\n",
       " 'Rectangular Sunglass',\n",
       " 'UV Protection Retro Square, Aviator Sunglasses (54)',\n",
       " 'by Lenskart Polarized, UV Protection Round Sunglasses (...',\n",
       " 'Polarized, UV Protection Rectangular Sunglasses (59)',\n",
       " 'Shield Sunglass',\n",
       " 'by Lenskart Polarized, UV Protection Round Sunglasses (...',\n",
       " 'UV Protection Rectangular Sunglasses (56)',\n",
       " 'UV Protection Wayfarer Sunglasses (32)',\n",
       " 'Rectangular Sunglass',\n",
       " 'Polarized, Riding Glasses Sports, Wrap-around Sunglasse...',\n",
       " 'UV Protection Wayfarer Sunglasses (55)',\n",
       " 'by Lenskart Polarized, UV Protection Rectangular Sungla...',\n",
       " 'Rectangular Sunglass',\n",
       " 'UV Protection, Night Vision Wayfarer Sunglasses (Free S...',\n",
       " 'UV Protection Wayfarer Sunglasses (Free Size)',\n",
       " 'UV Protection, Gradient Rectangular Sunglasses (Free Si...',\n",
       " 'Rectangular Sunglass',\n",
       " 'UV Protection Retro Square Sunglasses (53)',\n",
       " 'UV Protection Aviator Sunglasses (57)',\n",
       " 'UV Protection Retro Square Sunglasses (Free Size)',\n",
       " 'UV Protection Aviator Sunglasses (55)',\n",
       " 'UV Protection, Mirrored Wayfarer Sunglasses (58)',\n",
       " 'UV Protection, Mirrored Wayfarer Sunglasses (58)',\n",
       " 'UV Protection Sports Sunglasses (Free Size)',\n",
       " 'Polarized, UV Protection Round Sunglasses (50)',\n",
       " 'UV Protection Rectangular Sunglasses (Free Size)',\n",
       " 'by Lenskart Polarized, UV Protection Aviator Sunglasses...',\n",
       " 'UV Protection, Polarized Wayfarer Sunglasses (Free Size...',\n",
       " 'by Lenskart Polarized, UV Protection Retro Square Sungl...',\n",
       " 'UV Protection Aviator Sunglasses (54)',\n",
       " 'UV Protection Butterfly Sunglasses (60)',\n",
       " 'UV Protection Retro Square, Rectangular, Over-sized Sun...',\n",
       " 'UV Protection, Gradient Round Sunglasses (Free Size)',\n",
       " 'Polarized, UV Protection Round Sunglasses (50)',\n",
       " 'UV Protection Rectangular Sunglasses (Free Size)',\n",
       " 'Gradient, UV Protection Aviator Sunglasses (57)',\n",
       " 'by Lenskart Polarized, UV Protection Aviator Sunglasses...',\n",
       " 'UV Protection Over-sized Sunglasses (65)',\n",
       " 'UV Protection Retro Square Sunglasses (54)',\n",
       " 'Mirrored, Night Vision, UV Protection, Riding Glasses S...',\n",
       " 'Rectangular Sunglass',\n",
       " 'UV Protection Retro Square, Aviator Sunglasses (54)',\n",
       " 'by Lenskart Polarized, UV Protection Round Sunglasses (...',\n",
       " 'Polarized, UV Protection Rectangular Sunglasses (59)',\n",
       " 'Shield Sunglass',\n",
       " 'by Lenskart Polarized, UV Protection Round Sunglasses (...',\n",
       " 'UV Protection Rectangular Sunglasses (56)',\n",
       " 'UV Protection Wayfarer Sunglasses (32)',\n",
       " 'Rectangular Sunglass',\n",
       " 'Polarized, Riding Glasses Sports, Wrap-around Sunglasse...',\n",
       " 'UV Protection Wayfarer Sunglasses (55)',\n",
       " 'by Lenskart Polarized, UV Protection Rectangular Sungla...',\n",
       " 'Rectangular Sunglass',\n",
       " 'UV Protection, Night Vision Wayfarer Sunglasses (Free S...',\n",
       " 'UV Protection Wayfarer Sunglasses (Free Size)',\n",
       " 'UV Protection, Gradient Rectangular Sunglasses (Free Si...',\n",
       " 'Rectangular Sunglass',\n",
       " 'UV Protection Retro Square Sunglasses (53)',\n",
       " 'UV Protection Aviator Sunglasses (57)',\n",
       " 'UV Protection Retro Square Sunglasses (Free Size)',\n",
       " 'UV Protection Aviator Sunglasses (55)',\n",
       " 'UV Protection, Mirrored Wayfarer Sunglasses (58)',\n",
       " 'UV Protection, Mirrored Wayfarer Sunglasses (58)',\n",
       " 'UV Protection Sports Sunglasses (Free Size)',\n",
       " 'Polarized, UV Protection Round Sunglasses (50)',\n",
       " 'UV Protection Rectangular Sunglasses (Free Size)',\n",
       " 'by Lenskart Polarized, UV Protection Aviator Sunglasses...',\n",
       " 'UV Protection, Polarized Wayfarer Sunglasses (Free Size...',\n",
       " 'by Lenskart Polarized, UV Protection Retro Square Sungl...',\n",
       " 'UV Protection Aviator Sunglasses (54)',\n",
       " 'UV Protection Butterfly Sunglasses (60)',\n",
       " 'UV Protection Retro Square, Rectangular, Over-sized Sun...',\n",
       " 'UV Protection, Gradient Round Sunglasses (Free Size)',\n",
       " 'Polarized, UV Protection Round Sunglasses (50)',\n",
       " 'UV Protection Rectangular Sunglasses (Free Size)',\n",
       " 'Gradient, UV Protection Aviator Sunglasses (57)',\n",
       " 'by Lenskart Polarized, UV Protection Aviator Sunglasses...']"
      ]
     },
     "execution_count": 36,
     "metadata": {},
     "output_type": "execute_result"
    }
   ],
   "source": [
    "sbd=brand_description[0:100]\n",
    "sbd"
   ]
  },
  {
   "cell_type": "code",
   "execution_count": 37,
   "id": "b8f4c657",
   "metadata": {},
   "outputs": [
    {
     "data": {
      "text/plain": [
       "100"
      ]
     },
     "execution_count": 37,
     "metadata": {},
     "output_type": "execute_result"
    }
   ],
   "source": [
    "len(sbd)"
   ]
  },
  {
   "cell_type": "code",
   "execution_count": 38,
   "id": "1e8fb322",
   "metadata": {},
   "outputs": [],
   "source": [
    "brand_price=[]\n",
    "start=1\n",
    "end=4\n",
    "for page6 in range(start,end):\n",
    "    names6=driver4.find_elements(By.XPATH,'//div[@class=\"_30jeq3\"]')\n",
    "    for bp in names6:\n",
    "        brand_price.append(bp.text)\n",
    "    next_button6=driver4.find_element(By.XPATH,'//a[@class=\"_1LKTO3\"]')\n",
    "    next_button6.click()\n",
    "    time.sleep(3) # It gives the time of 3 sec to the page for the loading"
   ]
  },
  {
   "cell_type": "code",
   "execution_count": 39,
   "id": "7108b891",
   "metadata": {},
   "outputs": [
    {
     "data": {
      "text/plain": [
       "120"
      ]
     },
     "execution_count": 39,
     "metadata": {},
     "output_type": "execute_result"
    }
   ],
   "source": [
    "len(brand_price)"
   ]
  },
  {
   "cell_type": "code",
   "execution_count": 40,
   "id": "15d208b3",
   "metadata": {},
   "outputs": [
    {
     "data": {
      "text/plain": [
       "['₹179',\n",
       " '₹125',\n",
       " '₹269',\n",
       " '₹649',\n",
       " '₹99',\n",
       " '₹99',\n",
       " '₹619',\n",
       " '₹829',\n",
       " '₹185',\n",
       " '₹690',\n",
       " '₹273',\n",
       " '₹999',\n",
       " '₹212',\n",
       " '₹290',\n",
       " '₹277',\n",
       " '₹391',\n",
       " '₹799',\n",
       " '₹194',\n",
       " '₹299',\n",
       " '₹999',\n",
       " '₹342',\n",
       " '₹274',\n",
       " '₹281',\n",
       " '₹6,059',\n",
       " '₹249',\n",
       " '₹799',\n",
       " '₹929',\n",
       " '₹7,029',\n",
       " '₹664',\n",
       " '₹639',\n",
       " '₹214',\n",
       " '₹7,649',\n",
       " '₹499',\n",
       " '₹211',\n",
       " '₹799',\n",
       " '₹6,065',\n",
       " '₹281',\n",
       " '₹749',\n",
       " '₹377',\n",
       " '₹9,669',\n",
       " '₹179',\n",
       " '₹125',\n",
       " '₹269',\n",
       " '₹649',\n",
       " '₹99',\n",
       " '₹99',\n",
       " '₹619',\n",
       " '₹829',\n",
       " '₹185',\n",
       " '₹690',\n",
       " '₹273',\n",
       " '₹999',\n",
       " '₹212',\n",
       " '₹290',\n",
       " '₹277',\n",
       " '₹391',\n",
       " '₹799',\n",
       " '₹194',\n",
       " '₹299',\n",
       " '₹999',\n",
       " '₹342',\n",
       " '₹274',\n",
       " '₹281',\n",
       " '₹6,059',\n",
       " '₹249',\n",
       " '₹799',\n",
       " '₹929',\n",
       " '₹7,029',\n",
       " '₹664',\n",
       " '₹639',\n",
       " '₹214',\n",
       " '₹7,649',\n",
       " '₹499',\n",
       " '₹211',\n",
       " '₹799',\n",
       " '₹6,065',\n",
       " '₹281',\n",
       " '₹749',\n",
       " '₹377',\n",
       " '₹9,669',\n",
       " '₹179',\n",
       " '₹125',\n",
       " '₹269',\n",
       " '₹649',\n",
       " '₹99',\n",
       " '₹99',\n",
       " '₹619',\n",
       " '₹829',\n",
       " '₹185',\n",
       " '₹690',\n",
       " '₹273',\n",
       " '₹999',\n",
       " '₹212',\n",
       " '₹290',\n",
       " '₹277',\n",
       " '₹391',\n",
       " '₹799',\n",
       " '₹194',\n",
       " '₹299',\n",
       " '₹999']"
      ]
     },
     "execution_count": 40,
     "metadata": {},
     "output_type": "execute_result"
    }
   ],
   "source": [
    "sbp=brand_price[0:100]\n",
    "sbp"
   ]
  },
  {
   "cell_type": "code",
   "execution_count": 41,
   "id": "00cff19d",
   "metadata": {},
   "outputs": [
    {
     "data": {
      "text/plain": [
       "100"
      ]
     },
     "execution_count": 41,
     "metadata": {},
     "output_type": "execute_result"
    }
   ],
   "source": [
    "len(sbp)"
   ]
  },
  {
   "cell_type": "code",
   "execution_count": 42,
   "id": "2caa874f",
   "metadata": {},
   "outputs": [],
   "source": [
    "brand_discount=[]\n",
    "start=1\n",
    "end=4\n",
    "for page7 in range(start,end):\n",
    "    names7=driver4.find_elements(By.XPATH,'//div[@class=\"_3Ay6Sb\"]')\n",
    "    for spbd in names7:\n",
    "        brand_discount.append(spbd.text)\n",
    "    next_button7=driver4.find_element(By.XPATH,'//a[@class=\"_1LKTO3\"]')\n",
    "    next_button7.click()\n",
    "    time.sleep(3) # It gives the time of 3 sec to the page for the loading"
   ]
  },
  {
   "cell_type": "code",
   "execution_count": 43,
   "id": "e14d0303",
   "metadata": {},
   "outputs": [
    {
     "data": {
      "text/plain": [
       "120"
      ]
     },
     "execution_count": 43,
     "metadata": {},
     "output_type": "execute_result"
    }
   ],
   "source": [
    "len(brand_discount)"
   ]
  },
  {
   "cell_type": "code",
   "execution_count": 44,
   "id": "e666a665",
   "metadata": {},
   "outputs": [
    {
     "data": {
      "text/plain": [
       "['82% off',\n",
       " '83% off',\n",
       " '73% off',\n",
       " '74% off',\n",
       " '88% off',\n",
       " '88% off',\n",
       " '31% off',\n",
       " '58% off',\n",
       " '81% off',\n",
       " '65% off',\n",
       " '78% off',\n",
       " '50% off',\n",
       " '86% off',\n",
       " '88% off',\n",
       " '76% off',\n",
       " '80% off',\n",
       " '60% off',\n",
       " '80% off',\n",
       " '85% off',\n",
       " '50% off',\n",
       " '86% off',\n",
       " '60% off',\n",
       " '81% off',\n",
       " '12% off',\n",
       " '87% off',\n",
       " '60% off',\n",
       " '62% off',\n",
       " '20% off',\n",
       " '66% off',\n",
       " '20% off',\n",
       " '86% off',\n",
       " '11% off',\n",
       " '75% off',\n",
       " '86% off',\n",
       " '60% off',\n",
       " '19% off',\n",
       " '81% off',\n",
       " '25% off',\n",
       " '81% off',\n",
       " '20% off',\n",
       " '82% off',\n",
       " '83% off',\n",
       " '73% off',\n",
       " '74% off',\n",
       " '88% off',\n",
       " '88% off',\n",
       " '31% off',\n",
       " '58% off',\n",
       " '81% off',\n",
       " '65% off',\n",
       " '78% off',\n",
       " '50% off',\n",
       " '86% off',\n",
       " '88% off',\n",
       " '76% off',\n",
       " '80% off',\n",
       " '60% off',\n",
       " '80% off',\n",
       " '85% off',\n",
       " '50% off',\n",
       " '86% off',\n",
       " '60% off',\n",
       " '81% off',\n",
       " '12% off',\n",
       " '87% off',\n",
       " '60% off',\n",
       " '62% off',\n",
       " '20% off',\n",
       " '66% off',\n",
       " '20% off',\n",
       " '86% off',\n",
       " '11% off',\n",
       " '75% off',\n",
       " '86% off',\n",
       " '60% off',\n",
       " '19% off',\n",
       " '81% off',\n",
       " '25% off',\n",
       " '81% off',\n",
       " '20% off',\n",
       " '82% off',\n",
       " '83% off',\n",
       " '73% off',\n",
       " '74% off',\n",
       " '88% off',\n",
       " '88% off',\n",
       " '31% off',\n",
       " '58% off',\n",
       " '81% off',\n",
       " '65% off',\n",
       " '78% off',\n",
       " '50% off',\n",
       " '86% off',\n",
       " '88% off',\n",
       " '76% off',\n",
       " '80% off',\n",
       " '60% off',\n",
       " '80% off',\n",
       " '85% off',\n",
       " '50% off']"
      ]
     },
     "execution_count": 44,
     "metadata": {},
     "output_type": "execute_result"
    }
   ],
   "source": [
    "sbd100=brand_discount[0:100]\n",
    "sbd100"
   ]
  },
  {
   "cell_type": "code",
   "execution_count": 45,
   "id": "e2ab1e44",
   "metadata": {},
   "outputs": [
    {
     "data": {
      "text/plain": [
       "100"
      ]
     },
     "execution_count": 45,
     "metadata": {},
     "output_type": "execute_result"
    }
   ],
   "source": [
    "len(sbd100)"
   ]
  },
  {
   "cell_type": "code",
   "execution_count": 46,
   "id": "81e3028f",
   "metadata": {},
   "outputs": [
    {
     "data": {
      "text/html": [
       "<div>\n",
       "<style scoped>\n",
       "    .dataframe tbody tr th:only-of-type {\n",
       "        vertical-align: middle;\n",
       "    }\n",
       "\n",
       "    .dataframe tbody tr th {\n",
       "        vertical-align: top;\n",
       "    }\n",
       "\n",
       "    .dataframe thead th {\n",
       "        text-align: right;\n",
       "    }\n",
       "</style>\n",
       "<table border=\"1\" class=\"dataframe\">\n",
       "  <thead>\n",
       "    <tr style=\"text-align: right;\">\n",
       "      <th></th>\n",
       "      <th>Brand</th>\n",
       "      <th>Product Description</th>\n",
       "      <th>Price</th>\n",
       "      <th>Discount</th>\n",
       "    </tr>\n",
       "  </thead>\n",
       "  <tbody>\n",
       "    <tr>\n",
       "      <th>0</th>\n",
       "      <td>PHENOMENAL</td>\n",
       "      <td>UV Protection Retro Square Sunglasses (53)</td>\n",
       "      <td>₹179</td>\n",
       "      <td>82% off</td>\n",
       "    </tr>\n",
       "    <tr>\n",
       "      <th>1</th>\n",
       "      <td>NuVew</td>\n",
       "      <td>UV Protection Aviator Sunglasses (57)</td>\n",
       "      <td>₹125</td>\n",
       "      <td>83% off</td>\n",
       "    </tr>\n",
       "    <tr>\n",
       "      <th>2</th>\n",
       "      <td>kingsunglasses</td>\n",
       "      <td>UV Protection Retro Square Sunglasses (Free Size)</td>\n",
       "      <td>₹269</td>\n",
       "      <td>73% off</td>\n",
       "    </tr>\n",
       "    <tr>\n",
       "      <th>3</th>\n",
       "      <td>ROZZETTA CRAFT</td>\n",
       "      <td>UV Protection Aviator Sunglasses (55)</td>\n",
       "      <td>₹649</td>\n",
       "      <td>74% off</td>\n",
       "    </tr>\n",
       "    <tr>\n",
       "      <th>4</th>\n",
       "      <td>NuVew</td>\n",
       "      <td>UV Protection, Mirrored Wayfarer Sunglasses (58)</td>\n",
       "      <td>₹99</td>\n",
       "      <td>88% off</td>\n",
       "    </tr>\n",
       "    <tr>\n",
       "      <th>...</th>\n",
       "      <td>...</td>\n",
       "      <td>...</td>\n",
       "      <td>...</td>\n",
       "      <td>...</td>\n",
       "    </tr>\n",
       "    <tr>\n",
       "      <th>95</th>\n",
       "      <td>ROZZETTA CRAFT</td>\n",
       "      <td>UV Protection, Gradient Round Sunglasses (Free...</td>\n",
       "      <td>₹391</td>\n",
       "      <td>80% off</td>\n",
       "    </tr>\n",
       "    <tr>\n",
       "      <th>96</th>\n",
       "      <td>VINCENT CHASE</td>\n",
       "      <td>Polarized, UV Protection Round Sunglasses (50)</td>\n",
       "      <td>₹799</td>\n",
       "      <td>60% off</td>\n",
       "    </tr>\n",
       "    <tr>\n",
       "      <th>97</th>\n",
       "      <td>kingsunglasses</td>\n",
       "      <td>UV Protection Rectangular Sunglasses (Free Size)</td>\n",
       "      <td>₹194</td>\n",
       "      <td>80% off</td>\n",
       "    </tr>\n",
       "    <tr>\n",
       "      <th>98</th>\n",
       "      <td>GANSTA</td>\n",
       "      <td>Gradient, UV Protection Aviator Sunglasses (57)</td>\n",
       "      <td>₹299</td>\n",
       "      <td>85% off</td>\n",
       "    </tr>\n",
       "    <tr>\n",
       "      <th>99</th>\n",
       "      <td>VINCENT CHASE</td>\n",
       "      <td>by Lenskart Polarized, UV Protection Aviator S...</td>\n",
       "      <td>₹999</td>\n",
       "      <td>50% off</td>\n",
       "    </tr>\n",
       "  </tbody>\n",
       "</table>\n",
       "<p>100 rows × 4 columns</p>\n",
       "</div>"
      ],
      "text/plain": [
       "             Brand                                Product Description Price  \\\n",
       "0       PHENOMENAL         UV Protection Retro Square Sunglasses (53)  ₹179   \n",
       "1            NuVew              UV Protection Aviator Sunglasses (57)  ₹125   \n",
       "2   kingsunglasses  UV Protection Retro Square Sunglasses (Free Size)  ₹269   \n",
       "3   ROZZETTA CRAFT              UV Protection Aviator Sunglasses (55)  ₹649   \n",
       "4            NuVew   UV Protection, Mirrored Wayfarer Sunglasses (58)   ₹99   \n",
       "..             ...                                                ...   ...   \n",
       "95  ROZZETTA CRAFT  UV Protection, Gradient Round Sunglasses (Free...  ₹391   \n",
       "96   VINCENT CHASE     Polarized, UV Protection Round Sunglasses (50)  ₹799   \n",
       "97  kingsunglasses   UV Protection Rectangular Sunglasses (Free Size)  ₹194   \n",
       "98          GANSTA    Gradient, UV Protection Aviator Sunglasses (57)  ₹299   \n",
       "99   VINCENT CHASE  by Lenskart Polarized, UV Protection Aviator S...  ₹999   \n",
       "\n",
       "   Discount  \n",
       "0   82% off  \n",
       "1   83% off  \n",
       "2   73% off  \n",
       "3   74% off  \n",
       "4   88% off  \n",
       "..      ...  \n",
       "95  80% off  \n",
       "96  60% off  \n",
       "97  80% off  \n",
       "98  85% off  \n",
       "99  50% off  \n",
       "\n",
       "[100 rows x 4 columns]"
      ]
     },
     "execution_count": 46,
     "metadata": {},
     "output_type": "execute_result"
    }
   ],
   "source": [
    "df4=pd.DataFrame({'Brand':sbn,'Product Description':sbd,'Price':sbp,'Discount':sbd100})\n",
    "df4"
   ]
  },
  {
   "cell_type": "markdown",
   "id": "5f2e1f47",
   "metadata": {},
   "source": [
    "### Answer No.05"
   ]
  },
  {
   "cell_type": "code",
   "execution_count": 125,
   "id": "aabedb9a",
   "metadata": {},
   "outputs": [],
   "source": [
    "# first connect with the driver\n",
    "driver5=webdriver.Chrome(r\"C:\\Users\\ASUS\\Downloads\\chromedriver_win32 (3)\\chromedriver.exe\")# first connect with the driver"
   ]
  },
  {
   "cell_type": "code",
   "execution_count": 126,
   "id": "35125af1",
   "metadata": {},
   "outputs": [],
   "source": [
    "driver5.get(\"https://www.flipkart.com/apple-iphone-11-black-64-gb/product-reviews/itm4e5041ba101fd?pid=MOBFWQ6BXGJCEYNY&lid=LSTMOBFWQ6BXGJCEYNYZXSHRJ&marketplace=FLIPKART\")"
   ]
  },
  {
   "cell_type": "code",
   "execution_count": 115,
   "id": "b3576599",
   "metadata": {},
   "outputs": [],
   "source": [
    "phone_rating=[]\n",
    "start=1\n",
    "end=13\n",
    "for page71 in range(start,end):\n",
    "    names71=driver5.find_elements(By.XPATH,'//div[@class=\"_3LWZlK _1BLPMq\"]')\n",
    "    for spbd71 in names71:\n",
    "        phone_rating.append(spbd71.text)\n",
    "    next_button71=driver5.find_element(By.XPATH,'//a[@class=\"_1LKTO3\"]')\n",
    "    next_button71.click()\n",
    "    time.sleep(3) # It gives the time of 3 sec to the page for the loading"
   ]
  },
  {
   "cell_type": "code",
   "execution_count": 116,
   "id": "2fce3e43",
   "metadata": {},
   "outputs": [
    {
     "data": {
      "text/plain": [
       "120"
      ]
     },
     "execution_count": 116,
     "metadata": {},
     "output_type": "execute_result"
    }
   ],
   "source": [
    "len(phone_rating)"
   ]
  },
  {
   "cell_type": "code",
   "execution_count": 117,
   "id": "96b1072b",
   "metadata": {},
   "outputs": [
    {
     "data": {
      "text/plain": [
       "['5',\n",
       " '5',\n",
       " '5',\n",
       " '5',\n",
       " '4',\n",
       " '4',\n",
       " '5',\n",
       " '5',\n",
       " '5',\n",
       " '5',\n",
       " '5',\n",
       " '5',\n",
       " '4',\n",
       " '5',\n",
       " '5',\n",
       " '5',\n",
       " '5',\n",
       " '5',\n",
       " '5',\n",
       " '4',\n",
       " '5',\n",
       " '5',\n",
       " '5',\n",
       " '5',\n",
       " '4',\n",
       " '4',\n",
       " '5',\n",
       " '5',\n",
       " '5',\n",
       " '5',\n",
       " '5',\n",
       " '5',\n",
       " '4',\n",
       " '5',\n",
       " '5',\n",
       " '5',\n",
       " '5',\n",
       " '5',\n",
       " '5',\n",
       " '4',\n",
       " '5',\n",
       " '5',\n",
       " '5',\n",
       " '5',\n",
       " '4',\n",
       " '4',\n",
       " '5',\n",
       " '5',\n",
       " '5',\n",
       " '5',\n",
       " '5',\n",
       " '5',\n",
       " '4',\n",
       " '5',\n",
       " '5',\n",
       " '5',\n",
       " '5',\n",
       " '5',\n",
       " '5',\n",
       " '4',\n",
       " '5',\n",
       " '5',\n",
       " '5',\n",
       " '5',\n",
       " '4',\n",
       " '4',\n",
       " '5',\n",
       " '5',\n",
       " '5',\n",
       " '5',\n",
       " '5',\n",
       " '5',\n",
       " '4',\n",
       " '5',\n",
       " '5',\n",
       " '5',\n",
       " '5',\n",
       " '5',\n",
       " '5',\n",
       " '4',\n",
       " '5',\n",
       " '5',\n",
       " '5',\n",
       " '5',\n",
       " '4',\n",
       " '4',\n",
       " '5',\n",
       " '5',\n",
       " '5',\n",
       " '5',\n",
       " '5',\n",
       " '5',\n",
       " '4',\n",
       " '5',\n",
       " '5',\n",
       " '5',\n",
       " '5',\n",
       " '5',\n",
       " '5',\n",
       " '4']"
      ]
     },
     "execution_count": 117,
     "metadata": {},
     "output_type": "execute_result"
    }
   ],
   "source": [
    "pr=phone_rating[0:100]\n",
    "pr"
   ]
  },
  {
   "cell_type": "code",
   "execution_count": 118,
   "id": "c03dc49e",
   "metadata": {},
   "outputs": [
    {
     "data": {
      "text/plain": [
       "100"
      ]
     },
     "execution_count": 118,
     "metadata": {},
     "output_type": "execute_result"
    }
   ],
   "source": [
    "len(pr)"
   ]
  },
  {
   "cell_type": "code",
   "execution_count": 121,
   "id": "ff8abe55",
   "metadata": {},
   "outputs": [],
   "source": [
    "phone_review=[]\n",
    "start=1\n",
    "end=13\n",
    "for page72 in range(start,end):\n",
    "    names72=driver5.find_elements(By.XPATH,'//p[@class=\"_2-N8zT\"]')\n",
    "    for spbd72 in names72:\n",
    "        phone_review.append(spbd72.text)\n",
    "    next_button72=driver5.find_element(By.XPATH,'//a[@class=\"_1LKTO3\"]')\n",
    "    next_button72.click()\n",
    "    time.sleep(3) # It gives the time of 3 sec to the page for the loading"
   ]
  },
  {
   "cell_type": "code",
   "execution_count": 122,
   "id": "6accff61",
   "metadata": {},
   "outputs": [
    {
     "data": {
      "text/plain": [
       "120"
      ]
     },
     "execution_count": 122,
     "metadata": {},
     "output_type": "execute_result"
    }
   ],
   "source": [
    "len(phone_review)"
   ]
  },
  {
   "cell_type": "code",
   "execution_count": 123,
   "id": "c692ae6e",
   "metadata": {},
   "outputs": [
    {
     "data": {
      "text/plain": [
       "['Simply awesome',\n",
       " 'Perfect product!',\n",
       " 'Best in the market!',\n",
       " 'Value-for-money',\n",
       " 'Highly recommended',\n",
       " 'Worth every penny',\n",
       " 'Perfect product!',\n",
       " 'Highly recommended',\n",
       " 'Pretty good',\n",
       " 'Great product',\n",
       " 'Fabulous!',\n",
       " 'Classy product',\n",
       " 'Worth every penny',\n",
       " 'Perfect product!',\n",
       " 'Good choice',\n",
       " 'Value-for-money',\n",
       " 'Perfect product!',\n",
       " 'Highly recommended',\n",
       " 'Highly recommended',\n",
       " 'Perfect product!',\n",
       " 'Simply awesome',\n",
       " 'Perfect product!',\n",
       " 'Best in the market!',\n",
       " 'Value-for-money',\n",
       " 'Highly recommended',\n",
       " 'Worth every penny',\n",
       " 'Perfect product!',\n",
       " 'Highly recommended',\n",
       " 'Pretty good',\n",
       " 'Great product',\n",
       " 'Fabulous!',\n",
       " 'Classy product',\n",
       " 'Worth every penny',\n",
       " 'Perfect product!',\n",
       " 'Good choice',\n",
       " 'Value-for-money',\n",
       " 'Perfect product!',\n",
       " 'Highly recommended',\n",
       " 'Highly recommended',\n",
       " 'Perfect product!',\n",
       " 'Simply awesome',\n",
       " 'Perfect product!',\n",
       " 'Best in the market!',\n",
       " 'Value-for-money',\n",
       " 'Highly recommended',\n",
       " 'Worth every penny',\n",
       " 'Perfect product!',\n",
       " 'Highly recommended',\n",
       " 'Pretty good',\n",
       " 'Great product',\n",
       " 'Fabulous!',\n",
       " 'Classy product',\n",
       " 'Worth every penny',\n",
       " 'Perfect product!',\n",
       " 'Good choice',\n",
       " 'Value-for-money',\n",
       " 'Perfect product!',\n",
       " 'Highly recommended',\n",
       " 'Highly recommended',\n",
       " 'Perfect product!',\n",
       " 'Simply awesome',\n",
       " 'Perfect product!',\n",
       " 'Best in the market!',\n",
       " 'Value-for-money',\n",
       " 'Highly recommended',\n",
       " 'Worth every penny',\n",
       " 'Perfect product!',\n",
       " 'Highly recommended',\n",
       " 'Pretty good',\n",
       " 'Great product',\n",
       " 'Fabulous!',\n",
       " 'Classy product',\n",
       " 'Worth every penny',\n",
       " 'Perfect product!',\n",
       " 'Good choice',\n",
       " 'Value-for-money',\n",
       " 'Perfect product!',\n",
       " 'Highly recommended',\n",
       " 'Highly recommended',\n",
       " 'Perfect product!',\n",
       " 'Simply awesome',\n",
       " 'Perfect product!',\n",
       " 'Value-for-money',\n",
       " 'Best in the market!',\n",
       " 'Highly recommended',\n",
       " 'Worth every penny',\n",
       " 'Perfect product!',\n",
       " 'Highly recommended',\n",
       " 'Great product',\n",
       " 'Pretty good',\n",
       " 'Fabulous!',\n",
       " 'Classy product',\n",
       " 'Worth every penny',\n",
       " 'Perfect product!',\n",
       " 'Good choice',\n",
       " 'Value-for-money',\n",
       " 'Perfect product!',\n",
       " 'Highly recommended',\n",
       " 'Highly recommended',\n",
       " 'Perfect product!']"
      ]
     },
     "execution_count": 123,
     "metadata": {},
     "output_type": "execute_result"
    }
   ],
   "source": [
    "pre=phone_review[0:100]\n",
    "pre"
   ]
  },
  {
   "cell_type": "code",
   "execution_count": 124,
   "id": "d1b5a2ad",
   "metadata": {},
   "outputs": [
    {
     "data": {
      "text/plain": [
       "100"
      ]
     },
     "execution_count": 124,
     "metadata": {},
     "output_type": "execute_result"
    }
   ],
   "source": [
    "len(pre)"
   ]
  },
  {
   "cell_type": "code",
   "execution_count": 127,
   "id": "1de3dff7",
   "metadata": {},
   "outputs": [],
   "source": [
    "phone_full_review=[]\n",
    "start=1\n",
    "end=13\n",
    "for page73 in range(start,end):\n",
    "    names73=driver5.find_elements(By.XPATH,'//div[@class=\"t-ZTKy\"]')\n",
    "    for spbd73 in names73:\n",
    "        phone_full_review.append(spbd73.text)\n",
    "    next_button73=driver5.find_element(By.XPATH,'//a[@class=\"_1LKTO3\"]')\n",
    "    next_button73.click()\n",
    "    time.sleep(3) # It gives the time of 3 sec to the page for the loading"
   ]
  },
  {
   "cell_type": "code",
   "execution_count": 128,
   "id": "8537a6de",
   "metadata": {},
   "outputs": [
    {
     "data": {
      "text/plain": [
       "120"
      ]
     },
     "execution_count": 128,
     "metadata": {},
     "output_type": "execute_result"
    }
   ],
   "source": [
    "len(phone_full_review)"
   ]
  },
  {
   "cell_type": "code",
   "execution_count": 129,
   "id": "af2b3466",
   "metadata": {},
   "outputs": [
    {
     "data": {
      "text/plain": [
       "['Really satisfied with the Product I received... It’s totally genuine and the packaging was also really good so if ur planning to buy just go for it.',\n",
       " 'Amazing phone with great cameras and better battery which gives you the best performance. I just love the camera .',\n",
       " \"I'm Really happy with the product\\nDelivery was fast as well\\n..it was a gift for my sister and she loved it so much.\",\n",
       " 'Great iPhone very snappy experience as apple kind. Upgraded from iPhone 7.\\nPros\\n-Camera top class\\n- Battery top performed\\n-Chipset no need to say as apple kind\\n-Security as you expect from apple\\n- Display super bright industry leading colour\\naccuracy and super responsive\\n-Build quality as expect from apple sturdy\\npremium durable beautiful stylish.\\n-Os most stable os in smartphone industry\\n\\nCons\\n-No 5G\\n-Display is not based on OLED technology\\n-Charger headphones and 1 apple stic...\\nREAD MORE',\n",
       " \"It's my first time to use iOS phone and I am loving my upgradation 😍😍 I love the color, I love the assebility of the phone....I need to learn more about its functionality, but as far as I have seen, it's quite easy and it has a lot of functions to work on, specially if you are a content writer or a blogger you get a lot of content creation platforms and they are really amazing.\\n\\nThis phone not only for good quality photography but a lot of other task too.😍💯\",\n",
       " 'Previously I was using one plus 3t it was a great phone\\nAnd then I decided to upgrade I am stuck between Samsung s10 plus or iPhone 11\\nI have seen the specs and everything were good except the display it’s somewhere between 720-1080 and it’s not even an amoled it’s an LCD display\\nBut I decided to go with iPhone because I have never used an IOS device I have Been an android user from the past 9 years I ordered IPhone 11 (128gb) product red\\nMy experience after using 3 weeks\\n1. The delivery ...\\nREAD MORE',\n",
       " 'Value for money\\n5 star rating\\nExcellent camera\\nBattery backup full day in single charge.\\n\\nTougher and water resistant design, glossy back.\\nThe screen has excellent brightness and contrast.\\nApple A13 Bionic is the fastest smartphone chip on the planet.\\nExcellent battery life, fast charging support.\\nStereo speakers with great quality.',\n",
       " 'What a camera .....just awesome ..you can feel this iPhone just awesome . Good for gaming also ...try pubg in hd it’s just wow',\n",
       " 'Amazing Powerful and Durable Gadget.\\n\\nI’m am very happy with the camera picture quality, Amazing face id unlocked in dark room, Strong battery with perfect screen size as you can carry easily in pocket. This is my third iPhone.\\n\\nI shifted from android Samsung Note series to iPhone because of the strong build quality and peace of mind for next 3-4 years.\\n\\nDon’t think to much just go for it and I suggest you to go for minimum 128gb variant or more 256gb.\\n\\nI’ve attached my puppy pics and no fi...\\nREAD MORE',\n",
       " 'I was using Iphone 6s and also Oneplus 6t. Both mobiles were perfectly alright in Photos, gaming, and smooth interface . My 6s mobile getting battery issue. thought upgrade to 11. Really like this mobile of its Internal storage (compare to 6s) , camera and its touch feeling. Its a worth buying mobile for me.',\n",
       " 'This is my first iOS phone. I am very happy with this product. Very much satisfied with this. I love this phone.',\n",
       " 'Best and amazing product.....phone looks so premium.... battary is also good as expected .... Wide angle camera is so addictive ...if you are a IOS lover....then this phone will be the best choice for you all!!💯🔥',\n",
       " 'i11 is worthy to buy, too much happy with the product. Thank u flipkart I received the item on time..loved it..',\n",
       " 'It’s a must buy who is looking for an upgrade from previous generation of iPhones. If you are using XR then still you can hold on for sometime and upgrade to 2020 model else this phone is a must buy . Camera quality is amazing and wide angle is something to count upon. Performance wise it’s amazing and feels premium while holding in hand. So a big YES for this device. Go for 128 GB variant as the 4K videos will occupy lots of space and the storage can get over very quickly. Try to buy it with...\\nREAD MORE',\n",
       " 'So far it’s been an AMAZING experience coming back to iOS after nearly a decade but it’s not as versatile as android though phone is sturdy dropped it accidentally a couple of times and nothing happened fortunately camera is awesome',\n",
       " \"Just got this iphone 11\\nAnd it is most powerful mobile phone I have used ever\\n\\nSo,go for it if you want a phone with best specification like camera,battery backup,display, A13 bionic chip\\n\\nThat's my review about this phone but yours can be differ from me....\",\n",
       " 'Value for money❤️❤️\\nIts awesome mobile phone in the world ...\\nDisplay was very good and bright ..\\nTrust me freinds you r never regret after Buying..\\nJust go for it....\\nI love this phone and i switch to iphone x to 11',\n",
       " 'iphone 11 is a very good phone to buy only if you can compromise for the display. The display on this is device is pretty good but you can get other options with better displays in this price segment.\\nIf you can survive with an HD+ LCD panel with thicker bezels and a notch up top then this is a very good phone for you.\\nCameras are awesome, battery backup excellent, great performance and a decent premium look. Good job Apple !',\n",
       " 'Amazing camera quality as expected, battery also has very good performance. Display, body, and touch experience is the best I’ve ever had. Sound quality of speakers is more than sufficient. Apple is known for it’s customer friendly security services and I can see it how. The A13 processor is the best in its work. So I would definitely recommend it for everyone who are looking for it, just go for it without delay.\\n\\nThe most amazing thing it the delivery. Flipkart has delivered it in the span ...\\nREAD MORE',\n",
       " 'It is just awesome mobile for this price from Apple,\\n\\nAfter 10 days review\\n\\nBattery enough for 1 day even 24*7 Internet will be on and mostly internet usage\\n\\nCamera is just awesome cool , android 64 MP is equal to this just 12 MP\\n\\nA13 Bionic chip will give more high performance without hanging\\n\\nAudio stereo speakers will give Dolby atoms sound with crystal clear\\n\\nVideo recording is like cinematic shots of every sec can be a 4K 60fps. Just awesome this phone\\niPhone 11 loved one',\n",
       " 'Really satisfied with the Product I received... It’s totally genuine and the packaging was also really good so if ur planning to buy just go for it.',\n",
       " 'Amazing phone with great cameras and better battery which gives you the best performance. I just love the camera .',\n",
       " \"I'm Really happy with the product\\nDelivery was fast as well\\n..it was a gift for my sister and she loved it so much.\",\n",
       " 'Great iPhone very snappy experience as apple kind. Upgraded from iPhone 7.\\nPros\\n-Camera top class\\n- Battery top performed\\n-Chipset no need to say as apple kind\\n-Security as you expect from apple\\n- Display super bright industry leading colour\\naccuracy and super responsive\\n-Build quality as expect from apple sturdy\\npremium durable beautiful stylish.\\n-Os most stable os in smartphone industry\\n\\nCons\\n-No 5G\\n-Display is not based on OLED technology\\n-Charger headphones and 1 apple stic...\\nREAD MORE',\n",
       " \"It's my first time to use iOS phone and I am loving my upgradation 😍😍 I love the color, I love the assebility of the phone....I need to learn more about its functionality, but as far as I have seen, it's quite easy and it has a lot of functions to work on, specially if you are a content writer or a blogger you get a lot of content creation platforms and they are really amazing.\\n\\nThis phone not only for good quality photography but a lot of other task too.😍💯\",\n",
       " 'Previously I was using one plus 3t it was a great phone\\nAnd then I decided to upgrade I am stuck between Samsung s10 plus or iPhone 11\\nI have seen the specs and everything were good except the display it’s somewhere between 720-1080 and it’s not even an amoled it’s an LCD display\\nBut I decided to go with iPhone because I have never used an IOS device I have Been an android user from the past 9 years I ordered IPhone 11 (128gb) product red\\nMy experience after using 3 weeks\\n1. The delivery ...\\nREAD MORE',\n",
       " 'Value for money\\n5 star rating\\nExcellent camera\\nBattery backup full day in single charge.\\n\\nTougher and water resistant design, glossy back.\\nThe screen has excellent brightness and contrast.\\nApple A13 Bionic is the fastest smartphone chip on the planet.\\nExcellent battery life, fast charging support.\\nStereo speakers with great quality.',\n",
       " 'What a camera .....just awesome ..you can feel this iPhone just awesome . Good for gaming also ...try pubg in hd it’s just wow',\n",
       " 'Amazing Powerful and Durable Gadget.\\n\\nI’m am very happy with the camera picture quality, Amazing face id unlocked in dark room, Strong battery with perfect screen size as you can carry easily in pocket. This is my third iPhone.\\n\\nI shifted from android Samsung Note series to iPhone because of the strong build quality and peace of mind for next 3-4 years.\\n\\nDon’t think to much just go for it and I suggest you to go for minimum 128gb variant or more 256gb.\\n\\nI’ve attached my puppy pics and no fi...\\nREAD MORE',\n",
       " 'I was using Iphone 6s and also Oneplus 6t. Both mobiles were perfectly alright in Photos, gaming, and smooth interface . My 6s mobile getting battery issue. thought upgrade to 11. Really like this mobile of its Internal storage (compare to 6s) , camera and its touch feeling. Its a worth buying mobile for me.',\n",
       " 'This is my first iOS phone. I am very happy with this product. Very much satisfied with this. I love this phone.',\n",
       " 'Best and amazing product.....phone looks so premium.... battary is also good as expected .... Wide angle camera is so addictive ...if you are a IOS lover....then this phone will be the best choice for you all!!💯🔥',\n",
       " 'i11 is worthy to buy, too much happy with the product. Thank u flipkart I received the item on time..loved it..',\n",
       " 'It’s a must buy who is looking for an upgrade from previous generation of iPhones. If you are using XR then still you can hold on for sometime and upgrade to 2020 model else this phone is a must buy . Camera quality is amazing and wide angle is something to count upon. Performance wise it’s amazing and feels premium while holding in hand. So a big YES for this device. Go for 128 GB variant as the 4K videos will occupy lots of space and the storage can get over very quickly. Try to buy it with...\\nREAD MORE',\n",
       " 'So far it’s been an AMAZING experience coming back to iOS after nearly a decade but it’s not as versatile as android though phone is sturdy dropped it accidentally a couple of times and nothing happened fortunately camera is awesome',\n",
       " \"Just got this iphone 11\\nAnd it is most powerful mobile phone I have used ever\\n\\nSo,go for it if you want a phone with best specification like camera,battery backup,display, A13 bionic chip\\n\\nThat's my review about this phone but yours can be differ from me....\",\n",
       " 'Value for money❤️❤️\\nIts awesome mobile phone in the world ...\\nDisplay was very good and bright ..\\nTrust me freinds you r never regret after Buying..\\nJust go for it....\\nI love this phone and i switch to iphone x to 11',\n",
       " 'iphone 11 is a very good phone to buy only if you can compromise for the display. The display on this is device is pretty good but you can get other options with better displays in this price segment.\\nIf you can survive with an HD+ LCD panel with thicker bezels and a notch up top then this is a very good phone for you.\\nCameras are awesome, battery backup excellent, great performance and a decent premium look. Good job Apple !',\n",
       " 'Amazing camera quality as expected, battery also has very good performance. Display, body, and touch experience is the best I’ve ever had. Sound quality of speakers is more than sufficient. Apple is known for it’s customer friendly security services and I can see it how. The A13 processor is the best in its work. So I would definitely recommend it for everyone who are looking for it, just go for it without delay.\\n\\nThe most amazing thing it the delivery. Flipkart has delivered it in the span ...\\nREAD MORE',\n",
       " 'It is just awesome mobile for this price from Apple,\\n\\nAfter 10 days review\\n\\nBattery enough for 1 day even 24*7 Internet will be on and mostly internet usage\\n\\nCamera is just awesome cool , android 64 MP is equal to this just 12 MP\\n\\nA13 Bionic chip will give more high performance without hanging\\n\\nAudio stereo speakers will give Dolby atoms sound with crystal clear\\n\\nVideo recording is like cinematic shots of every sec can be a 4K 60fps. Just awesome this phone\\niPhone 11 loved one',\n",
       " 'Really satisfied with the Product I received... It’s totally genuine and the packaging was also really good so if ur planning to buy just go for it.',\n",
       " 'Amazing phone with great cameras and better battery which gives you the best performance. I just love the camera .',\n",
       " \"I'm Really happy with the product\\nDelivery was fast as well\\n..it was a gift for my sister and she loved it so much.\",\n",
       " 'Great iPhone very snappy experience as apple kind. Upgraded from iPhone 7.\\nPros\\n-Camera top class\\n- Battery top performed\\n-Chipset no need to say as apple kind\\n-Security as you expect from apple\\n- Display super bright industry leading colour\\naccuracy and super responsive\\n-Build quality as expect from apple sturdy\\npremium durable beautiful stylish.\\n-Os most stable os in smartphone industry\\n\\nCons\\n-No 5G\\n-Display is not based on OLED technology\\n-Charger headphones and 1 apple stic...\\nREAD MORE',\n",
       " \"It's my first time to use iOS phone and I am loving my upgradation 😍😍 I love the color, I love the assebility of the phone....I need to learn more about its functionality, but as far as I have seen, it's quite easy and it has a lot of functions to work on, specially if you are a content writer or a blogger you get a lot of content creation platforms and they are really amazing.\\n\\nThis phone not only for good quality photography but a lot of other task too.😍💯\",\n",
       " 'Previously I was using one plus 3t it was a great phone\\nAnd then I decided to upgrade I am stuck between Samsung s10 plus or iPhone 11\\nI have seen the specs and everything were good except the display it’s somewhere between 720-1080 and it’s not even an amoled it’s an LCD display\\nBut I decided to go with iPhone because I have never used an IOS device I have Been an android user from the past 9 years I ordered IPhone 11 (128gb) product red\\nMy experience after using 3 weeks\\n1. The delivery ...\\nREAD MORE',\n",
       " 'Value for money\\n5 star rating\\nExcellent camera\\nBattery backup full day in single charge.\\n\\nTougher and water resistant design, glossy back.\\nThe screen has excellent brightness and contrast.\\nApple A13 Bionic is the fastest smartphone chip on the planet.\\nExcellent battery life, fast charging support.\\nStereo speakers with great quality.',\n",
       " 'What a camera .....just awesome ..you can feel this iPhone just awesome . Good for gaming also ...try pubg in hd it’s just wow',\n",
       " 'Amazing Powerful and Durable Gadget.\\n\\nI’m am very happy with the camera picture quality, Amazing face id unlocked in dark room, Strong battery with perfect screen size as you can carry easily in pocket. This is my third iPhone.\\n\\nI shifted from android Samsung Note series to iPhone because of the strong build quality and peace of mind for next 3-4 years.\\n\\nDon’t think to much just go for it and I suggest you to go for minimum 128gb variant or more 256gb.\\n\\nI’ve attached my puppy pics and no fi...\\nREAD MORE',\n",
       " 'I was using Iphone 6s and also Oneplus 6t. Both mobiles were perfectly alright in Photos, gaming, and smooth interface . My 6s mobile getting battery issue. thought upgrade to 11. Really like this mobile of its Internal storage (compare to 6s) , camera and its touch feeling. Its a worth buying mobile for me.',\n",
       " 'Really satisfied with the Product I received... It’s totally genuine and the packaging was also really good so if ur planning to buy just go for it.',\n",
       " 'Amazing phone with great cameras and better battery which gives you the best performance. I just love the camera .',\n",
       " \"I'm Really happy with the product\\nDelivery was fast as well\\n..it was a gift for my sister and she loved it so much.\",\n",
       " 'Great iPhone very snappy experience as apple kind. Upgraded from iPhone 7.\\nPros\\n-Camera top class\\n- Battery top performed\\n-Chipset no need to say as apple kind\\n-Security as you expect from apple\\n- Display super bright industry leading colour\\naccuracy and super responsive\\n-Build quality as expect from apple sturdy\\npremium durable beautiful stylish.\\n-Os most stable os in smartphone industry\\n\\nCons\\n-No 5G\\n-Display is not based on OLED technology\\n-Charger headphones and 1 apple stic...\\nREAD MORE',\n",
       " \"It's my first time to use iOS phone and I am loving my upgradation 😍😍 I love the color, I love the assebility of the phone....I need to learn more about its functionality, but as far as I have seen, it's quite easy and it has a lot of functions to work on, specially if you are a content writer or a blogger you get a lot of content creation platforms and they are really amazing.\\n\\nThis phone not only for good quality photography but a lot of other task too.😍💯\",\n",
       " 'Previously I was using one plus 3t it was a great phone\\nAnd then I decided to upgrade I am stuck between Samsung s10 plus or iPhone 11\\nI have seen the specs and everything were good except the display it’s somewhere between 720-1080 and it’s not even an amoled it’s an LCD display\\nBut I decided to go with iPhone because I have never used an IOS device I have Been an android user from the past 9 years I ordered IPhone 11 (128gb) product red\\nMy experience after using 3 weeks\\n1. The delivery ...\\nREAD MORE',\n",
       " 'Value for money\\n5 star rating\\nExcellent camera\\nBattery backup full day in single charge.\\n\\nTougher and water resistant design, glossy back.\\nThe screen has excellent brightness and contrast.\\nApple A13 Bionic is the fastest smartphone chip on the planet.\\nExcellent battery life, fast charging support.\\nStereo speakers with great quality.',\n",
       " 'What a camera .....just awesome ..you can feel this iPhone just awesome . Good for gaming also ...try pubg in hd it’s just wow',\n",
       " 'Amazing Powerful and Durable Gadget.\\n\\nI’m am very happy with the camera picture quality, Amazing face id unlocked in dark room, Strong battery with perfect screen size as you can carry easily in pocket. This is my third iPhone.\\n\\nI shifted from android Samsung Note series to iPhone because of the strong build quality and peace of mind for next 3-4 years.\\n\\nDon’t think to much just go for it and I suggest you to go for minimum 128gb variant or more 256gb.\\n\\nI’ve attached my puppy pics and no fi...\\nREAD MORE',\n",
       " 'I was using Iphone 6s and also Oneplus 6t. Both mobiles were perfectly alright in Photos, gaming, and smooth interface . My 6s mobile getting battery issue. thought upgrade to 11. Really like this mobile of its Internal storage (compare to 6s) , camera and its touch feeling. Its a worth buying mobile for me.',\n",
       " 'This is my first iOS phone. I am very happy with this product. Very much satisfied with this. I love this phone.',\n",
       " 'Best and amazing product.....phone looks so premium.... battary is also good as expected .... Wide angle camera is so addictive ...if you are a IOS lover....then this phone will be the best choice for you all!!💯🔥',\n",
       " 'i11 is worthy to buy, too much happy with the product. Thank u flipkart I received the item on time..loved it..',\n",
       " 'It’s a must buy who is looking for an upgrade from previous generation of iPhones. If you are using XR then still you can hold on for sometime and upgrade to 2020 model else this phone is a must buy . Camera quality is amazing and wide angle is something to count upon. Performance wise it’s amazing and feels premium while holding in hand. So a big YES for this device. Go for 128 GB variant as the 4K videos will occupy lots of space and the storage can get over very quickly. Try to buy it with...\\nREAD MORE',\n",
       " 'So far it’s been an AMAZING experience coming back to iOS after nearly a decade but it’s not as versatile as android though phone is sturdy dropped it accidentally a couple of times and nothing happened fortunately camera is awesome',\n",
       " \"Just got this iphone 11\\nAnd it is most powerful mobile phone I have used ever\\n\\nSo,go for it if you want a phone with best specification like camera,battery backup,display, A13 bionic chip\\n\\nThat's my review about this phone but yours can be differ from me....\",\n",
       " 'Value for money❤️❤️\\nIts awesome mobile phone in the world ...\\nDisplay was very good and bright ..\\nTrust me freinds you r never regret after Buying..\\nJust go for it....\\nI love this phone and i switch to iphone x to 11',\n",
       " 'iphone 11 is a very good phone to buy only if you can compromise for the display. The display on this is device is pretty good but you can get other options with better displays in this price segment.\\nIf you can survive with an HD+ LCD panel with thicker bezels and a notch up top then this is a very good phone for you.\\nCameras are awesome, battery backup excellent, great performance and a decent premium look. Good job Apple !',\n",
       " 'Amazing camera quality as expected, battery also has very good performance. Display, body, and touch experience is the best I’ve ever had. Sound quality of speakers is more than sufficient. Apple is known for it’s customer friendly security services and I can see it how. The A13 processor is the best in its work. So I would definitely recommend it for everyone who are looking for it, just go for it without delay.\\n\\nThe most amazing thing it the delivery. Flipkart has delivered it in the span ...\\nREAD MORE',\n",
       " 'It is just awesome mobile for this price from Apple,\\n\\nAfter 10 days review\\n\\nBattery enough for 1 day even 24*7 Internet will be on and mostly internet usage\\n\\nCamera is just awesome cool , android 64 MP is equal to this just 12 MP\\n\\nA13 Bionic chip will give more high performance without hanging\\n\\nAudio stereo speakers will give Dolby atoms sound with crystal clear\\n\\nVideo recording is like cinematic shots of every sec can be a 4K 60fps. Just awesome this phone\\niPhone 11 loved one',\n",
       " 'Really satisfied with the Product I received... It’s totally genuine and the packaging was also really good so if ur planning to buy just go for it.',\n",
       " 'Amazing phone with great cameras and better battery which gives you the best performance. I just love the camera .',\n",
       " \"I'm Really happy with the product\\nDelivery was fast as well\\n..it was a gift for my sister and she loved it so much.\",\n",
       " 'Great iPhone very snappy experience as apple kind. Upgraded from iPhone 7.\\nPros\\n-Camera top class\\n- Battery top performed\\n-Chipset no need to say as apple kind\\n-Security as you expect from apple\\n- Display super bright industry leading colour\\naccuracy and super responsive\\n-Build quality as expect from apple sturdy\\npremium durable beautiful stylish.\\n-Os most stable os in smartphone industry\\n\\nCons\\n-No 5G\\n-Display is not based on OLED technology\\n-Charger headphones and 1 apple stic...\\nREAD MORE',\n",
       " \"It's my first time to use iOS phone and I am loving my upgradation 😍😍 I love the color, I love the assebility of the phone....I need to learn more about its functionality, but as far as I have seen, it's quite easy and it has a lot of functions to work on, specially if you are a content writer or a blogger you get a lot of content creation platforms and they are really amazing.\\n\\nThis phone not only for good quality photography but a lot of other task too.😍💯\",\n",
       " 'Previously I was using one plus 3t it was a great phone\\nAnd then I decided to upgrade I am stuck between Samsung s10 plus or iPhone 11\\nI have seen the specs and everything were good except the display it’s somewhere between 720-1080 and it’s not even an amoled it’s an LCD display\\nBut I decided to go with iPhone because I have never used an IOS device I have Been an android user from the past 9 years I ordered IPhone 11 (128gb) product red\\nMy experience after using 3 weeks\\n1. The delivery ...\\nREAD MORE',\n",
       " 'Value for money\\n5 star rating\\nExcellent camera\\nBattery backup full day in single charge.\\n\\nTougher and water resistant design, glossy back.\\nThe screen has excellent brightness and contrast.\\nApple A13 Bionic is the fastest smartphone chip on the planet.\\nExcellent battery life, fast charging support.\\nStereo speakers with great quality.',\n",
       " 'What a camera .....just awesome ..you can feel this iPhone just awesome . Good for gaming also ...try pubg in hd it’s just wow',\n",
       " 'Amazing Powerful and Durable Gadget.\\n\\nI’m am very happy with the camera picture quality, Amazing face id unlocked in dark room, Strong battery with perfect screen size as you can carry easily in pocket. This is my third iPhone.\\n\\nI shifted from android Samsung Note series to iPhone because of the strong build quality and peace of mind for next 3-4 years.\\n\\nDon’t think to much just go for it and I suggest you to go for minimum 128gb variant or more 256gb.\\n\\nI’ve attached my puppy pics and no fi...\\nREAD MORE',\n",
       " 'I was using Iphone 6s and also Oneplus 6t. Both mobiles were perfectly alright in Photos, gaming, and smooth interface . My 6s mobile getting battery issue. thought upgrade to 11. Really like this mobile of its Internal storage (compare to 6s) , camera and its touch feeling. Its a worth buying mobile for me.',\n",
       " 'This is my first iOS phone. I am very happy with this product. Very much satisfied with this. I love this phone.',\n",
       " 'Best and amazing product.....phone looks so premium.... battary is also good as expected .... Wide angle camera is so addictive ...if you are a IOS lover....then this phone will be the best choice for you all!!💯🔥',\n",
       " 'i11 is worthy to buy, too much happy with the product. Thank u flipkart I received the item on time..loved it..',\n",
       " 'It’s a must buy who is looking for an upgrade from previous generation of iPhones. If you are using XR then still you can hold on for sometime and upgrade to 2020 model else this phone is a must buy . Camera quality is amazing and wide angle is something to count upon. Performance wise it’s amazing and feels premium while holding in hand. So a big YES for this device. Go for 128 GB variant as the 4K videos will occupy lots of space and the storage can get over very quickly. Try to buy it with...\\nREAD MORE',\n",
       " 'So far it’s been an AMAZING experience coming back to iOS after nearly a decade but it’s not as versatile as android though phone is sturdy dropped it accidentally a couple of times and nothing happened fortunately camera is awesome',\n",
       " \"Just got this iphone 11\\nAnd it is most powerful mobile phone I have used ever\\n\\nSo,go for it if you want a phone with best specification like camera,battery backup,display, A13 bionic chip\\n\\nThat's my review about this phone but yours can be differ from me....\",\n",
       " 'Value for money❤️❤️\\nIts awesome mobile phone in the world ...\\nDisplay was very good and bright ..\\nTrust me freinds you r never regret after Buying..\\nJust go for it....\\nI love this phone and i switch to iphone x to 11',\n",
       " 'iphone 11 is a very good phone to buy only if you can compromise for the display. The display on this is device is pretty good but you can get other options with better displays in this price segment.\\nIf you can survive with an HD+ LCD panel with thicker bezels and a notch up top then this is a very good phone for you.\\nCameras are awesome, battery backup excellent, great performance and a decent premium look. Good job Apple !',\n",
       " 'Amazing camera quality as expected, battery also has very good performance. Display, body, and touch experience is the best I’ve ever had. Sound quality of speakers is more than sufficient. Apple is known for it’s customer friendly security services and I can see it how. The A13 processor is the best in its work. So I would definitely recommend it for everyone who are looking for it, just go for it without delay.\\n\\nThe most amazing thing it the delivery. Flipkart has delivered it in the span ...\\nREAD MORE',\n",
       " 'It is just awesome mobile for this price from Apple,\\n\\nAfter 10 days review\\n\\nBattery enough for 1 day even 24*7 Internet will be on and mostly internet usage\\n\\nCamera is just awesome cool , android 64 MP is equal to this just 12 MP\\n\\nA13 Bionic chip will give more high performance without hanging\\n\\nAudio stereo speakers will give Dolby atoms sound with crystal clear\\n\\nVideo recording is like cinematic shots of every sec can be a 4K 60fps. Just awesome this phone\\niPhone 11 loved one',\n",
       " 'Really satisfied with the Product I received... It’s totally genuine and the packaging was also really good so if ur planning to buy just go for it.',\n",
       " 'Amazing phone with great cameras and better battery which gives you the best performance. I just love the camera .',\n",
       " \"I'm Really happy with the product\\nDelivery was fast as well\\n..it was a gift for my sister and she loved it so much.\",\n",
       " 'Great iPhone very snappy experience as apple kind. Upgraded from iPhone 7.\\nPros\\n-Camera top class\\n- Battery top performed\\n-Chipset no need to say as apple kind\\n-Security as you expect from apple\\n- Display super bright industry leading colour\\naccuracy and super responsive\\n-Build quality as expect from apple sturdy\\npremium durable beautiful stylish.\\n-Os most stable os in smartphone industry\\n\\nCons\\n-No 5G\\n-Display is not based on OLED technology\\n-Charger headphones and 1 apple stic...\\nREAD MORE',\n",
       " \"It's my first time to use iOS phone and I am loving my upgradation 😍😍 I love the color, I love the assebility of the phone....I need to learn more about its functionality, but as far as I have seen, it's quite easy and it has a lot of functions to work on, specially if you are a content writer or a blogger you get a lot of content creation platforms and they are really amazing.\\n\\nThis phone not only for good quality photography but a lot of other task too.😍💯\",\n",
       " 'Previously I was using one plus 3t it was a great phone\\nAnd then I decided to upgrade I am stuck between Samsung s10 plus or iPhone 11\\nI have seen the specs and everything were good except the display it’s somewhere between 720-1080 and it’s not even an amoled it’s an LCD display\\nBut I decided to go with iPhone because I have never used an IOS device I have Been an android user from the past 9 years I ordered IPhone 11 (128gb) product red\\nMy experience after using 3 weeks\\n1. The delivery ...\\nREAD MORE',\n",
       " 'Value for money\\n5 star rating\\nExcellent camera\\nBattery backup full day in single charge.\\n\\nTougher and water resistant design, glossy back.\\nThe screen has excellent brightness and contrast.\\nApple A13 Bionic is the fastest smartphone chip on the planet.\\nExcellent battery life, fast charging support.\\nStereo speakers with great quality.',\n",
       " 'What a camera .....just awesome ..you can feel this iPhone just awesome . Good for gaming also ...try pubg in hd it’s just wow',\n",
       " 'Amazing Powerful and Durable Gadget.\\n\\nI’m am very happy with the camera picture quality, Amazing face id unlocked in dark room, Strong battery with perfect screen size as you can carry easily in pocket. This is my third iPhone.\\n\\nI shifted from android Samsung Note series to iPhone because of the strong build quality and peace of mind for next 3-4 years.\\n\\nDon’t think to much just go for it and I suggest you to go for minimum 128gb variant or more 256gb.\\n\\nI’ve attached my puppy pics and no fi...\\nREAD MORE',\n",
       " 'I was using Iphone 6s and also Oneplus 6t. Both mobiles were perfectly alright in Photos, gaming, and smooth interface . My 6s mobile getting battery issue. thought upgrade to 11. Really like this mobile of its Internal storage (compare to 6s) , camera and its touch feeling. Its a worth buying mobile for me.']"
      ]
     },
     "execution_count": 129,
     "metadata": {},
     "output_type": "execute_result"
    }
   ],
   "source": [
    "pfr=phone_full_review[0:100]\n",
    "pfr"
   ]
  },
  {
   "cell_type": "code",
   "execution_count": 130,
   "id": "5d23ddbc",
   "metadata": {},
   "outputs": [
    {
     "data": {
      "text/plain": [
       "100"
      ]
     },
     "execution_count": 130,
     "metadata": {},
     "output_type": "execute_result"
    }
   ],
   "source": [
    "len(pfr)"
   ]
  },
  {
   "cell_type": "code",
   "execution_count": 132,
   "id": "bca68efc",
   "metadata": {},
   "outputs": [
    {
     "data": {
      "text/html": [
       "<div>\n",
       "<style scoped>\n",
       "    .dataframe tbody tr th:only-of-type {\n",
       "        vertical-align: middle;\n",
       "    }\n",
       "\n",
       "    .dataframe tbody tr th {\n",
       "        vertical-align: top;\n",
       "    }\n",
       "\n",
       "    .dataframe thead th {\n",
       "        text-align: right;\n",
       "    }\n",
       "</style>\n",
       "<table border=\"1\" class=\"dataframe\">\n",
       "  <thead>\n",
       "    <tr style=\"text-align: right;\">\n",
       "      <th></th>\n",
       "      <th>Rating</th>\n",
       "      <th>Review summary</th>\n",
       "      <th>Full review</th>\n",
       "    </tr>\n",
       "  </thead>\n",
       "  <tbody>\n",
       "    <tr>\n",
       "      <th>0</th>\n",
       "      <td>5</td>\n",
       "      <td>Simply awesome</td>\n",
       "      <td>Really satisfied with the Product I received.....</td>\n",
       "    </tr>\n",
       "    <tr>\n",
       "      <th>1</th>\n",
       "      <td>5</td>\n",
       "      <td>Perfect product!</td>\n",
       "      <td>Amazing phone with great cameras and better ba...</td>\n",
       "    </tr>\n",
       "    <tr>\n",
       "      <th>2</th>\n",
       "      <td>5</td>\n",
       "      <td>Best in the market!</td>\n",
       "      <td>I'm Really happy with the product\\nDelivery wa...</td>\n",
       "    </tr>\n",
       "    <tr>\n",
       "      <th>3</th>\n",
       "      <td>5</td>\n",
       "      <td>Value-for-money</td>\n",
       "      <td>Great iPhone very snappy experience as apple k...</td>\n",
       "    </tr>\n",
       "    <tr>\n",
       "      <th>4</th>\n",
       "      <td>4</td>\n",
       "      <td>Highly recommended</td>\n",
       "      <td>It's my first time to use iOS phone and I am l...</td>\n",
       "    </tr>\n",
       "    <tr>\n",
       "      <th>...</th>\n",
       "      <td>...</td>\n",
       "      <td>...</td>\n",
       "      <td>...</td>\n",
       "    </tr>\n",
       "    <tr>\n",
       "      <th>95</th>\n",
       "      <td>5</td>\n",
       "      <td>Value-for-money</td>\n",
       "      <td>Previously I was using one plus 3t it was a gr...</td>\n",
       "    </tr>\n",
       "    <tr>\n",
       "      <th>96</th>\n",
       "      <td>5</td>\n",
       "      <td>Perfect product!</td>\n",
       "      <td>Value for money\\n5 star rating\\nExcellent came...</td>\n",
       "    </tr>\n",
       "    <tr>\n",
       "      <th>97</th>\n",
       "      <td>5</td>\n",
       "      <td>Highly recommended</td>\n",
       "      <td>What a camera .....just awesome ..you can feel...</td>\n",
       "    </tr>\n",
       "    <tr>\n",
       "      <th>98</th>\n",
       "      <td>5</td>\n",
       "      <td>Highly recommended</td>\n",
       "      <td>Amazing Powerful and Durable Gadget.\\n\\nI’m am...</td>\n",
       "    </tr>\n",
       "    <tr>\n",
       "      <th>99</th>\n",
       "      <td>4</td>\n",
       "      <td>Perfect product!</td>\n",
       "      <td>I was using Iphone 6s and also Oneplus 6t. Bot...</td>\n",
       "    </tr>\n",
       "  </tbody>\n",
       "</table>\n",
       "<p>100 rows × 3 columns</p>\n",
       "</div>"
      ],
      "text/plain": [
       "   Rating       Review summary  \\\n",
       "0       5       Simply awesome   \n",
       "1       5     Perfect product!   \n",
       "2       5  Best in the market!   \n",
       "3       5      Value-for-money   \n",
       "4       4   Highly recommended   \n",
       "..    ...                  ...   \n",
       "95      5      Value-for-money   \n",
       "96      5     Perfect product!   \n",
       "97      5   Highly recommended   \n",
       "98      5   Highly recommended   \n",
       "99      4     Perfect product!   \n",
       "\n",
       "                                          Full review  \n",
       "0   Really satisfied with the Product I received.....  \n",
       "1   Amazing phone with great cameras and better ba...  \n",
       "2   I'm Really happy with the product\\nDelivery wa...  \n",
       "3   Great iPhone very snappy experience as apple k...  \n",
       "4   It's my first time to use iOS phone and I am l...  \n",
       "..                                                ...  \n",
       "95  Previously I was using one plus 3t it was a gr...  \n",
       "96  Value for money\\n5 star rating\\nExcellent came...  \n",
       "97  What a camera .....just awesome ..you can feel...  \n",
       "98  Amazing Powerful and Durable Gadget.\\n\\nI’m am...  \n",
       "99  I was using Iphone 6s and also Oneplus 6t. Bot...  \n",
       "\n",
       "[100 rows x 3 columns]"
      ]
     },
     "execution_count": 132,
     "metadata": {},
     "output_type": "execute_result"
    }
   ],
   "source": [
    "df5=pd.DataFrame({'Rating':pr,'Review summary':pre,'Full review':pfr})\n",
    "df5"
   ]
  },
  {
   "cell_type": "markdown",
   "id": "fda5ff19",
   "metadata": {},
   "source": [
    "### Answer No.06"
   ]
  },
  {
   "cell_type": "code",
   "execution_count": 51,
   "id": "ede25a0e",
   "metadata": {},
   "outputs": [],
   "source": [
    "# first connect with the driver\n",
    "driver6=webdriver.Chrome(r\"C:\\Users\\ASUS\\Downloads\\chromedriver_win32 (3)\\chromedriver.exe\")# first connect with the driver"
   ]
  },
  {
   "cell_type": "code",
   "execution_count": 52,
   "id": "08b3c2a3",
   "metadata": {},
   "outputs": [],
   "source": [
    "driver6.get(\"http://www.flipkart.com/\")"
   ]
  },
  {
   "cell_type": "code",
   "execution_count": 53,
   "id": "97d6f860",
   "metadata": {},
   "outputs": [],
   "source": [
    "brand_name20=driver6.find_element(By.CLASS_NAME,\"_3704LK\") # find element is used to scrap only one element.\n",
    "brand_name20.send_keys('sneakers')"
   ]
  },
  {
   "cell_type": "code",
   "execution_count": 54,
   "id": "0ddd9a06",
   "metadata": {},
   "outputs": [],
   "source": [
    "search6=driver6.find_element(By.CLASS_NAME,\"L0Z3Pu\")\n",
    "search6.click()"
   ]
  },
  {
   "cell_type": "code",
   "execution_count": 55,
   "id": "cb396ee5",
   "metadata": {},
   "outputs": [],
   "source": [
    "sneakers_brand_names=[]\n",
    "start=1\n",
    "end=4\n",
    "for page10 in range(start,end):\n",
    "    names10=driver6.find_elements(By.XPATH,'//div[@class=\"_2WkVRV\"]')\n",
    "    for sbn10 in names10:\n",
    "        sneakers_brand_names.append(sbn10.text)\n",
    "    next_button10=driver6.find_element(By.XPATH,'//a[@class=\"_1LKTO3\"]')\n",
    "    next_button10.click()\n",
    "    time.sleep(3) # It gives the time of 3 sec to the page for the loading"
   ]
  },
  {
   "cell_type": "code",
   "execution_count": 56,
   "id": "3a1833f2",
   "metadata": {},
   "outputs": [
    {
     "data": {
      "text/plain": [
       "120"
      ]
     },
     "execution_count": 56,
     "metadata": {},
     "output_type": "execute_result"
    }
   ],
   "source": [
    "len(sneakers_brand_names)"
   ]
  },
  {
   "cell_type": "code",
   "execution_count": 57,
   "id": "f1ae6e96",
   "metadata": {},
   "outputs": [
    {
     "data": {
      "text/plain": [
       "['HOTSTYLE',\n",
       " 'HOTSTYLE',\n",
       " 'SFR',\n",
       " 'BIRDE',\n",
       " 'BIRDE',\n",
       " 'BIRDE',\n",
       " 'Shozie',\n",
       " 'Bacan',\n",
       " 'SFR',\n",
       " 'Sparx',\n",
       " 'PUMA',\n",
       " 'RapidBox',\n",
       " 'BRUTON',\n",
       " 'BIRDE',\n",
       " 'BIRDE',\n",
       " 'aadi',\n",
       " 'Kraasa',\n",
       " 'Kraasa',\n",
       " 'Shozie',\n",
       " 'Nilatin',\n",
       " 'aadi',\n",
       " 'BIRDE',\n",
       " 'BERSACHE',\n",
       " 'RapidBox',\n",
       " 'PUMA',\n",
       " 'Layasa',\n",
       " 'BIRDE',\n",
       " 'aadi',\n",
       " 'BIRDE',\n",
       " 'asian',\n",
       " 'Shozie',\n",
       " 'aadi',\n",
       " 'BRUTON',\n",
       " 'asian',\n",
       " 'Shozie',\n",
       " 'aadi',\n",
       " 'Asian Shoes',\n",
       " 'HRX by Hrithik Roshan',\n",
       " 'Layasa',\n",
       " 'PUMA',\n",
       " 'asian',\n",
       " 'BIRDE',\n",
       " 'BIRDE',\n",
       " 'HOTSTYLE',\n",
       " 'aadi',\n",
       " 'Kraasa',\n",
       " 'ADIDAS',\n",
       " 'HOTSTYLE',\n",
       " 'Layasa',\n",
       " 'asian',\n",
       " 'BIRDE',\n",
       " 'Bacan',\n",
       " 'Layasa',\n",
       " 'BIRDE',\n",
       " 'BIRDE',\n",
       " 'Zixer',\n",
       " 'aadi',\n",
       " 'aadi',\n",
       " 'BIRDE',\n",
       " 'RapidBox',\n",
       " 'Sparx',\n",
       " 'Layasa',\n",
       " 'Sparx',\n",
       " 'aadi',\n",
       " 'SFR',\n",
       " 'bacca bucci',\n",
       " 'Shozie',\n",
       " 'Nilatin',\n",
       " 'Layasa',\n",
       " 'PUMA',\n",
       " 'Layasa',\n",
       " 'RapidBox',\n",
       " 'BIRDE',\n",
       " 'ORICUM',\n",
       " 'Kraasa',\n",
       " 'aadi',\n",
       " 'BIRDE',\n",
       " 'BIRDE',\n",
       " 'Sparx',\n",
       " 'aadi',\n",
       " 'aadi',\n",
       " 'RapidBox',\n",
       " 'SFR',\n",
       " 'BIRDE',\n",
       " 'BIRDE',\n",
       " 'BIRDE',\n",
       " 'Shozie',\n",
       " 'Bacan',\n",
       " 'SFR',\n",
       " 'Sparx',\n",
       " 'PUMA',\n",
       " 'BIRDE',\n",
       " 'BRUTON',\n",
       " 'BIRDE',\n",
       " 'BIRDE',\n",
       " 'Shozie',\n",
       " 'Kraasa',\n",
       " 'Kraasa',\n",
       " 'Shozie',\n",
       " 'bacca bucci']"
      ]
     },
     "execution_count": 57,
     "metadata": {},
     "output_type": "execute_result"
    }
   ],
   "source": [
    "sbn11=sneakers_brand_names[0:100]\n",
    "sbn11"
   ]
  },
  {
   "cell_type": "code",
   "execution_count": 58,
   "id": "74149631",
   "metadata": {},
   "outputs": [
    {
     "data": {
      "text/plain": [
       "100"
      ]
     },
     "execution_count": 58,
     "metadata": {},
     "output_type": "execute_result"
    }
   ],
   "source": [
    "len(sbn11)"
   ]
  },
  {
   "cell_type": "code",
   "execution_count": 60,
   "id": "3ff67caf",
   "metadata": {},
   "outputs": [],
   "source": [
    "sneakers_brand_description=[]\n",
    "start=1\n",
    "end=4\n",
    "for page11 in range(start,end):\n",
    "    names11=driver6.find_elements(By.XPATH,'//a[@class=\"IRpwTa\"]')\n",
    "    for sbn90 in names11:\n",
    "        sneakers_brand_description.append(sbn90.text)\n",
    "    next_button90=driver6.find_element(By.XPATH,'//a[@class=\"_1LKTO3\"]')\n",
    "    next_button90.click()\n",
    "    time.sleep(3) # It gives the time of 3 sec to the page for the loading"
   ]
  },
  {
   "cell_type": "code",
   "execution_count": 61,
   "id": "85b59939",
   "metadata": {},
   "outputs": [
    {
     "data": {
      "text/plain": [
       "120"
      ]
     },
     "execution_count": 61,
     "metadata": {},
     "output_type": "execute_result"
    }
   ],
   "source": [
    "len(sneakers_brand_description)"
   ]
  },
  {
   "cell_type": "code",
   "execution_count": 62,
   "id": "a7baa37d",
   "metadata": {},
   "outputs": [
    {
     "data": {
      "text/plain": [
       "['Skypee-33 White Shoes Sneakers For Men',\n",
       " 'Combo Pack of 2 Casual Shoe Sneakers For Men',\n",
       " 'Trendy Casual Shoe For Men Pack Of 2 Sneakers For Men',\n",
       " 'Exclusive dancing sneaker For Boys||Funky dancing sneak...',\n",
       " 'Sneakers For Men',\n",
       " 'Series 7 Sneakers For Men',\n",
       " 'STREET ICON M Sneakers For Men',\n",
       " 'Mesh |Lightweight|Comfort|Summer|Trendy|Walking|Outdoor...',\n",
       " 'Sneakers For Women',\n",
       " 'WATERPROOF-05cFULLWHITE Sneakers For Men',\n",
       " 'Premium White Casual Shoes Sneakers For Men Sneakers Fo...',\n",
       " 'Sneakers For Men',\n",
       " 'Sneakers For Women',\n",
       " 'Combo Pack of 2 Premium Sports Shoes Sneakers For Women',\n",
       " 'Premium Casual Shoes for Women Sneakers For Women',\n",
       " 'Mesh |Lightweight|Comfort|Summer|Trendy|Walking|Outdoor...',\n",
       " 'Mesh |Lightweight|Comfort|Summer|Trendy|Walking|Outdoor...',\n",
       " 'Mesh |Lightweight|Comfort|Summer|Trendy|Walking|Outdoor...',\n",
       " 'Combo Pack of 2 Casual Shoes Sneakers For Men',\n",
       " 'Stylish & Trendy Sneakers For Men',\n",
       " 'SM-406 Sneakers For Men',\n",
       " 'Stylish Casual Sports Shoe Sneakers For Women',\n",
       " 'Men SM-406 Black Sneakers For Men',\n",
       " 'Softride Premier Slip-On Sneakers For Men',\n",
       " 'PLANCK Smart Grey Lace-Ups Casuals Sneakers Sneakers Fo...',\n",
       " \"BALANCER Men's Fashion Sneakers Lace-Up Trainers Basket...\",\n",
       " 'Sneakers For Women',\n",
       " 'Sneakers For Women',\n",
       " 'Sneakers For Women',\n",
       " 'Brisk FR Sneakers For Men',\n",
       " 'Stylish Casual Sports Shoe outdoor Sneakers For Women',\n",
       " 'Sneakers For Men',\n",
       " 'Combo Pack of 2 Casual Shoes Sneakers For Men',\n",
       " 'Oricum Casual Shoes Walking ,Sneakers Canvas casual sho...',\n",
       " 'Sneakers For Women',\n",
       " 'Sneakers For Men',\n",
       " 'Sneakers For Women',\n",
       " 'Stylish Comfortable Lightweight, Breathable Women Shoes...',\n",
       " 'Men SM-406 Grey Sneakers For Men',\n",
       " 'Sneakers For Men',\n",
       " 'CR-1 Sneakers For Men',\n",
       " 'CR-1 Sneakers For Men',\n",
       " 'Sneakers For Men',\n",
       " 'Combo Pack of 2 Casual Shoes Sneakers For Men',\n",
       " 'Sneakers For Women',\n",
       " 'Combo Pack of 2 Casual Shoes Sneakers For Men',\n",
       " 'Stylish Sneakers Shoes for Women And Girls Sneakers For...',\n",
       " 'Sneakers For Men',\n",
       " 'Sneakers For Men',\n",
       " 'Men White Sneakers Sneakers For Men',\n",
       " 'Neptune Sneakers For Men',\n",
       " 'Sneakers For Men',\n",
       " 'Canvas shoes for Men Sneakers For Men',\n",
       " 'Premium Sports Shoes For Men Pack Of 2 Sneakers For Men',\n",
       " 'Combo Pack of 2 Casual Shoes Sneakers For Men',\n",
       " 'Mesh |Lightweight|Comfort|Summer|Trendy|Walking|Outdoor...',\n",
       " 'Sneakers For Women',\n",
       " 'Casuals, Canvas, Partywear Sneakers For Men',\n",
       " 'Stylish Walking Partywear Sneakers Casual Shoes Sneaker...',\n",
       " 'Numenzo White Canvas Sneaker For Men Sneakers For Women',\n",
       " 'Synthetic Leather |Lightweight|Comfort|Summer|Trendy|Wa...',\n",
       " 'Premium Casual Shoes for Women Sneakers For Women',\n",
       " 'Combo pack of 2 casual shoes for men Sneakers For Men',\n",
       " 'Sneakers For Men',\n",
       " 'Puma x 1DER Jack V3 Sneakers For Men',\n",
       " 'Casual Sneakers White Shoes For Girls And Sneakers For ...',\n",
       " 'Premium Casual Shoes for Women Sneakers For Women',\n",
       " 'Mesh| Ultralightweight| Premiun| Comfort| Summer Tendy|...',\n",
       " 'Trendy And Stylish New Design Casual Shoe For Men Pack ...',\n",
       " 'Trendy-21 White Girls Casuals,Loafers,Stylish Color Cha...',\n",
       " 'Women Sneakers Casual Shoes Sneakers For Women',\n",
       " 'Mesh |Lightweight|Comfort|Summer|Trendy|Walking|Outdoor...',\n",
       " '2 Combo Sneaker Shoes Sneakers For Men',\n",
       " 'WATERPROOF-05cFULLBLACK Sneakers For Men',\n",
       " 'Sneakers For Women',\n",
       " 'Mesh| Ultralightweight| Premiun| Comfort| Summer Tendy|...',\n",
       " 'Future-04 casual shoes for men | Latest Stylish Casual ...',\n",
       " 'Sneakers For Men',\n",
       " 'Sneakers For Women',\n",
       " 'RS-X WH Sneakers For Women',\n",
       " 'Skypee-33 White Shoes Sneakers For Men',\n",
       " 'Combo Pack of 2 Casual Shoe Sneakers For Men',\n",
       " 'Trendy Casual Shoe For Men Pack Of 2 Sneakers For Men',\n",
       " 'Exclusive dancing sneaker For Boys||Funky dancing sneak...',\n",
       " 'Sneakers For Men',\n",
       " 'Series 7 Sneakers For Men',\n",
       " 'STREET ICON M Sneakers For Men',\n",
       " 'Mesh |Lightweight|Comfort|Summer|Trendy|Walking|Outdoor...',\n",
       " 'Sneakers For Women',\n",
       " 'WATERPROOF-05cFULLWHITE Sneakers For Men',\n",
       " 'Premium White Casual Shoes Sneakers For Men Sneakers Fo...',\n",
       " 'Sneakers For Men',\n",
       " 'Sneakers For Women',\n",
       " 'Combo Pack of 2 Premium Sports Shoes Sneakers For Women',\n",
       " 'Premium Casual Shoes for Women Sneakers For Women',\n",
       " 'Mesh |Lightweight|Comfort|Summer|Trendy|Walking|Outdoor...',\n",
       " 'Mesh |Lightweight|Comfort|Summer|Trendy|Walking|Outdoor...',\n",
       " 'Mesh |Lightweight|Comfort|Summer|Trendy|Walking|Outdoor...',\n",
       " 'Combo Pack of 2 Casual Shoes Sneakers For Men',\n",
       " 'Stylish & Trendy Sneakers For Men']"
      ]
     },
     "execution_count": 62,
     "metadata": {},
     "output_type": "execute_result"
    }
   ],
   "source": [
    "sbd90=sneakers_brand_description[0:100]\n",
    "sbd90"
   ]
  },
  {
   "cell_type": "code",
   "execution_count": 63,
   "id": "b1d17040",
   "metadata": {},
   "outputs": [
    {
     "data": {
      "text/plain": [
       "100"
      ]
     },
     "execution_count": 63,
     "metadata": {},
     "output_type": "execute_result"
    }
   ],
   "source": [
    "len(sbd90)"
   ]
  },
  {
   "cell_type": "code",
   "execution_count": 64,
   "id": "e99fce2c",
   "metadata": {},
   "outputs": [],
   "source": [
    "sneakers_brand_price=[]\n",
    "start=1\n",
    "end=4\n",
    "for page12 in range(start,end):\n",
    "    names12=driver6.find_elements(By.XPATH,'//div[@class=\"_30jeq3\"]')\n",
    "    for sbn91 in names12:\n",
    "        sneakers_brand_price.append(sbn91.text)\n",
    "    next_button91=driver6.find_element(By.XPATH,'//a[@class=\"_1LKTO3\"]')\n",
    "    next_button91.click()\n",
    "    time.sleep(3) # It gives the time of 3 sec to the page for the loading"
   ]
  },
  {
   "cell_type": "code",
   "execution_count": 65,
   "id": "0573e9bf",
   "metadata": {},
   "outputs": [
    {
     "data": {
      "text/plain": [
       "120"
      ]
     },
     "execution_count": 65,
     "metadata": {},
     "output_type": "execute_result"
    }
   ],
   "source": [
    "len(sneakers_brand_price)"
   ]
  },
  {
   "cell_type": "code",
   "execution_count": 66,
   "id": "874ff926",
   "metadata": {},
   "outputs": [
    {
     "data": {
      "text/plain": [
       "['₹258',\n",
       " '₹258',\n",
       " '₹289',\n",
       " '₹499',\n",
       " '₹199',\n",
       " '₹499',\n",
       " '₹374',\n",
       " '₹513',\n",
       " '₹239',\n",
       " '₹524',\n",
       " '₹1,439',\n",
       " '₹373',\n",
       " '₹249',\n",
       " '₹499',\n",
       " '₹499',\n",
       " '₹563',\n",
       " '₹299',\n",
       " '₹499',\n",
       " '₹389',\n",
       " '₹606',\n",
       " '₹399',\n",
       " '₹299',\n",
       " '₹549',\n",
       " '₹399',\n",
       " '₹1,598',\n",
       " '₹389',\n",
       " '₹299',\n",
       " '₹479',\n",
       " '₹449',\n",
       " '₹699',\n",
       " '₹373',\n",
       " '₹567',\n",
       " '₹499',\n",
       " '₹649',\n",
       " '₹388',\n",
       " '₹399',\n",
       " '₹449',\n",
       " '₹1,023',\n",
       " '₹299',\n",
       " '₹2,999',\n",
       " '₹499',\n",
       " '₹499',\n",
       " '₹499',\n",
       " '₹513',\n",
       " '₹399',\n",
       " '₹499',\n",
       " '₹1,943',\n",
       " '₹634',\n",
       " '₹389',\n",
       " '₹649',\n",
       " '₹399',\n",
       " '₹606',\n",
       " '₹389',\n",
       " '₹499',\n",
       " '₹299',\n",
       " '₹373',\n",
       " '₹399',\n",
       " '₹373',\n",
       " '₹499',\n",
       " '₹563',\n",
       " '₹699',\n",
       " '₹389',\n",
       " '₹734',\n",
       " '₹606',\n",
       " '₹219',\n",
       " '₹1,499',\n",
       " '₹374',\n",
       " '₹399',\n",
       " '₹439',\n",
       " '₹1,619',\n",
       " '₹439',\n",
       " '₹479',\n",
       " '₹499',\n",
       " '₹299',\n",
       " '₹299',\n",
       " '₹399',\n",
       " '₹229',\n",
       " '₹299',\n",
       " '₹874',\n",
       " '₹2,999',\n",
       " '₹258',\n",
       " '₹258',\n",
       " '₹289',\n",
       " '₹499',\n",
       " '₹199',\n",
       " '₹239',\n",
       " '₹499',\n",
       " '₹399',\n",
       " '₹374',\n",
       " '₹524',\n",
       " '₹249',\n",
       " '₹399',\n",
       " '₹1,439',\n",
       " '₹499',\n",
       " '₹299',\n",
       " '₹567',\n",
       " '₹499',\n",
       " '₹499',\n",
       " '₹399',\n",
       " '₹606']"
      ]
     },
     "execution_count": 66,
     "metadata": {},
     "output_type": "execute_result"
    }
   ],
   "source": [
    "sbp91=sneakers_brand_price[0:100]\n",
    "sbp91"
   ]
  },
  {
   "cell_type": "code",
   "execution_count": 67,
   "id": "efd88095",
   "metadata": {},
   "outputs": [
    {
     "data": {
      "text/plain": [
       "100"
      ]
     },
     "execution_count": 67,
     "metadata": {},
     "output_type": "execute_result"
    }
   ],
   "source": [
    "len(sbp91)"
   ]
  },
  {
   "cell_type": "code",
   "execution_count": 68,
   "id": "b34d3b5e",
   "metadata": {},
   "outputs": [
    {
     "data": {
      "text/html": [
       "<div>\n",
       "<style scoped>\n",
       "    .dataframe tbody tr th:only-of-type {\n",
       "        vertical-align: middle;\n",
       "    }\n",
       "\n",
       "    .dataframe tbody tr th {\n",
       "        vertical-align: top;\n",
       "    }\n",
       "\n",
       "    .dataframe thead th {\n",
       "        text-align: right;\n",
       "    }\n",
       "</style>\n",
       "<table border=\"1\" class=\"dataframe\">\n",
       "  <thead>\n",
       "    <tr style=\"text-align: right;\">\n",
       "      <th></th>\n",
       "      <th>Brand</th>\n",
       "      <th>Product Description</th>\n",
       "      <th>Price</th>\n",
       "    </tr>\n",
       "  </thead>\n",
       "  <tbody>\n",
       "    <tr>\n",
       "      <th>0</th>\n",
       "      <td>HOTSTYLE</td>\n",
       "      <td>Skypee-33 White Shoes Sneakers For Men</td>\n",
       "      <td>₹258</td>\n",
       "    </tr>\n",
       "    <tr>\n",
       "      <th>1</th>\n",
       "      <td>HOTSTYLE</td>\n",
       "      <td>Combo Pack of 2 Casual Shoe Sneakers For Men</td>\n",
       "      <td>₹258</td>\n",
       "    </tr>\n",
       "    <tr>\n",
       "      <th>2</th>\n",
       "      <td>SFR</td>\n",
       "      <td>Trendy Casual Shoe For Men Pack Of 2 Sneakers ...</td>\n",
       "      <td>₹289</td>\n",
       "    </tr>\n",
       "    <tr>\n",
       "      <th>3</th>\n",
       "      <td>BIRDE</td>\n",
       "      <td>Exclusive dancing sneaker For Boys||Funky danc...</td>\n",
       "      <td>₹499</td>\n",
       "    </tr>\n",
       "    <tr>\n",
       "      <th>4</th>\n",
       "      <td>BIRDE</td>\n",
       "      <td>Sneakers For Men</td>\n",
       "      <td>₹199</td>\n",
       "    </tr>\n",
       "    <tr>\n",
       "      <th>...</th>\n",
       "      <td>...</td>\n",
       "      <td>...</td>\n",
       "      <td>...</td>\n",
       "    </tr>\n",
       "    <tr>\n",
       "      <th>95</th>\n",
       "      <td>Shozie</td>\n",
       "      <td>Mesh |Lightweight|Comfort|Summer|Trendy|Walkin...</td>\n",
       "      <td>₹567</td>\n",
       "    </tr>\n",
       "    <tr>\n",
       "      <th>96</th>\n",
       "      <td>Kraasa</td>\n",
       "      <td>Mesh |Lightweight|Comfort|Summer|Trendy|Walkin...</td>\n",
       "      <td>₹499</td>\n",
       "    </tr>\n",
       "    <tr>\n",
       "      <th>97</th>\n",
       "      <td>Kraasa</td>\n",
       "      <td>Mesh |Lightweight|Comfort|Summer|Trendy|Walkin...</td>\n",
       "      <td>₹499</td>\n",
       "    </tr>\n",
       "    <tr>\n",
       "      <th>98</th>\n",
       "      <td>Shozie</td>\n",
       "      <td>Combo Pack of 2 Casual Shoes Sneakers For Men</td>\n",
       "      <td>₹399</td>\n",
       "    </tr>\n",
       "    <tr>\n",
       "      <th>99</th>\n",
       "      <td>bacca bucci</td>\n",
       "      <td>Stylish &amp; Trendy Sneakers For Men</td>\n",
       "      <td>₹606</td>\n",
       "    </tr>\n",
       "  </tbody>\n",
       "</table>\n",
       "<p>100 rows × 3 columns</p>\n",
       "</div>"
      ],
      "text/plain": [
       "          Brand                                Product Description Price\n",
       "0      HOTSTYLE             Skypee-33 White Shoes Sneakers For Men  ₹258\n",
       "1      HOTSTYLE       Combo Pack of 2 Casual Shoe Sneakers For Men  ₹258\n",
       "2           SFR  Trendy Casual Shoe For Men Pack Of 2 Sneakers ...  ₹289\n",
       "3         BIRDE  Exclusive dancing sneaker For Boys||Funky danc...  ₹499\n",
       "4         BIRDE                                   Sneakers For Men  ₹199\n",
       "..          ...                                                ...   ...\n",
       "95       Shozie  Mesh |Lightweight|Comfort|Summer|Trendy|Walkin...  ₹567\n",
       "96       Kraasa  Mesh |Lightweight|Comfort|Summer|Trendy|Walkin...  ₹499\n",
       "97       Kraasa  Mesh |Lightweight|Comfort|Summer|Trendy|Walkin...  ₹499\n",
       "98       Shozie      Combo Pack of 2 Casual Shoes Sneakers For Men  ₹399\n",
       "99  bacca bucci                  Stylish & Trendy Sneakers For Men  ₹606\n",
       "\n",
       "[100 rows x 3 columns]"
      ]
     },
     "execution_count": 68,
     "metadata": {},
     "output_type": "execute_result"
    }
   ],
   "source": [
    "df6=pd.DataFrame({'Brand':sbn11,'Product Description':sbd90,'Price':sbp91})\n",
    "df6"
   ]
  },
  {
   "cell_type": "markdown",
   "id": "36f379a2",
   "metadata": {},
   "source": [
    "### Answer No.07"
   ]
  },
  {
   "cell_type": "code",
   "execution_count": 15,
   "id": "7dd23df4",
   "metadata": {},
   "outputs": [],
   "source": [
    "# first connect with the driver\n",
    "driver7=webdriver.Chrome(r\"C:\\Users\\ASUS\\Downloads\\chromedriver_win32 (3)\\chromedriver.exe\")# first connect with the driver"
   ]
  },
  {
   "cell_type": "code",
   "execution_count": 16,
   "id": "572b8b1d",
   "metadata": {},
   "outputs": [],
   "source": [
    "driver7.get(\"https://www.amazon.in/\")"
   ]
  },
  {
   "cell_type": "code",
   "execution_count": 22,
   "id": "57ac0289",
   "metadata": {},
   "outputs": [],
   "source": [
    "laptops=driver7.find_element(By.ID,\"twotabsearchtextbox\") # find element is used to scrap only one element.\n",
    "laptops.send_keys('Laptop')"
   ]
  },
  {
   "cell_type": "code",
   "execution_count": 23,
   "id": "4c24252d",
   "metadata": {},
   "outputs": [],
   "source": [
    "search7=driver7.find_element(By.ID,\"nav-search-submit-button\")\n",
    "search7.click()"
   ]
  },
  {
   "cell_type": "code",
   "execution_count": 34,
   "id": "f3d8b217",
   "metadata": {},
   "outputs": [],
   "source": [
    "cpu=driver7.find_element(By.XPATH,'/html/body/div[1]/div[2]/div[1]/div[2]/div/div[3]/span/div[1]/div/div/div[5]/ul[6]/li[10]/span/a/div/label/i') \n",
    "cpu.click()"
   ]
  },
  {
   "cell_type": "code",
   "execution_count": 35,
   "id": "4b5769e5",
   "metadata": {},
   "outputs": [],
   "source": [
    "laptop_title=[]\n",
    "laptop_rating=[]\n",
    "laptop_price=[]"
   ]
  },
  {
   "cell_type": "code",
   "execution_count": 36,
   "id": "f4461c64",
   "metadata": {},
   "outputs": [],
   "source": [
    "laptop_title_tags=driver7.find_elements(By.XPATH,'//div[@class=\"a-section a-spacing-none puis-padding-right-small s-title-instructions-style\"]') # find elements is used to scrap more than one element.# Relative XPATH\n",
    "for i in laptop_title_tags[0:10]:\n",
    "    title=i.text\n",
    "    laptop_title.append(title)  # //tag[@class='class name']\n",
    "    \n",
    "\n",
    "laptop_rating_tags=driver7.find_elements(By.XPATH,'//span[@class=\"a-size-base\"]') # find elements is used to scrap more than one element.\n",
    "for i in laptop_rating_tags[0:10]:\n",
    "    rating=i.text\n",
    "    laptop_rating.append(rating)\n",
    "    \n",
    "\n",
    "laptop_price_tags=driver7.find_elements(By.XPATH,'//span[@class=\"a-price-whole\"]') # find elements is used to scrap more than one element.\n",
    "for i in laptop_price_tags[0:10]:\n",
    "    price=i.text\n",
    "    laptop_price.append(price)"
   ]
  },
  {
   "cell_type": "code",
   "execution_count": 37,
   "id": "07c5b857",
   "metadata": {},
   "outputs": [
    {
     "name": "stdout",
     "output_type": "stream",
     "text": [
      "10 10 10\n"
     ]
    }
   ],
   "source": [
    "print(len(laptop_title),len(laptop_rating),len(laptop_price))"
   ]
  },
  {
   "cell_type": "code",
   "execution_count": 38,
   "id": "deeb9003",
   "metadata": {},
   "outputs": [
    {
     "data": {
      "text/html": [
       "<div>\n",
       "<style scoped>\n",
       "    .dataframe tbody tr th:only-of-type {\n",
       "        vertical-align: middle;\n",
       "    }\n",
       "\n",
       "    .dataframe tbody tr th {\n",
       "        vertical-align: top;\n",
       "    }\n",
       "\n",
       "    .dataframe thead th {\n",
       "        text-align: right;\n",
       "    }\n",
       "</style>\n",
       "<table border=\"1\" class=\"dataframe\">\n",
       "  <thead>\n",
       "    <tr style=\"text-align: right;\">\n",
       "      <th></th>\n",
       "      <th>Title</th>\n",
       "      <th>Ratings</th>\n",
       "      <th>Price</th>\n",
       "    </tr>\n",
       "  </thead>\n",
       "  <tbody>\n",
       "    <tr>\n",
       "      <th>0</th>\n",
       "      <td>Sponsored\\nFujitsu UH-X 11th Gen Intel Core i7...</td>\n",
       "      <td>4.3</td>\n",
       "      <td>89,990</td>\n",
       "    </tr>\n",
       "    <tr>\n",
       "      <th>1</th>\n",
       "      <td>Sponsored\\nLenovo Legion 5 Intel Core i7 11th ...</td>\n",
       "      <td>2.9</td>\n",
       "      <td>1,17,990</td>\n",
       "    </tr>\n",
       "    <tr>\n",
       "      <th>2</th>\n",
       "      <td>ASUS Vivobook 14, Intel Core i7-1165G7 11th Ge...</td>\n",
       "      <td>4.1</td>\n",
       "      <td>56,990</td>\n",
       "    </tr>\n",
       "    <tr>\n",
       "      <th>3</th>\n",
       "      <td>Lenovo IdeaPad Slim 5 12th Gen Intel Core i7 1...</td>\n",
       "      <td>4.2</td>\n",
       "      <td>82,990</td>\n",
       "    </tr>\n",
       "    <tr>\n",
       "      <th>4</th>\n",
       "      <td>ASUS Vivobook 15, 15.6-inch (39.62 cms) FHD, I...</td>\n",
       "      <td>4.1</td>\n",
       "      <td>65,250</td>\n",
       "    </tr>\n",
       "    <tr>\n",
       "      <th>5</th>\n",
       "      <td>HP Pavilion Plus, 12th Gen Intel Core i7 16GB ...</td>\n",
       "      <td>4.0</td>\n",
       "      <td>94,490</td>\n",
       "    </tr>\n",
       "    <tr>\n",
       "      <th>6</th>\n",
       "      <td>(Renewed) Dell Latitude E7470 Intel Core i7 6t...</td>\n",
       "      <td>4.0</td>\n",
       "      <td>29,499</td>\n",
       "    </tr>\n",
       "    <tr>\n",
       "      <th>7</th>\n",
       "      <td>Acer Nitro 5 Gaming Laptop Intel core i7 11th ...</td>\n",
       "      <td>4.0</td>\n",
       "      <td>82,990</td>\n",
       "    </tr>\n",
       "    <tr>\n",
       "      <th>8</th>\n",
       "      <td>HP Pavilion 14 11th Gen Intel Core i7 16GB/1TB...</td>\n",
       "      <td>4.4</td>\n",
       "      <td>92,500</td>\n",
       "    </tr>\n",
       "    <tr>\n",
       "      <th>9</th>\n",
       "      <td>Dell Inspiron 5320 Laptop, Intel i7-1260P, 16G...</td>\n",
       "      <td>3.3</td>\n",
       "      <td>84,918</td>\n",
       "    </tr>\n",
       "  </tbody>\n",
       "</table>\n",
       "</div>"
      ],
      "text/plain": [
       "                                               Title Ratings     Price\n",
       "0  Sponsored\\nFujitsu UH-X 11th Gen Intel Core i7...     4.3    89,990\n",
       "1  Sponsored\\nLenovo Legion 5 Intel Core i7 11th ...     2.9  1,17,990\n",
       "2  ASUS Vivobook 14, Intel Core i7-1165G7 11th Ge...     4.1    56,990\n",
       "3  Lenovo IdeaPad Slim 5 12th Gen Intel Core i7 1...     4.2    82,990\n",
       "4  ASUS Vivobook 15, 15.6-inch (39.62 cms) FHD, I...     4.1    65,250\n",
       "5  HP Pavilion Plus, 12th Gen Intel Core i7 16GB ...     4.0    94,490\n",
       "6  (Renewed) Dell Latitude E7470 Intel Core i7 6t...     4.0    29,499\n",
       "7  Acer Nitro 5 Gaming Laptop Intel core i7 11th ...     4.0    82,990\n",
       "8  HP Pavilion 14 11th Gen Intel Core i7 16GB/1TB...     4.4    92,500\n",
       "9  Dell Inspiron 5320 Laptop, Intel i7-1260P, 16G...     3.3    84,918"
      ]
     },
     "execution_count": 38,
     "metadata": {},
     "output_type": "execute_result"
    }
   ],
   "source": [
    "df7=pd.DataFrame({'Title':laptop_title,'Ratings':laptop_rating,'Price':laptop_price})\n",
    "df7"
   ]
  },
  {
   "cell_type": "markdown",
   "id": "6cea0ca7",
   "metadata": {},
   "source": [
    "### Answer No.08"
   ]
  },
  {
   "cell_type": "code",
   "execution_count": 65,
   "id": "298885f1",
   "metadata": {},
   "outputs": [],
   "source": [
    "# first connect with the driver\n",
    "driver8=webdriver.Chrome(r\"C:\\Users\\ASUS\\Downloads\\chromedriver_win32 (3)\\chromedriver.exe\")# first connect with the driver"
   ]
  },
  {
   "cell_type": "code",
   "execution_count": 66,
   "id": "ec8e9250",
   "metadata": {},
   "outputs": [],
   "source": [
    "driver8.get(\"http://www.azquotes.com/\")"
   ]
  },
  {
   "cell_type": "code",
   "execution_count": 67,
   "id": "0a528ac7",
   "metadata": {},
   "outputs": [],
   "source": [
    "quotes=driver8.find_element(By.XPATH,'/html/body/div[1]/div[1]/div[1]/div/div[3]/ul/li[5]/a') \n",
    "quotes.click()"
   ]
  },
  {
   "cell_type": "code",
   "execution_count": 53,
   "id": "dfbadd46",
   "metadata": {},
   "outputs": [],
   "source": [
    "scraped_quotes=[]\n",
    "start=1\n",
    "end=10\n",
    "for page80 in range(start,end):\n",
    "    names80=driver8.find_elements(By.XPATH,'//a[@class=\"title\"]')\n",
    "    for sbn80 in names80:\n",
    "        scraped_quotes.append(sbn80.text)\n",
    "    next_button80=driver8.find_element(By.XPATH,'//li[@class=\"next\"]')\n",
    "    next_button80.click()\n",
    "    time.sleep(3) # It gives the time of 3 sec to the page for the loading"
   ]
  },
  {
   "cell_type": "code",
   "execution_count": 54,
   "id": "f2b2d501",
   "metadata": {},
   "outputs": [
    {
     "data": {
      "text/plain": [
       "900"
      ]
     },
     "execution_count": 54,
     "metadata": {},
     "output_type": "execute_result"
    }
   ],
   "source": [
    "len(scraped_quotes)"
   ]
  },
  {
   "cell_type": "code",
   "execution_count": 63,
   "id": "55474fd8",
   "metadata": {},
   "outputs": [],
   "source": [
    "scraped_authors=[]\n",
    "start=1\n",
    "end=10\n",
    "for page81 in range(start,end):\n",
    "    names81=driver8.find_elements(By.XPATH,'//div[@class=\"author\"]')\n",
    "    for sbn81 in names81:\n",
    "        scraped_authors.append(sbn81.text)\n",
    "    next_button81=driver8.find_element(By.XPATH,'//li[@class=\"next\"]')\n",
    "    next_button81.click()\n",
    "    time.sleep(3) # It gives the time of 3 sec to the page for the loading"
   ]
  },
  {
   "cell_type": "code",
   "execution_count": 64,
   "id": "1ea5fe48",
   "metadata": {},
   "outputs": [
    {
     "data": {
      "text/plain": [
       "900"
      ]
     },
     "execution_count": 64,
     "metadata": {},
     "output_type": "execute_result"
    }
   ],
   "source": [
    "len(scraped_authors)"
   ]
  },
  {
   "cell_type": "code",
   "execution_count": 68,
   "id": "cb96ef15",
   "metadata": {},
   "outputs": [],
   "source": [
    "scraped_type=[]\n",
    "start=1\n",
    "end=10\n",
    "for page82 in range(start,end):\n",
    "    names82=driver8.find_elements(By.XPATH,'//div[@class=\"tags\"]')\n",
    "    for sbn82 in names82:\n",
    "        scraped_type.append(sbn82.text)\n",
    "    next_button82=driver8.find_element(By.XPATH,'//li[@class=\"next\"]')\n",
    "    next_button82.click()\n",
    "    time.sleep(3) # It gives the time of 3 sec to the page for the loading"
   ]
  },
  {
   "cell_type": "code",
   "execution_count": 69,
   "id": "e32d469e",
   "metadata": {},
   "outputs": [
    {
     "data": {
      "text/plain": [
       "900"
      ]
     },
     "execution_count": 69,
     "metadata": {},
     "output_type": "execute_result"
    }
   ],
   "source": [
    "len(scraped_type)"
   ]
  },
  {
   "cell_type": "code",
   "execution_count": 70,
   "id": "5e3360de",
   "metadata": {},
   "outputs": [
    {
     "data": {
      "text/html": [
       "<div>\n",
       "<style scoped>\n",
       "    .dataframe tbody tr th:only-of-type {\n",
       "        vertical-align: middle;\n",
       "    }\n",
       "\n",
       "    .dataframe tbody tr th {\n",
       "        vertical-align: top;\n",
       "    }\n",
       "\n",
       "    .dataframe thead th {\n",
       "        text-align: right;\n",
       "    }\n",
       "</style>\n",
       "<table border=\"1\" class=\"dataframe\">\n",
       "  <thead>\n",
       "    <tr style=\"text-align: right;\">\n",
       "      <th></th>\n",
       "      <th>Quote</th>\n",
       "      <th>Author</th>\n",
       "      <th>Type Of Quotes</th>\n",
       "    </tr>\n",
       "  </thead>\n",
       "  <tbody>\n",
       "    <tr>\n",
       "      <th>0</th>\n",
       "      <td>The essence of strategy is choosing what not t...</td>\n",
       "      <td>Michael Porter</td>\n",
       "      <td>Essence, Deep Thought, Transcendentalism</td>\n",
       "    </tr>\n",
       "    <tr>\n",
       "      <th>1</th>\n",
       "      <td>One cannot and must not try to erase the past ...</td>\n",
       "      <td>Golda Meir</td>\n",
       "      <td>Inspiration, Past, Trying</td>\n",
       "    </tr>\n",
       "    <tr>\n",
       "      <th>2</th>\n",
       "      <td>Patriotism means to stand by the country. It d...</td>\n",
       "      <td>Theodore Roosevelt</td>\n",
       "      <td>Country, Peace, War</td>\n",
       "    </tr>\n",
       "    <tr>\n",
       "      <th>3</th>\n",
       "      <td>Death is something inevitable. When a man has ...</td>\n",
       "      <td>Nelson Mandela</td>\n",
       "      <td>Inspirational, Motivational, Death</td>\n",
       "    </tr>\n",
       "    <tr>\n",
       "      <th>4</th>\n",
       "      <td>You have to love a nation that celebrates its ...</td>\n",
       "      <td>Erma Bombeck</td>\n",
       "      <td>4th Of July, Food, Patriotic</td>\n",
       "    </tr>\n",
       "    <tr>\n",
       "      <th>...</th>\n",
       "      <td>...</td>\n",
       "      <td>...</td>\n",
       "      <td>...</td>\n",
       "    </tr>\n",
       "    <tr>\n",
       "      <th>895</th>\n",
       "      <td>To love means loving the unlovable. To forgive...</td>\n",
       "      <td>Gilbert K. Chesterton</td>\n",
       "      <td>Love, Inspirational, Success</td>\n",
       "    </tr>\n",
       "    <tr>\n",
       "      <th>896</th>\n",
       "      <td>If you really want to do something, you'll fin...</td>\n",
       "      <td>Jim Rohn</td>\n",
       "      <td>Inspirational, Motivational, Success</td>\n",
       "    </tr>\n",
       "    <tr>\n",
       "      <th>897</th>\n",
       "      <td>Be brave. Take risks. Nothing can substitute e...</td>\n",
       "      <td>Paulo Coelho</td>\n",
       "      <td>Encouraging, Courage, Inspiration</td>\n",
       "    </tr>\n",
       "    <tr>\n",
       "      <th>898</th>\n",
       "      <td>It is neither wealth nor splendor; but tranqui...</td>\n",
       "      <td>Thomas Jefferson</td>\n",
       "      <td>Life, Happiness, Work</td>\n",
       "    </tr>\n",
       "    <tr>\n",
       "      <th>899</th>\n",
       "      <td>A thousand words will not leave so deep an imp...</td>\n",
       "      <td>Henrik Ibsen</td>\n",
       "      <td>Inspirational, Inspiring, Positivity</td>\n",
       "    </tr>\n",
       "  </tbody>\n",
       "</table>\n",
       "<p>900 rows × 3 columns</p>\n",
       "</div>"
      ],
      "text/plain": [
       "                                                 Quote                 Author  \\\n",
       "0    The essence of strategy is choosing what not t...         Michael Porter   \n",
       "1    One cannot and must not try to erase the past ...             Golda Meir   \n",
       "2    Patriotism means to stand by the country. It d...     Theodore Roosevelt   \n",
       "3    Death is something inevitable. When a man has ...         Nelson Mandela   \n",
       "4    You have to love a nation that celebrates its ...           Erma Bombeck   \n",
       "..                                                 ...                    ...   \n",
       "895  To love means loving the unlovable. To forgive...  Gilbert K. Chesterton   \n",
       "896  If you really want to do something, you'll fin...               Jim Rohn   \n",
       "897  Be brave. Take risks. Nothing can substitute e...           Paulo Coelho   \n",
       "898  It is neither wealth nor splendor; but tranqui...       Thomas Jefferson   \n",
       "899  A thousand words will not leave so deep an imp...           Henrik Ibsen   \n",
       "\n",
       "                               Type Of Quotes  \n",
       "0    Essence, Deep Thought, Transcendentalism  \n",
       "1                   Inspiration, Past, Trying  \n",
       "2                         Country, Peace, War  \n",
       "3          Inspirational, Motivational, Death  \n",
       "4                4th Of July, Food, Patriotic  \n",
       "..                                        ...  \n",
       "895              Love, Inspirational, Success  \n",
       "896      Inspirational, Motivational, Success  \n",
       "897         Encouraging, Courage, Inspiration  \n",
       "898                     Life, Happiness, Work  \n",
       "899      Inspirational, Inspiring, Positivity  \n",
       "\n",
       "[900 rows x 3 columns]"
      ]
     },
     "execution_count": 70,
     "metadata": {},
     "output_type": "execute_result"
    }
   ],
   "source": [
    "df8=pd.DataFrame({'Quote':scraped_quotes,'Author':scraped_authors,'Type Of Quotes':scraped_type})\n",
    "df8"
   ]
  },
  {
   "cell_type": "markdown",
   "id": "aa24e1e8",
   "metadata": {},
   "source": [
    "### Answer No.09"
   ]
  },
  {
   "cell_type": "code",
   "execution_count": 5,
   "id": "e0df218d",
   "metadata": {},
   "outputs": [],
   "source": [
    "# first connect with the driver\n",
    "driver9=webdriver.Chrome(r\"C:\\Users\\ASUS\\Downloads\\chromedriver_win32 (3)\\chromedriver.exe\")# first connect with the driver"
   ]
  },
  {
   "cell_type": "code",
   "execution_count": 6,
   "id": "d001f692",
   "metadata": {},
   "outputs": [],
   "source": [
    "driver9.get(\"http://www.jagranjosh.com/\")"
   ]
  },
  {
   "cell_type": "code",
   "execution_count": 7,
   "id": "c870f036",
   "metadata": {},
   "outputs": [],
   "source": [
    "gk=driver9.find_element(By.XPATH,'/html/body/div/div[1]/div/div[1]/div/div[6]/div/div[1]/header/div[3]/ul/li[9]/a') \n",
    "gk.click()"
   ]
  },
  {
   "cell_type": "code",
   "execution_count": 9,
   "id": "d9d3f0ed",
   "metadata": {},
   "outputs": [],
   "source": [
    "iap=driver9.find_element(By.XPATH,'/html/body/div[1]/div/div/div[2]/div/div[10]/div/div/ul/li[2]/a') \n",
    "iap.click()"
   ]
  },
  {
   "cell_type": "code",
   "execution_count": 22,
   "id": "9da05452",
   "metadata": {},
   "outputs": [],
   "source": [
    "pm_names=[]\n",
    "pm_names15=[]\n",
    "pm_names16=[]\n",
    "pm_dob=[]\n",
    "pm_tof=[]\n",
    "pm_remarks=[]"
   ]
  },
  {
   "cell_type": "code",
   "execution_count": 32,
   "id": "4e75377a",
   "metadata": {},
   "outputs": [],
   "source": [
    "names_tags=driver9.find_elements(By.XPATH,'//td[@style=\"width: 150px; height: 80px;\"]') # find elements is used to scrap more than one element.# Relative XPATH\n",
    "for i in names_tags:\n",
    "    pmnames=i.text\n",
    "    pm_names.append(pmnames) # //tag[@class='class name']\n",
    "\n",
    "# scraping the Job location from the given page\n",
    "dob_tags=driver9.find_elements(By.XPATH,'//td[@style=\"width: 105px; height: 80px;\"]') # find elements is used to scrap more than one element.\n",
    "for i in dob_tags:\n",
    "    pmdob=i.text\n",
    "    pm_dob.append(pmdob)\n",
    "    \n",
    "# scraping the company name from the given page\n",
    "tof_tags=driver9.find_elements(By.XPATH,'//td[@style=\"width: 256px; height: 80px;\"]') # find elements is used to scrap more than one element.\n",
    "for i in tof_tags:\n",
    "    pmtof=i.text\n",
    "    pm_tof.append(pmtof)\n",
    "    \n",
    "remarks_tags=driver9.find_elements(By.XPATH,'//td[@style=\"width: 145px; height: 80px;\"]') # find elements is used to scrap more than one element.\n",
    "for i in remarks_tags:\n",
    "    pmremarks=i.text\n",
    "    pm_remarks.append(pmremarks)"
   ]
  },
  {
   "cell_type": "code",
   "execution_count": 16,
   "id": "151e9302",
   "metadata": {},
   "outputs": [
    {
     "data": {
      "text/plain": [
       "['Gulzarilal Nanda (Acting)',\n",
       " 'Gulzari Lal Nanda  (Acting)',\n",
       " 'Indira Gandhi',\n",
       " 'Charan Singh',\n",
       " 'Rajiv Gandhi',\n",
       " 'P. V. Narasimha Rao',\n",
       " 'Atal Bihari Vajpayee',\n",
       " 'H. D. Deve Gowda',\n",
       " 'Inder Kumar Gujral',\n",
       " 'Manmohan Singh']"
      ]
     },
     "execution_count": 16,
     "metadata": {},
     "output_type": "execute_result"
    }
   ],
   "source": [
    "pm_names"
   ]
  },
  {
   "cell_type": "code",
   "execution_count": 20,
   "id": "c24b0c36",
   "metadata": {},
   "outputs": [],
   "source": [
    "names_tags15=driver9.find_elements(By.XPATH,'//td[@style=\"width: 150px; height: 121px;\"]') # find elements is used to scrap more than one element.# Relative XPATH\n",
    "for i in names_tags15:\n",
    "    pmnames15=i.text\n",
    "    pm_names15.append(pmnames15)    "
   ]
  },
  {
   "cell_type": "code",
   "execution_count": 21,
   "id": "2eb83a95",
   "metadata": {},
   "outputs": [
    {
     "data": {
      "text/plain": [
       "['Jawahar Lal Nehru', 'Lal Bahadur Shastri']"
      ]
     },
     "execution_count": 21,
     "metadata": {},
     "output_type": "execute_result"
    }
   ],
   "source": [
    "pm_names15"
   ]
  },
  {
   "cell_type": "code",
   "execution_count": 24,
   "id": "085b1d0a",
   "metadata": {},
   "outputs": [
    {
     "data": {
      "text/plain": [
       "['Morarji Desai', 'Atal Bihari Vajpayee', 'Narendra Modi']"
      ]
     },
     "execution_count": 24,
     "metadata": {},
     "output_type": "execute_result"
    }
   ],
   "source": [
    "pm_names16"
   ]
  },
  {
   "cell_type": "code",
   "execution_count": 33,
   "id": "4d1187be",
   "metadata": {},
   "outputs": [
    {
     "data": {
      "text/plain": [
       "['(1898-1998)',\n",
       " '(1898-1998)',\n",
       " '(1917–1984)',\n",
       " '(1902–1987)',\n",
       " '(1944–1991)',\n",
       " '(1921–2004)',\n",
       " '(1924- 2018)',\n",
       " '(born 1933)',\n",
       " '(1919–2012)',\n",
       " '(born 1932)']"
      ]
     },
     "execution_count": 33,
     "metadata": {},
     "output_type": "execute_result"
    }
   ],
   "source": [
    "pm_dob"
   ]
  },
  {
   "cell_type": "code",
   "execution_count": 34,
   "id": "2aabbf32",
   "metadata": {},
   "outputs": [
    {
     "data": {
      "text/plain": [
       "['27 May 1964 to 9 June 1964,\\n13 days',\n",
       " '11 January 1966 to 24 January 1966\\n13 days',\n",
       " '24 January 1966 to 24 March 1977\\n11 years, 59 days',\n",
       " '28 July 1979 to 14 January 1980\\n170 days',\n",
       " '31 October 1984 to 2 December 1989\\n5 years, 32 days',\n",
       " '21 June 1991 to 16 May 1996\\n4 years, 330 days',\n",
       " '16 May 1996 to 1 June 1996\\n16 days',\n",
       " '1 June 1996 to 21 April 1997\\n324 days',\n",
       " '21 April 1997 to 19 March 1998 \\n332 days',\n",
       " '22 May 2004 to 26 May 2014   \\n10 years, 4 days']"
      ]
     },
     "execution_count": 34,
     "metadata": {},
     "output_type": "execute_result"
    }
   ],
   "source": [
    "pm_tof"
   ]
  },
  {
   "cell_type": "code",
   "execution_count": 35,
   "id": "08b34ef3",
   "metadata": {},
   "outputs": [
    {
     "data": {
      "text/plain": [
       "['First acting PM of India',\n",
       " '-',\n",
       " 'First female Prime Minister of India',\n",
       " 'Only PM who did not face the Parliament',\n",
       " 'Youngest to become PM (40 years old)',\n",
       " 'First PM from south India',\n",
       " 'PM for shortest tenure',\n",
       " 'He belongs to  Janata Dal',\n",
       " '------',\n",
       " ' First Sikh PM']"
      ]
     },
     "execution_count": 35,
     "metadata": {},
     "output_type": "execute_result"
    }
   ],
   "source": [
    "pm_remarks"
   ]
  },
  {
   "cell_type": "code",
   "execution_count": 36,
   "id": "a9268394",
   "metadata": {},
   "outputs": [
    {
     "data": {
      "text/html": [
       "<div>\n",
       "<style scoped>\n",
       "    .dataframe tbody tr th:only-of-type {\n",
       "        vertical-align: middle;\n",
       "    }\n",
       "\n",
       "    .dataframe tbody tr th {\n",
       "        vertical-align: top;\n",
       "    }\n",
       "\n",
       "    .dataframe thead th {\n",
       "        text-align: right;\n",
       "    }\n",
       "</style>\n",
       "<table border=\"1\" class=\"dataframe\">\n",
       "  <thead>\n",
       "    <tr style=\"text-align: right;\">\n",
       "      <th></th>\n",
       "      <th>Name</th>\n",
       "      <th>Born-Dead</th>\n",
       "      <th>Term of office</th>\n",
       "      <th>Remarks</th>\n",
       "    </tr>\n",
       "  </thead>\n",
       "  <tbody>\n",
       "    <tr>\n",
       "      <th>0</th>\n",
       "      <td>Gulzarilal Nanda (Acting)</td>\n",
       "      <td>(1898-1998)</td>\n",
       "      <td>27 May 1964 to 9 June 1964,\\n13 days</td>\n",
       "      <td>First acting PM of India</td>\n",
       "    </tr>\n",
       "    <tr>\n",
       "      <th>1</th>\n",
       "      <td>Gulzari Lal Nanda  (Acting)</td>\n",
       "      <td>(1898-1998)</td>\n",
       "      <td>11 January 1966 to 24 January 1966\\n13 days</td>\n",
       "      <td>-</td>\n",
       "    </tr>\n",
       "    <tr>\n",
       "      <th>2</th>\n",
       "      <td>Indira Gandhi</td>\n",
       "      <td>(1917–1984)</td>\n",
       "      <td>24 January 1966 to 24 March 1977\\n11 years, 59...</td>\n",
       "      <td>First female Prime Minister of India</td>\n",
       "    </tr>\n",
       "    <tr>\n",
       "      <th>3</th>\n",
       "      <td>Charan Singh</td>\n",
       "      <td>(1902–1987)</td>\n",
       "      <td>28 July 1979 to 14 January 1980\\n170 days</td>\n",
       "      <td>Only PM who did not face the Parliament</td>\n",
       "    </tr>\n",
       "    <tr>\n",
       "      <th>4</th>\n",
       "      <td>Rajiv Gandhi</td>\n",
       "      <td>(1944–1991)</td>\n",
       "      <td>31 October 1984 to 2 December 1989\\n5 years, 3...</td>\n",
       "      <td>Youngest to become PM (40 years old)</td>\n",
       "    </tr>\n",
       "    <tr>\n",
       "      <th>5</th>\n",
       "      <td>P. V. Narasimha Rao</td>\n",
       "      <td>(1921–2004)</td>\n",
       "      <td>21 June 1991 to 16 May 1996\\n4 years, 330 days</td>\n",
       "      <td>First PM from south India</td>\n",
       "    </tr>\n",
       "    <tr>\n",
       "      <th>6</th>\n",
       "      <td>Atal Bihari Vajpayee</td>\n",
       "      <td>(1924- 2018)</td>\n",
       "      <td>16 May 1996 to 1 June 1996\\n16 days</td>\n",
       "      <td>PM for shortest tenure</td>\n",
       "    </tr>\n",
       "    <tr>\n",
       "      <th>7</th>\n",
       "      <td>H. D. Deve Gowda</td>\n",
       "      <td>(born 1933)</td>\n",
       "      <td>1 June 1996 to 21 April 1997\\n324 days</td>\n",
       "      <td>He belongs to  Janata Dal</td>\n",
       "    </tr>\n",
       "    <tr>\n",
       "      <th>8</th>\n",
       "      <td>Inder Kumar Gujral</td>\n",
       "      <td>(1919–2012)</td>\n",
       "      <td>21 April 1997 to 19 March 1998 \\n332 days</td>\n",
       "      <td>------</td>\n",
       "    </tr>\n",
       "    <tr>\n",
       "      <th>9</th>\n",
       "      <td>Manmohan Singh</td>\n",
       "      <td>(born 1932)</td>\n",
       "      <td>22 May 2004 to 26 May 2014   \\n10 years, 4 days</td>\n",
       "      <td>First Sikh PM</td>\n",
       "    </tr>\n",
       "  </tbody>\n",
       "</table>\n",
       "</div>"
      ],
      "text/plain": [
       "                          Name     Born-Dead  \\\n",
       "0    Gulzarilal Nanda (Acting)   (1898-1998)   \n",
       "1  Gulzari Lal Nanda  (Acting)   (1898-1998)   \n",
       "2                Indira Gandhi   (1917–1984)   \n",
       "3                 Charan Singh   (1902–1987)   \n",
       "4                 Rajiv Gandhi   (1944–1991)   \n",
       "5          P. V. Narasimha Rao   (1921–2004)   \n",
       "6         Atal Bihari Vajpayee  (1924- 2018)   \n",
       "7             H. D. Deve Gowda   (born 1933)   \n",
       "8           Inder Kumar Gujral   (1919–2012)   \n",
       "9               Manmohan Singh   (born 1932)   \n",
       "\n",
       "                                      Term of office  \\\n",
       "0               27 May 1964 to 9 June 1964,\\n13 days   \n",
       "1        11 January 1966 to 24 January 1966\\n13 days   \n",
       "2  24 January 1966 to 24 March 1977\\n11 years, 59...   \n",
       "3          28 July 1979 to 14 January 1980\\n170 days   \n",
       "4  31 October 1984 to 2 December 1989\\n5 years, 3...   \n",
       "5     21 June 1991 to 16 May 1996\\n4 years, 330 days   \n",
       "6                16 May 1996 to 1 June 1996\\n16 days   \n",
       "7             1 June 1996 to 21 April 1997\\n324 days   \n",
       "8          21 April 1997 to 19 March 1998 \\n332 days   \n",
       "9    22 May 2004 to 26 May 2014   \\n10 years, 4 days   \n",
       "\n",
       "                                   Remarks  \n",
       "0                 First acting PM of India  \n",
       "1                                        -  \n",
       "2     First female Prime Minister of India  \n",
       "3  Only PM who did not face the Parliament  \n",
       "4     Youngest to become PM (40 years old)  \n",
       "5                First PM from south India  \n",
       "6                   PM for shortest tenure  \n",
       "7                He belongs to  Janata Dal  \n",
       "8                                   ------  \n",
       "9                            First Sikh PM  "
      ]
     },
     "execution_count": 36,
     "metadata": {},
     "output_type": "execute_result"
    }
   ],
   "source": [
    "df9=pd.DataFrame({'Name':pm_names,'Born-Dead':pm_dob,'Term of office':pm_tof,'Remarks':pm_remarks})\n",
    "df9"
   ]
  },
  {
   "cell_type": "markdown",
   "id": "89a11c86",
   "metadata": {},
   "source": [
    "### Answer No.10"
   ]
  },
  {
   "cell_type": "code",
   "execution_count": 37,
   "id": "d2e24089",
   "metadata": {},
   "outputs": [],
   "source": [
    "# first connect with the driver\n",
    "driver10=webdriver.Chrome(r\"C:\\Users\\ASUS\\Downloads\\chromedriver_win32 (3)\\chromedriver.exe\")# first connect with the driver"
   ]
  },
  {
   "cell_type": "code",
   "execution_count": 38,
   "id": "257abd1d",
   "metadata": {},
   "outputs": [],
   "source": [
    "driver10.get(\"https://www.motor1.com/\")"
   ]
  },
  {
   "cell_type": "code",
   "execution_count": 41,
   "id": "5cd418b7",
   "metadata": {},
   "outputs": [],
   "source": [
    "features=driver10.find_element(By.XPATH,'/html/body/div[3]/div[2]/div/div/div[1]') \n",
    "features.click()"
   ]
  },
  {
   "cell_type": "code",
   "execution_count": 42,
   "id": "97f5c2f0",
   "metadata": {},
   "outputs": [],
   "source": [
    "button=driver10.find_element(By.XPATH,'/html/body/div[4]/div[1]/div[3]/ul/li[5]/a') \n",
    "button.click()"
   ]
  },
  {
   "cell_type": "code",
   "execution_count": 44,
   "id": "133b28c0",
   "metadata": {},
   "outputs": [],
   "source": [
    "buttonpage=driver10.find_element(By.XPATH,'/html/body/div[3]/div[7]/div/div[1]/div[1]/div[2]/div/div[1]/h3/a') \n",
    "buttonpage.click()"
   ]
  },
  {
   "cell_type": "code",
   "execution_count": 80,
   "id": "7c355d34",
   "metadata": {},
   "outputs": [],
   "source": [
    "car_names=[]\n",
    "car_price=[]"
   ]
  },
  {
   "cell_type": "code",
   "execution_count": 81,
   "id": "5dc72630",
   "metadata": {},
   "outputs": [],
   "source": [
    "car_names_tags=driver10.find_elements(By.XPATH,'//h3[@class=\"subheader\"]') # find elements is used to scrap more than one element.# Relative XPATH\n",
    "for i in car_names_tags:\n",
    "    pmnames25=i.text\n",
    "    car_names.append(pmnames25)  # //tag[@class='class name']"
   ]
  },
  {
   "cell_type": "code",
   "execution_count": 82,
   "id": "c63730d7",
   "metadata": {},
   "outputs": [
    {
     "data": {
      "text/plain": [
       "['De Tomaso P72',\n",
       " 'Ferrari LaFerrari',\n",
       " 'Pagani Huayra',\n",
       " 'McLaren Elva',\n",
       " 'Czinger 21C',\n",
       " 'Ferrari Monza',\n",
       " 'Gordon Murray T.33',\n",
       " 'Koenigsegg Gemera',\n",
       " 'Zenvo TSR-S',\n",
       " 'Hennessey Venom F5',\n",
       " 'Bentley Bacalar',\n",
       " 'Hispano Suiza Carmen Boulogne',\n",
       " 'Bentley Mulliner Batur',\n",
       " 'Deus Vayanne',\n",
       " 'SSC Tuatara',\n",
       " 'Lotus Evija',\n",
       " 'Aston Martin Vulcan',\n",
       " 'Delage D12',\n",
       " 'McLaren Speedtail',\n",
       " 'Rimac Nevera',\n",
       " 'Pagani Utopia',\n",
       " 'Pininfarina Battista',\n",
       " 'Ferrari FXX K Evo',\n",
       " 'Gordon Murray T.50',\n",
       " 'Lamborghini Countach',\n",
       " 'Mercedes-AMG Project One',\n",
       " 'Aston Martin Victor',\n",
       " 'Hennessey Venom F5 Roadster',\n",
       " 'Koenigsegg Jesko',\n",
       " 'Aston Martin Valkyrie',\n",
       " 'W Motors Lykan Hypersport',\n",
       " 'McLaren Solus',\n",
       " 'Pagani Huayra Roadster BC',\n",
       " 'Bugatti Chiron Pur Sport',\n",
       " 'Lamborghini Sian',\n",
       " 'Koenigsegg CC850',\n",
       " 'Bugatti Chiron Super Sport 300+',\n",
       " 'Lamborghini Veneno',\n",
       " 'Bugatti Bolide',\n",
       " 'Bugatti Mistral',\n",
       " 'Pagani Huayra Imola',\n",
       " 'Bugatti Divo',\n",
       " 'SP Automotive Chaos',\n",
       " 'Pagani Codalunga',\n",
       " 'Mercedes-Maybach Exelero',\n",
       " 'Bugatti Centodieci',\n",
       " 'Bugatti Chiron Profilée',\n",
       " 'Rolls-Royce Sweptail',\n",
       " 'Bugatti La Voiture Noire',\n",
       " 'Rolls-Royce Boat Tail*',\n",
       " 'Most Expensive Cars In The World']"
      ]
     },
     "execution_count": 82,
     "metadata": {},
     "output_type": "execute_result"
    }
   ],
   "source": [
    "car_names"
   ]
  },
  {
   "cell_type": "code",
   "execution_count": 83,
   "id": "ce0542fe",
   "metadata": {},
   "outputs": [],
   "source": [
    "car_price_tags=driver10.find_elements(By.XPATH,\"//strong\") # find elements is used to scrap more than one element.\n",
    "for i in car_price_tags:\n",
    "    pmdob26=i.text\n",
    "    car_price.append(pmdob26)"
   ]
  },
  {
   "cell_type": "code",
   "execution_count": 84,
   "id": "042edc51",
   "metadata": {},
   "outputs": [
    {
     "data": {
      "text/plain": [
       "['Price: $1.3 Million',\n",
       " 'Price: $1.4 Million',\n",
       " 'Price: $1.4 Million',\n",
       " '',\n",
       " 'Price: $1.7 Million',\n",
       " 'Price: $1.7 Million',\n",
       " 'Price: $1.7 Million',\n",
       " 'Price: $1.7 Million',\n",
       " 'Price: $1.7 Million',\n",
       " 'Price: $1.7 Million',\n",
       " 'Price: $1.8 Million',\n",
       " 'Price: $1.9 Million',\n",
       " 'Price: $1.9 Million',\n",
       " 'Price: $2.0 Million',\n",
       " 'Price: $2.0 Million',\n",
       " 'Price: $2.0 Million*',\n",
       " 'Price: $2.1 Million',\n",
       " 'Price: $2.3 Million',\n",
       " 'Price: $2.3 Million',\n",
       " 'Price: $2.3 Million',\n",
       " 'Price: $2.4 Million',\n",
       " 'Price: $2.5 Million',\n",
       " 'Price: $2.5 Million',\n",
       " 'Price: $2.6 Million',\n",
       " 'Price: $2.6 Million',\n",
       " 'Price: $2.6 Million',\n",
       " 'Price: $2.7 Million',\n",
       " 'Price: $3.0 Million',\n",
       " '$3.0 Million',\n",
       " 'Price: $3.0 Million',\n",
       " 'Price: $3.2 Million',\n",
       " 'Price: $3.4 Million',\n",
       " '$3.5 Million',\n",
       " 'Price: $3.5 Million',\n",
       " 'Price: $3.6 Million',\n",
       " 'Price: $3.6 million',\n",
       " 'Price: $3.7 Million',\n",
       " 'Price: $3.9 Million',\n",
       " 'Price: $4.5 Million',\n",
       " 'Price: $4.7 Million',\n",
       " 'Price: $5.0 Million',\n",
       " 'Price: $5.4 Million',\n",
       " 'Price: $5.8 Million',\n",
       " 'Price: $6.4 Million',\n",
       " 'Price: $7.4 Million',\n",
       " 'Price: $8.0 Million',\n",
       " 'Price: $9.0 Million',\n",
       " 'Price: $10.8 Million',\n",
       " 'Price: $12.8 Million',\n",
       " 'Price: $13.4 Million',\n",
       " 'Price: $28.0 Million (est.)']"
      ]
     },
     "execution_count": 84,
     "metadata": {},
     "output_type": "execute_result"
    }
   ],
   "source": [
    "car_price"
   ]
  },
  {
   "cell_type": "code",
   "execution_count": 85,
   "id": "bf7c7b1f",
   "metadata": {},
   "outputs": [
    {
     "data": {
      "text/plain": [
       "51"
      ]
     },
     "execution_count": 85,
     "metadata": {},
     "output_type": "execute_result"
    }
   ],
   "source": [
    "len(car_names)"
   ]
  },
  {
   "cell_type": "code",
   "execution_count": 86,
   "id": "0688318d",
   "metadata": {},
   "outputs": [
    {
     "data": {
      "text/plain": [
       "51"
      ]
     },
     "execution_count": 86,
     "metadata": {},
     "output_type": "execute_result"
    }
   ],
   "source": [
    "len(car_price)"
   ]
  },
  {
   "cell_type": "code",
   "execution_count": 87,
   "id": "c531fbb7",
   "metadata": {},
   "outputs": [
    {
     "data": {
      "text/html": [
       "<div>\n",
       "<style scoped>\n",
       "    .dataframe tbody tr th:only-of-type {\n",
       "        vertical-align: middle;\n",
       "    }\n",
       "\n",
       "    .dataframe tbody tr th {\n",
       "        vertical-align: top;\n",
       "    }\n",
       "\n",
       "    .dataframe thead th {\n",
       "        text-align: right;\n",
       "    }\n",
       "</style>\n",
       "<table border=\"1\" class=\"dataframe\">\n",
       "  <thead>\n",
       "    <tr style=\"text-align: right;\">\n",
       "      <th></th>\n",
       "      <th>Car name</th>\n",
       "      <th>Car Price</th>\n",
       "    </tr>\n",
       "  </thead>\n",
       "  <tbody>\n",
       "    <tr>\n",
       "      <th>0</th>\n",
       "      <td>De Tomaso P72</td>\n",
       "      <td>Price: $1.3 Million</td>\n",
       "    </tr>\n",
       "    <tr>\n",
       "      <th>1</th>\n",
       "      <td>Ferrari LaFerrari</td>\n",
       "      <td>Price: $1.4 Million</td>\n",
       "    </tr>\n",
       "    <tr>\n",
       "      <th>2</th>\n",
       "      <td>Pagani Huayra</td>\n",
       "      <td>Price: $1.4 Million</td>\n",
       "    </tr>\n",
       "    <tr>\n",
       "      <th>3</th>\n",
       "      <td>McLaren Elva</td>\n",
       "      <td></td>\n",
       "    </tr>\n",
       "    <tr>\n",
       "      <th>4</th>\n",
       "      <td>Czinger 21C</td>\n",
       "      <td>Price: $1.7 Million</td>\n",
       "    </tr>\n",
       "    <tr>\n",
       "      <th>5</th>\n",
       "      <td>Ferrari Monza</td>\n",
       "      <td>Price: $1.7 Million</td>\n",
       "    </tr>\n",
       "    <tr>\n",
       "      <th>6</th>\n",
       "      <td>Gordon Murray T.33</td>\n",
       "      <td>Price: $1.7 Million</td>\n",
       "    </tr>\n",
       "    <tr>\n",
       "      <th>7</th>\n",
       "      <td>Koenigsegg Gemera</td>\n",
       "      <td>Price: $1.7 Million</td>\n",
       "    </tr>\n",
       "    <tr>\n",
       "      <th>8</th>\n",
       "      <td>Zenvo TSR-S</td>\n",
       "      <td>Price: $1.7 Million</td>\n",
       "    </tr>\n",
       "    <tr>\n",
       "      <th>9</th>\n",
       "      <td>Hennessey Venom F5</td>\n",
       "      <td>Price: $1.7 Million</td>\n",
       "    </tr>\n",
       "    <tr>\n",
       "      <th>10</th>\n",
       "      <td>Bentley Bacalar</td>\n",
       "      <td>Price: $1.8 Million</td>\n",
       "    </tr>\n",
       "    <tr>\n",
       "      <th>11</th>\n",
       "      <td>Hispano Suiza Carmen Boulogne</td>\n",
       "      <td>Price: $1.9 Million</td>\n",
       "    </tr>\n",
       "    <tr>\n",
       "      <th>12</th>\n",
       "      <td>Bentley Mulliner Batur</td>\n",
       "      <td>Price: $1.9 Million</td>\n",
       "    </tr>\n",
       "    <tr>\n",
       "      <th>13</th>\n",
       "      <td>Deus Vayanne</td>\n",
       "      <td>Price: $2.0 Million</td>\n",
       "    </tr>\n",
       "    <tr>\n",
       "      <th>14</th>\n",
       "      <td>SSC Tuatara</td>\n",
       "      <td>Price: $2.0 Million</td>\n",
       "    </tr>\n",
       "    <tr>\n",
       "      <th>15</th>\n",
       "      <td>Lotus Evija</td>\n",
       "      <td>Price: $2.0 Million*</td>\n",
       "    </tr>\n",
       "    <tr>\n",
       "      <th>16</th>\n",
       "      <td>Aston Martin Vulcan</td>\n",
       "      <td>Price: $2.1 Million</td>\n",
       "    </tr>\n",
       "    <tr>\n",
       "      <th>17</th>\n",
       "      <td>Delage D12</td>\n",
       "      <td>Price: $2.3 Million</td>\n",
       "    </tr>\n",
       "    <tr>\n",
       "      <th>18</th>\n",
       "      <td>McLaren Speedtail</td>\n",
       "      <td>Price: $2.3 Million</td>\n",
       "    </tr>\n",
       "    <tr>\n",
       "      <th>19</th>\n",
       "      <td>Rimac Nevera</td>\n",
       "      <td>Price: $2.3 Million</td>\n",
       "    </tr>\n",
       "    <tr>\n",
       "      <th>20</th>\n",
       "      <td>Pagani Utopia</td>\n",
       "      <td>Price: $2.4 Million</td>\n",
       "    </tr>\n",
       "    <tr>\n",
       "      <th>21</th>\n",
       "      <td>Pininfarina Battista</td>\n",
       "      <td>Price: $2.5 Million</td>\n",
       "    </tr>\n",
       "    <tr>\n",
       "      <th>22</th>\n",
       "      <td>Ferrari FXX K Evo</td>\n",
       "      <td>Price: $2.5 Million</td>\n",
       "    </tr>\n",
       "    <tr>\n",
       "      <th>23</th>\n",
       "      <td>Gordon Murray T.50</td>\n",
       "      <td>Price: $2.6 Million</td>\n",
       "    </tr>\n",
       "    <tr>\n",
       "      <th>24</th>\n",
       "      <td>Lamborghini Countach</td>\n",
       "      <td>Price: $2.6 Million</td>\n",
       "    </tr>\n",
       "    <tr>\n",
       "      <th>25</th>\n",
       "      <td>Mercedes-AMG Project One</td>\n",
       "      <td>Price: $2.6 Million</td>\n",
       "    </tr>\n",
       "    <tr>\n",
       "      <th>26</th>\n",
       "      <td>Aston Martin Victor</td>\n",
       "      <td>Price: $2.7 Million</td>\n",
       "    </tr>\n",
       "    <tr>\n",
       "      <th>27</th>\n",
       "      <td>Hennessey Venom F5 Roadster</td>\n",
       "      <td>Price: $3.0 Million</td>\n",
       "    </tr>\n",
       "    <tr>\n",
       "      <th>28</th>\n",
       "      <td>Koenigsegg Jesko</td>\n",
       "      <td>$3.0 Million</td>\n",
       "    </tr>\n",
       "    <tr>\n",
       "      <th>29</th>\n",
       "      <td>Aston Martin Valkyrie</td>\n",
       "      <td>Price: $3.0 Million</td>\n",
       "    </tr>\n",
       "    <tr>\n",
       "      <th>30</th>\n",
       "      <td>W Motors Lykan Hypersport</td>\n",
       "      <td>Price: $3.2 Million</td>\n",
       "    </tr>\n",
       "    <tr>\n",
       "      <th>31</th>\n",
       "      <td>McLaren Solus</td>\n",
       "      <td>Price: $3.4 Million</td>\n",
       "    </tr>\n",
       "    <tr>\n",
       "      <th>32</th>\n",
       "      <td>Pagani Huayra Roadster BC</td>\n",
       "      <td>$3.5 Million</td>\n",
       "    </tr>\n",
       "    <tr>\n",
       "      <th>33</th>\n",
       "      <td>Bugatti Chiron Pur Sport</td>\n",
       "      <td>Price: $3.5 Million</td>\n",
       "    </tr>\n",
       "    <tr>\n",
       "      <th>34</th>\n",
       "      <td>Lamborghini Sian</td>\n",
       "      <td>Price: $3.6 Million</td>\n",
       "    </tr>\n",
       "    <tr>\n",
       "      <th>35</th>\n",
       "      <td>Koenigsegg CC850</td>\n",
       "      <td>Price: $3.6 million</td>\n",
       "    </tr>\n",
       "    <tr>\n",
       "      <th>36</th>\n",
       "      <td>Bugatti Chiron Super Sport 300+</td>\n",
       "      <td>Price: $3.7 Million</td>\n",
       "    </tr>\n",
       "    <tr>\n",
       "      <th>37</th>\n",
       "      <td>Lamborghini Veneno</td>\n",
       "      <td>Price: $3.9 Million</td>\n",
       "    </tr>\n",
       "    <tr>\n",
       "      <th>38</th>\n",
       "      <td>Bugatti Bolide</td>\n",
       "      <td>Price: $4.5 Million</td>\n",
       "    </tr>\n",
       "    <tr>\n",
       "      <th>39</th>\n",
       "      <td>Bugatti Mistral</td>\n",
       "      <td>Price: $4.7 Million</td>\n",
       "    </tr>\n",
       "    <tr>\n",
       "      <th>40</th>\n",
       "      <td>Pagani Huayra Imola</td>\n",
       "      <td>Price: $5.0 Million</td>\n",
       "    </tr>\n",
       "    <tr>\n",
       "      <th>41</th>\n",
       "      <td>Bugatti Divo</td>\n",
       "      <td>Price: $5.4 Million</td>\n",
       "    </tr>\n",
       "    <tr>\n",
       "      <th>42</th>\n",
       "      <td>SP Automotive Chaos</td>\n",
       "      <td>Price: $5.8 Million</td>\n",
       "    </tr>\n",
       "    <tr>\n",
       "      <th>43</th>\n",
       "      <td>Pagani Codalunga</td>\n",
       "      <td>Price: $6.4 Million</td>\n",
       "    </tr>\n",
       "    <tr>\n",
       "      <th>44</th>\n",
       "      <td>Mercedes-Maybach Exelero</td>\n",
       "      <td>Price: $7.4 Million</td>\n",
       "    </tr>\n",
       "    <tr>\n",
       "      <th>45</th>\n",
       "      <td>Bugatti Centodieci</td>\n",
       "      <td>Price: $8.0 Million</td>\n",
       "    </tr>\n",
       "    <tr>\n",
       "      <th>46</th>\n",
       "      <td>Bugatti Chiron Profilée</td>\n",
       "      <td>Price: $9.0 Million</td>\n",
       "    </tr>\n",
       "    <tr>\n",
       "      <th>47</th>\n",
       "      <td>Rolls-Royce Sweptail</td>\n",
       "      <td>Price: $10.8 Million</td>\n",
       "    </tr>\n",
       "    <tr>\n",
       "      <th>48</th>\n",
       "      <td>Bugatti La Voiture Noire</td>\n",
       "      <td>Price: $12.8 Million</td>\n",
       "    </tr>\n",
       "    <tr>\n",
       "      <th>49</th>\n",
       "      <td>Rolls-Royce Boat Tail*</td>\n",
       "      <td>Price: $13.4 Million</td>\n",
       "    </tr>\n",
       "    <tr>\n",
       "      <th>50</th>\n",
       "      <td>Most Expensive Cars In The World</td>\n",
       "      <td>Price: $28.0 Million (est.)</td>\n",
       "    </tr>\n",
       "  </tbody>\n",
       "</table>\n",
       "</div>"
      ],
      "text/plain": [
       "                            Car name                    Car Price\n",
       "0                      De Tomaso P72          Price: $1.3 Million\n",
       "1                  Ferrari LaFerrari          Price: $1.4 Million\n",
       "2                      Pagani Huayra          Price: $1.4 Million\n",
       "3                       McLaren Elva                             \n",
       "4                        Czinger 21C          Price: $1.7 Million\n",
       "5                      Ferrari Monza          Price: $1.7 Million\n",
       "6                 Gordon Murray T.33          Price: $1.7 Million\n",
       "7                  Koenigsegg Gemera          Price: $1.7 Million\n",
       "8                        Zenvo TSR-S          Price: $1.7 Million\n",
       "9                 Hennessey Venom F5          Price: $1.7 Million\n",
       "10                   Bentley Bacalar          Price: $1.8 Million\n",
       "11     Hispano Suiza Carmen Boulogne          Price: $1.9 Million\n",
       "12            Bentley Mulliner Batur          Price: $1.9 Million\n",
       "13                      Deus Vayanne          Price: $2.0 Million\n",
       "14                       SSC Tuatara          Price: $2.0 Million\n",
       "15                       Lotus Evija         Price: $2.0 Million*\n",
       "16               Aston Martin Vulcan          Price: $2.1 Million\n",
       "17                        Delage D12          Price: $2.3 Million\n",
       "18                 McLaren Speedtail          Price: $2.3 Million\n",
       "19                      Rimac Nevera          Price: $2.3 Million\n",
       "20                     Pagani Utopia          Price: $2.4 Million\n",
       "21              Pininfarina Battista          Price: $2.5 Million\n",
       "22                 Ferrari FXX K Evo          Price: $2.5 Million\n",
       "23                Gordon Murray T.50          Price: $2.6 Million\n",
       "24              Lamborghini Countach          Price: $2.6 Million\n",
       "25          Mercedes-AMG Project One          Price: $2.6 Million\n",
       "26               Aston Martin Victor          Price: $2.7 Million\n",
       "27       Hennessey Venom F5 Roadster          Price: $3.0 Million\n",
       "28                  Koenigsegg Jesko                 $3.0 Million\n",
       "29             Aston Martin Valkyrie          Price: $3.0 Million\n",
       "30         W Motors Lykan Hypersport          Price: $3.2 Million\n",
       "31                     McLaren Solus          Price: $3.4 Million\n",
       "32         Pagani Huayra Roadster BC                 $3.5 Million\n",
       "33          Bugatti Chiron Pur Sport          Price: $3.5 Million\n",
       "34                  Lamborghini Sian          Price: $3.6 Million\n",
       "35                  Koenigsegg CC850          Price: $3.6 million\n",
       "36   Bugatti Chiron Super Sport 300+          Price: $3.7 Million\n",
       "37                Lamborghini Veneno          Price: $3.9 Million\n",
       "38                    Bugatti Bolide          Price: $4.5 Million\n",
       "39                   Bugatti Mistral          Price: $4.7 Million\n",
       "40               Pagani Huayra Imola          Price: $5.0 Million\n",
       "41                      Bugatti Divo          Price: $5.4 Million\n",
       "42               SP Automotive Chaos          Price: $5.8 Million\n",
       "43                  Pagani Codalunga          Price: $6.4 Million\n",
       "44          Mercedes-Maybach Exelero          Price: $7.4 Million\n",
       "45                Bugatti Centodieci          Price: $8.0 Million\n",
       "46           Bugatti Chiron Profilée          Price: $9.0 Million\n",
       "47              Rolls-Royce Sweptail         Price: $10.8 Million\n",
       "48          Bugatti La Voiture Noire         Price: $12.8 Million\n",
       "49            Rolls-Royce Boat Tail*         Price: $13.4 Million\n",
       "50  Most Expensive Cars In The World  Price: $28.0 Million (est.)"
      ]
     },
     "execution_count": 87,
     "metadata": {},
     "output_type": "execute_result"
    }
   ],
   "source": [
    "df10=pd.DataFrame({'Car name':car_names,'Car Price':car_price})\n",
    "df10"
   ]
  }
 ],
 "metadata": {
  "kernelspec": {
   "display_name": "Python 3 (ipykernel)",
   "language": "python",
   "name": "python3"
  },
  "language_info": {
   "codemirror_mode": {
    "name": "ipython",
    "version": 3
   },
   "file_extension": ".py",
   "mimetype": "text/x-python",
   "name": "python",
   "nbconvert_exporter": "python",
   "pygments_lexer": "ipython3",
   "version": "3.9.12"
  }
 },
 "nbformat": 4,
 "nbformat_minor": 5
}
